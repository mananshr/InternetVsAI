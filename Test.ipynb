{
 "cells": [
  {
   "cell_type": "code",
   "execution_count": 2,
   "metadata": {},
   "outputs": [],
   "source": [
    "import pandas as pd\n",
    "import plotly.express as px"
   ]
  },
  {
   "cell_type": "code",
   "execution_count": 3,
   "metadata": {},
   "outputs": [
    {
     "data": {
      "text/html": [
       "<div>\n",
       "<style scoped>\n",
       "    .dataframe tbody tr th:only-of-type {\n",
       "        vertical-align: middle;\n",
       "    }\n",
       "\n",
       "    .dataframe tbody tr th {\n",
       "        vertical-align: top;\n",
       "    }\n",
       "\n",
       "    .dataframe thead th {\n",
       "        text-align: right;\n",
       "    }\n",
       "</style>\n",
       "<table border=\"1\" class=\"dataframe\">\n",
       "  <thead>\n",
       "    <tr style=\"text-align: right;\">\n",
       "      <th></th>\n",
       "      <th>Entity</th>\n",
       "      <th>Code</th>\n",
       "      <th>Year</th>\n",
       "      <th>Fixed broadband subscriptions</th>\n",
       "    </tr>\n",
       "  </thead>\n",
       "  <tbody>\n",
       "    <tr>\n",
       "      <th>0</th>\n",
       "      <td>Afghanistan</td>\n",
       "      <td>AFG</td>\n",
       "      <td>2004</td>\n",
       "      <td>0.000809</td>\n",
       "    </tr>\n",
       "    <tr>\n",
       "      <th>1</th>\n",
       "      <td>Afghanistan</td>\n",
       "      <td>AFG</td>\n",
       "      <td>2005</td>\n",
       "      <td>0.000858</td>\n",
       "    </tr>\n",
       "    <tr>\n",
       "      <th>2</th>\n",
       "      <td>Afghanistan</td>\n",
       "      <td>AFG</td>\n",
       "      <td>2006</td>\n",
       "      <td>0.001892</td>\n",
       "    </tr>\n",
       "    <tr>\n",
       "      <th>3</th>\n",
       "      <td>Afghanistan</td>\n",
       "      <td>AFG</td>\n",
       "      <td>2007</td>\n",
       "      <td>0.001845</td>\n",
       "    </tr>\n",
       "    <tr>\n",
       "      <th>4</th>\n",
       "      <td>Afghanistan</td>\n",
       "      <td>AFG</td>\n",
       "      <td>2008</td>\n",
       "      <td>0.001804</td>\n",
       "    </tr>\n",
       "    <tr>\n",
       "      <th>...</th>\n",
       "      <td>...</td>\n",
       "      <td>...</td>\n",
       "      <td>...</td>\n",
       "      <td>...</td>\n",
       "    </tr>\n",
       "    <tr>\n",
       "      <th>4170</th>\n",
       "      <td>Zimbabwe</td>\n",
       "      <td>ZWE</td>\n",
       "      <td>2015</td>\n",
       "      <td>1.187053</td>\n",
       "    </tr>\n",
       "    <tr>\n",
       "      <th>4171</th>\n",
       "      <td>Zimbabwe</td>\n",
       "      <td>ZWE</td>\n",
       "      <td>2016</td>\n",
       "      <td>1.217633</td>\n",
       "    </tr>\n",
       "    <tr>\n",
       "      <th>4172</th>\n",
       "      <td>Zimbabwe</td>\n",
       "      <td>ZWE</td>\n",
       "      <td>2017</td>\n",
       "      <td>1.315694</td>\n",
       "    </tr>\n",
       "    <tr>\n",
       "      <th>4173</th>\n",
       "      <td>Zimbabwe</td>\n",
       "      <td>ZWE</td>\n",
       "      <td>2018</td>\n",
       "      <td>1.406322</td>\n",
       "    </tr>\n",
       "    <tr>\n",
       "      <th>4174</th>\n",
       "      <td>Zimbabwe</td>\n",
       "      <td>ZWE</td>\n",
       "      <td>2019</td>\n",
       "      <td>1.395817</td>\n",
       "    </tr>\n",
       "  </tbody>\n",
       "</table>\n",
       "<p>4175 rows × 4 columns</p>\n",
       "</div>"
      ],
      "text/plain": [
       "           Entity Code  Year  Fixed broadband subscriptions\n",
       "0     Afghanistan  AFG  2004                       0.000809\n",
       "1     Afghanistan  AFG  2005                       0.000858\n",
       "2     Afghanistan  AFG  2006                       0.001892\n",
       "3     Afghanistan  AFG  2007                       0.001845\n",
       "4     Afghanistan  AFG  2008                       0.001804\n",
       "...           ...  ...   ...                            ...\n",
       "4170     Zimbabwe  ZWE  2015                       1.187053\n",
       "4171     Zimbabwe  ZWE  2016                       1.217633\n",
       "4172     Zimbabwe  ZWE  2017                       1.315694\n",
       "4173     Zimbabwe  ZWE  2018                       1.406322\n",
       "4174     Zimbabwe  ZWE  2019                       1.395817\n",
       "\n",
       "[4175 rows x 4 columns]"
      ]
     },
     "execution_count": 3,
     "metadata": {},
     "output_type": "execute_result"
    }
   ],
   "source": [
    "\n",
    "df = pd.read_csv(\"data/broadband-penetration-by-country.csv\")\n",
    "df = df.rename(columns={\"Fixed broadband subscriptions (per 100 people)\": \"Fixed broadband subscriptions\"})\n",
    "df"
   ]
  },
  {
   "cell_type": "code",
   "execution_count": 4,
   "metadata": {},
   "outputs": [
    {
     "data": {
      "application/vnd.plotly.v1+json": {
       "config": {
        "plotlyServerURL": "https://plot.ly"
       },
       "data": [
        {
         "hovertemplate": "Entity=Afghanistan<br>Year=%{x}<br>Fixed broadband subscriptions=%{y}<extra></extra>",
         "legendgroup": "Afghanistan",
         "line": {
          "color": "#636efa",
          "dash": "solid"
         },
         "marker": {
          "symbol": "circle"
         },
         "mode": "lines+markers",
         "name": "Afghanistan",
         "showlegend": true,
         "type": "scattergl",
         "x": [
          2004,
          2005,
          2006,
          2007,
          2008,
          2009,
          2010,
          2012,
          2013,
          2014,
          2015,
          2016,
          2017,
          2018,
          2019
         ],
         "xaxis": "x",
         "y": [
          0.000808843,
          0.000857557,
          0.001891571,
          0.001844982,
          0.001803604,
          0.00352177,
          0.005139537,
          0.004813651,
          0.004648339,
          0.004494948,
          0.020535484,
          0.024873504,
          0.025297475,
          0.043040552,
          0.051740516
         ],
         "yaxis": "y"
        },
        {
         "hovertemplate": "Entity=Africa Eastern and Southern<br>Year=%{x}<br>Fixed broadband subscriptions=%{y}<extra></extra>",
         "legendgroup": "Africa Eastern and Southern",
         "line": {
          "color": "#EF553B",
          "dash": "solid"
         },
         "marker": {
          "symbol": "diamond"
         },
         "mode": "lines+markers",
         "name": "Africa Eastern and Southern",
         "showlegend": true,
         "type": "scattergl",
         "x": [
          2005,
          2006,
          2007,
          2008,
          2009,
          2010,
          2011,
          2012,
          2013,
          2014,
          2015,
          2016,
          2017,
          2018,
          2019
         ],
         "xaxis": "x",
         "y": [
          0.0614095389959254,
          0.112406495100231,
          0.13373192572462,
          0.145390609718297,
          0.180793682039157,
          0.197978019135791,
          0.29452462337523,
          0.354239756744278,
          0.457200827987643,
          0.540377819686139,
          0.519799225324479,
          0.513050810283371,
          0.544641692243999,
          0.696897405090322,
          0.829634953588264
         ],
         "yaxis": "y"
        },
        {
         "hovertemplate": "Entity=Africa Western and Central<br>Year=%{x}<br>Fixed broadband subscriptions=%{y}<extra></extra>",
         "legendgroup": "Africa Western and Central",
         "line": {
          "color": "#00cc96",
          "dash": "solid"
         },
         "marker": {
          "symbol": "square"
         },
         "mode": "lines+markers",
         "name": "Africa Western and Central",
         "showlegend": true,
         "type": "scattergl",
         "x": [
          2005,
          2007,
          2008,
          2009,
          2010,
          2012,
          2013,
          2014,
          2015,
          2016,
          2017,
          2018,
          2019
         ],
         "xaxis": "x",
         "y": [
          0.0102164555491789,
          0.0497949957743428,
          0.0649220463284784,
          0.0773979183335294,
          0.107399387252273,
          0.110297235631765,
          0.108219428955186,
          0.135123015538613,
          0.145258497404807,
          0.242682760660916,
          0.238495064441612,
          0.276433923375106,
          0.293280587122795
         ],
         "yaxis": "y"
        },
        {
         "hovertemplate": "Entity=Albania<br>Year=%{x}<br>Fixed broadband subscriptions=%{y}<extra></extra>",
         "legendgroup": "Albania",
         "line": {
          "color": "#ab63fa",
          "dash": "solid"
         },
         "marker": {
          "symbol": "x"
         },
         "mode": "lines+markers",
         "name": "Albania",
         "showlegend": true,
         "type": "scattergl",
         "x": [
          2005,
          2007,
          2008,
          2009,
          2010,
          2011,
          2012,
          2013,
          2014,
          2015,
          2016,
          2017,
          2018,
          2019
         ],
         "xaxis": "x",
         "y": [
          0.008811686,
          0.329598108,
          2.131430676,
          3.094467361,
          3.579992422,
          4.377871687,
          5.493573307,
          6.286818262,
          7.180321133,
          8.402314745,
          9.228640975,
          10.52684499,
          12.55565885,
          15.1407347
         ],
         "yaxis": "y"
        },
        {
         "hovertemplate": "Entity=Algeria<br>Year=%{x}<br>Fixed broadband subscriptions=%{y}<extra></extra>",
         "legendgroup": "Algeria",
         "line": {
          "color": "#FFA15A",
          "dash": "solid"
         },
         "marker": {
          "symbol": "cross"
         },
         "mode": "lines+markers",
         "name": "Algeria",
         "showlegend": true,
         "type": "scattergl",
         "x": [
          2003,
          2004,
          2005,
          2006,
          2007,
          2008,
          2009,
          2010,
          2011,
          2012,
          2013,
          2014,
          2015,
          2016,
          2017,
          2018,
          2019
         ],
         "xaxis": "x",
         "y": [
          0.055789463,
          0.110118134,
          0.40724321,
          0.505335721,
          0.840106639,
          1.39646274,
          2.315058456,
          2.501566606,
          2.675159149,
          3.08889162,
          3.35604493,
          4.109815688,
          5.712209454,
          7.051711073,
          7.756293558,
          7.262935415,
          8.321683753
         ],
         "yaxis": "y"
        },
        {
         "hovertemplate": "Entity=Andorra<br>Year=%{x}<br>Fixed broadband subscriptions=%{y}<extra></extra>",
         "legendgroup": "Andorra",
         "line": {
          "color": "#19d3f3",
          "dash": "solid"
         },
         "marker": {
          "symbol": "circle"
         },
         "mode": "lines+markers",
         "name": "Andorra",
         "showlegend": true,
         "type": "scattergl",
         "x": [
          2002,
          2003,
          2004,
          2005,
          2006,
          2007,
          2008,
          2009,
          2010,
          2011,
          2012,
          2013,
          2014,
          2015,
          2016,
          2017,
          2018,
          2019
         ],
         "xaxis": "x",
         "y": [
          1.638852803,
          4.920608893,
          8.239336866,
          13.11194796,
          18.04600398,
          22.40578588,
          24.65002027,
          27.16100541,
          29.01396109,
          30.762893,
          32.64100355,
          34.33530592,
          36.31979599,
          39.34573329,
          42.03267915,
          44.52409709,
          46.31197569,
          47.13126442
         ],
         "yaxis": "y"
        },
        {
         "hovertemplate": "Entity=Angola<br>Year=%{x}<br>Fixed broadband subscriptions=%{y}<extra></extra>",
         "legendgroup": "Angola",
         "line": {
          "color": "#FF6692",
          "dash": "solid"
         },
         "marker": {
          "symbol": "diamond"
         },
         "mode": "lines+markers",
         "name": "Angola",
         "showlegend": true,
         "type": "scattergl",
         "x": [
          2006,
          2007,
          2008,
          2009,
          2010,
          2011,
          2012,
          2013,
          2014,
          2015,
          2016,
          2017,
          2018,
          2019
         ],
         "xaxis": "x",
         "y": [
          0.037012589,
          0.0559665,
          0.073480222,
          0.066624379,
          0.064222649,
          0.06530375,
          0.081695302,
          0.085648015,
          0.325702323,
          0.550742009,
          0.293747187,
          0.325048666,
          0.355604536,
          0.374130075
         ],
         "yaxis": "y"
        },
        {
         "hovertemplate": "Entity=Antigua and Barbuda<br>Year=%{x}<br>Fixed broadband subscriptions=%{y}<extra></extra>",
         "legendgroup": "Antigua and Barbuda",
         "line": {
          "color": "#B6E880",
          "dash": "solid"
         },
         "marker": {
          "symbol": "square"
         },
         "mode": "lines+markers",
         "name": "Antigua and Barbuda",
         "showlegend": true,
         "type": "scattergl",
         "x": [
          2004,
          2005,
          2006,
          2007,
          2008,
          2009,
          2010,
          2011,
          2012,
          2013,
          2014,
          2015,
          2016,
          2017
         ],
         "xaxis": "x",
         "y": [
          2.068810994,
          7.120849445,
          1.863271426,
          2.696784329,
          5.838612598,
          18.46079358,
          8.087199527,
          6.72246311,
          14.45652535,
          17.09755671,
          11.61815864,
          10.68764295,
          9.7972008,
          9.431391864
         ],
         "yaxis": "y"
        },
        {
         "hovertemplate": "Entity=Arab World<br>Year=%{x}<br>Fixed broadband subscriptions=%{y}<extra></extra>",
         "legendgroup": "Arab World",
         "line": {
          "color": "#FF97FF",
          "dash": "solid"
         },
         "marker": {
          "symbol": "x"
         },
         "mode": "lines+markers",
         "name": "Arab World",
         "showlegend": true,
         "type": "scattergl",
         "x": [
          2004,
          2005,
          2006,
          2007,
          2008,
          2009,
          2010,
          2011,
          2012,
          2013,
          2014,
          2015,
          2016,
          2017,
          2018,
          2019
         ],
         "xaxis": "x",
         "y": [
          0.146468970819515,
          0.308317665036474,
          0.493235367076755,
          0.873787503352866,
          1.27519129645892,
          1.965220450212,
          2.10104319060603,
          2.67567919601142,
          3.03805359133301,
          2.80361661508457,
          3.34601834103202,
          5.1050823915082,
          5.54587906430895,
          6.96032913349187,
          7.6826146299206,
          8.58561315976055
         ],
         "yaxis": "y"
        },
        {
         "hovertemplate": "Entity=Argentina<br>Year=%{x}<br>Fixed broadband subscriptions=%{y}<extra></extra>",
         "legendgroup": "Argentina",
         "line": {
          "color": "#FECB52",
          "dash": "solid"
         },
         "marker": {
          "symbol": "cross"
         },
         "mode": "lines+markers",
         "name": "Argentina",
         "showlegend": true,
         "type": "scattergl",
         "x": [
          2001,
          2002,
          2003,
          2004,
          2005,
          2006,
          2007,
          2008,
          2009,
          2010,
          2011,
          2012,
          2013,
          2014,
          2015,
          2016,
          2017,
          2018,
          2019
         ],
         "xaxis": "x",
         "y": [
          0.252175334,
          0.392763085,
          0.679610106,
          1.410369414,
          2.382751765,
          4.030842244,
          6.551710192,
          7.771278857,
          8.672885869,
          9.850015718,
          11.0647814,
          12.33040075,
          14.81423726,
          15.29042819,
          15.91589272,
          16.66727115,
          17.84999661,
          19.10152239,
          19.63610555
         ],
         "yaxis": "y"
        },
        {
         "hovertemplate": "Entity=Armenia<br>Year=%{x}<br>Fixed broadband subscriptions=%{y}<extra></extra>",
         "legendgroup": "Armenia",
         "line": {
          "color": "#636efa",
          "dash": "solid"
         },
         "marker": {
          "symbol": "circle"
         },
         "mode": "lines+markers",
         "name": "Armenia",
         "showlegend": true,
         "type": "scattergl",
         "x": [
          2001,
          2002,
          2003,
          2004,
          2005,
          2007,
          2008,
          2009,
          2010,
          2011,
          2012,
          2013,
          2014,
          2015,
          2016,
          2017,
          2018,
          2019
         ],
         "xaxis": "x",
         "y": [
          0.000196677,
          0.00026368,
          0.000331353,
          0.033325335,
          0.066750099,
          0.132986976,
          0.474580911,
          1.381119438,
          3.252541689,
          5.582161612,
          7.352142718,
          8.388287086,
          9.369734814,
          9.786833464,
          10.18921762,
          10.7076869,
          11.7709355,
          13.04053682
         ],
         "yaxis": "y"
        },
        {
         "hovertemplate": "Entity=Aruba<br>Year=%{x}<br>Fixed broadband subscriptions=%{y}<extra></extra>",
         "legendgroup": "Aruba",
         "line": {
          "color": "#EF553B",
          "dash": "solid"
         },
         "marker": {
          "symbol": "diamond"
         },
         "mode": "lines+markers",
         "name": "Aruba",
         "showlegend": true,
         "type": "scattergl",
         "x": [
          2003,
          2004,
          2005,
          2006,
          2007,
          2008,
          2009,
          2010,
          2013,
          2014,
          2015
         ],
         "xaxis": "x",
         "y": [
          1.442015317,
          7.052067614,
          12.27019624,
          13.83759446,
          15.8028887,
          18.14952939,
          18.53038293,
          18.90153341,
          18.61204548,
          18.50174417,
          18.20952454
         ],
         "yaxis": "y"
        },
        {
         "hovertemplate": "Entity=Australia<br>Year=%{x}<br>Fixed broadband subscriptions=%{y}<extra></extra>",
         "legendgroup": "Australia",
         "line": {
          "color": "#00cc96",
          "dash": "solid"
         },
         "marker": {
          "symbol": "square"
         },
         "mode": "lines+markers",
         "name": "Australia",
         "showlegend": true,
         "type": "scattergl",
         "x": [
          2001,
          2002,
          2003,
          2004,
          2005,
          2006,
          2008,
          2009,
          2010,
          2011,
          2012,
          2013,
          2014,
          2015,
          2016,
          2017,
          2018,
          2019
         ],
         "xaxis": "x",
         "y": [
          0.639760867,
          1.330318563,
          2.633487711,
          5.090633139,
          9.990812021,
          19.00001184,
          24.91529036,
          24.00365852,
          24.8705928,
          24.63395046,
          25.03935129,
          25.71929639,
          27.69911237,
          28.53023892,
          30.39231558,
          32.22339821,
          33.8471546,
          34.7290451
         ],
         "yaxis": "y"
        },
        {
         "hovertemplate": "Entity=Austria<br>Year=%{x}<br>Fixed broadband subscriptions=%{y}<extra></extra>",
         "legendgroup": "Austria",
         "line": {
          "color": "#ab63fa",
          "dash": "solid"
         },
         "marker": {
          "symbol": "x"
         },
         "mode": "lines+markers",
         "name": "Austria",
         "showlegend": true,
         "type": "scattergl",
         "x": [
          1999,
          2000,
          2001,
          2002,
          2003,
          2004,
          2005,
          2006,
          2007,
          2008,
          2009,
          2010,
          2011,
          2012,
          2013,
          2014,
          2015,
          2016,
          2017,
          2018,
          2019
         ],
         "xaxis": "x",
         "y": [
          0.632210727,
          2.360806595,
          3.959125426,
          5.54434666,
          7.350915843,
          10.58805704,
          14.22400998,
          17.2835331,
          19.50987865,
          20.72760735,
          22.43639807,
          24.38064725,
          24.81457091,
          25.05461216,
          26.092224,
          27.38179226,
          28.2935384,
          28.84661223,
          28.47197491,
          28.35440316,
          28.12921617
         ],
         "yaxis": "y"
        },
        {
         "hovertemplate": "Entity=Azerbaijan<br>Year=%{x}<br>Fixed broadband subscriptions=%{y}<extra></extra>",
         "legendgroup": "Azerbaijan",
         "line": {
          "color": "#FFA15A",
          "dash": "solid"
         },
         "marker": {
          "symbol": "cross"
         },
         "mode": "lines+markers",
         "name": "Azerbaijan",
         "showlegend": true,
         "type": "scattergl",
         "x": [
          2002,
          2005,
          2006,
          2007,
          2008,
          2009,
          2010,
          2011,
          2012,
          2013,
          2014,
          2015,
          2016,
          2017,
          2018,
          2019
         ],
         "xaxis": "x",
         "y": [
          0.012081583,
          0.025577949,
          0.04582773,
          0.167349763,
          0.680127678,
          1.120525015,
          5.262076415,
          10.64771177,
          14.78294152,
          18.24285161,
          19.96786744,
          19.73923241,
          18.52561662,
          18.3357575,
          19.00503511,
          19.33785363
         ],
         "yaxis": "y"
        },
        {
         "hovertemplate": "Entity=Bahamas<br>Year=%{x}<br>Fixed broadband subscriptions=%{y}<extra></extra>",
         "legendgroup": "Bahamas",
         "line": {
          "color": "#19d3f3",
          "dash": "solid"
         },
         "marker": {
          "symbol": "circle"
         },
         "mode": "lines+markers",
         "name": "Bahamas",
         "showlegend": true,
         "type": "scattergl",
         "x": [
          2001,
          2002,
          2003,
          2004,
          2005,
          2006,
          2007,
          2008,
          2009,
          2010,
          2011,
          2012,
          2013,
          2014,
          2015,
          2016,
          2017,
          2018,
          2019
         ],
         "xaxis": "x",
         "y": [
          1.367730935,
          2.45075733,
          3.494087101,
          4.0148137,
          4.119325615,
          5.011887032,
          6.076072427,
          7.419671149,
          9.035651766,
          6.959446896,
          4.309496132,
          21.43383647,
          19.74295216,
          20.82059612,
          21.65064163,
          22.52480618,
          22.75490825,
          21.05814535,
          21.12934616
         ],
         "yaxis": "y"
        },
        {
         "hovertemplate": "Entity=Bahrain<br>Year=%{x}<br>Fixed broadband subscriptions=%{y}<extra></extra>",
         "legendgroup": "Bahrain",
         "line": {
          "color": "#FF6692",
          "dash": "solid"
         },
         "marker": {
          "symbol": "diamond"
         },
         "mode": "lines+markers",
         "name": "Bahrain",
         "showlegend": true,
         "type": "scattergl",
         "x": [
          2001,
          2002,
          2003,
          2004,
          2005,
          2006,
          2007,
          2008,
          2009,
          2010,
          2011,
          2012,
          2013,
          2014,
          2015,
          2016,
          2017,
          2018,
          2019
         ],
         "xaxis": "x",
         "y": [
          0.168591274,
          0.677416459,
          1.250404516,
          1.80226645,
          2.410353995,
          4.03039175,
          6.588642548,
          8.398937416,
          11.77249392,
          12.4842448,
          22.80802503,
          22.72305576,
          22.81746092,
          21.52364201,
          18.44522474,
          16.29866067,
          12.99552365,
          8.04844512,
          8.590933796
         ],
         "yaxis": "y"
        },
        {
         "hovertemplate": "Entity=Bangladesh<br>Year=%{x}<br>Fixed broadband subscriptions=%{y}<extra></extra>",
         "legendgroup": "Bangladesh",
         "line": {
          "color": "#B6E880",
          "dash": "solid"
         },
         "marker": {
          "symbol": "square"
         },
         "mode": "lines+markers",
         "name": "Bangladesh",
         "showlegend": true,
         "type": "scattergl",
         "x": [
          2007,
          2008,
          2009,
          2010,
          2011,
          2012,
          2013,
          2014,
          2015,
          2016,
          2017,
          2018,
          2019
         ],
         "xaxis": "x",
         "y": [
          0.030639201,
          0.034649034,
          0.217028913,
          0.280920069,
          0.313854189,
          0.397641178,
          0.998501467,
          2.001827212,
          3.131355825,
          4.173005954,
          4.571801118,
          4.990118524,
          4.95902507
         ],
         "yaxis": "y"
        },
        {
         "hovertemplate": "Entity=Barbados<br>Year=%{x}<br>Fixed broadband subscriptions=%{y}<extra></extra>",
         "legendgroup": "Barbados",
         "line": {
          "color": "#FF97FF",
          "dash": "solid"
         },
         "marker": {
          "symbol": "x"
         },
         "mode": "lines+markers",
         "name": "Barbados",
         "showlegend": true,
         "type": "scattergl",
         "x": [
          2003,
          2004,
          2005,
          2006,
          2007,
          2008,
          2009,
          2010,
          2011,
          2012,
          2013,
          2014,
          2015,
          2016,
          2017,
          2018,
          2019
         ],
         "xaxis": "x",
         "y": [
          9.958480511,
          10.76342977,
          11.55966025,
          13.98314095,
          16.91173305,
          17.58053339,
          20.38569355,
          19.91628003,
          22.1331722,
          23.57552494,
          23.84767988,
          27.29034568,
          27.4316216,
          30.4017551,
          31.21244305,
          31.16790689,
          37.21034753
         ],
         "yaxis": "y"
        },
        {
         "hovertemplate": "Entity=Belarus<br>Year=%{x}<br>Fixed broadband subscriptions=%{y}<extra></extra>",
         "legendgroup": "Belarus",
         "line": {
          "color": "#FECB52",
          "dash": "solid"
         },
         "marker": {
          "symbol": "cross"
         },
         "mode": "lines+markers",
         "name": "Belarus",
         "showlegend": true,
         "type": "scattergl",
         "x": [
          2002,
          2003,
          2004,
          2005,
          2006,
          2007,
          2008,
          2009,
          2010,
          2011,
          2012,
          2013,
          2014,
          2015,
          2016,
          2017,
          2018,
          2019
         ],
         "xaxis": "x",
         "y": [
          0.000205214,
          0.001270762,
          0.007798987,
          0.01635626,
          0.119986765,
          1.79110523,
          5.056461778,
          11.57926852,
          17.69139545,
          22.28355489,
          26.88573466,
          29.56269142,
          28.46079751,
          30.75926357,
          32.47559748,
          33.47310769,
          33.86912852,
          34.01110045
         ],
         "yaxis": "y"
        },
        {
         "hovertemplate": "Entity=Belgium<br>Year=%{x}<br>Fixed broadband subscriptions=%{y}<extra></extra>",
         "legendgroup": "Belgium",
         "line": {
          "color": "#636efa",
          "dash": "solid"
         },
         "marker": {
          "symbol": "circle"
         },
         "mode": "lines+markers",
         "name": "Belgium",
         "showlegend": true,
         "type": "scattergl",
         "x": [
          1998,
          1999,
          2000,
          2001,
          2002,
          2003,
          2004,
          2005,
          2006,
          2007,
          2008,
          2009,
          2010,
          2011,
          2012,
          2013,
          2014,
          2015,
          2016,
          2017,
          2018,
          2019
         ],
         "xaxis": "x",
         "y": [
          0.106707834,
          0.224277339,
          1.402592269,
          4.457894689,
          7.867120571,
          11.92939997,
          15.45730835,
          19.06329508,
          23.08574576,
          25.51629473,
          27.67016385,
          29.03572211,
          30.83667139,
          32.17547029,
          33.3052753,
          34.32772916,
          35.74653262,
          36.50842403,
          37.60922178,
          38.34561848,
          39.21686286,
          39.78313988
         ],
         "yaxis": "y"
        },
        {
         "hovertemplate": "Entity=Belize<br>Year=%{x}<br>Fixed broadband subscriptions=%{y}<extra></extra>",
         "legendgroup": "Belize",
         "line": {
          "color": "#EF553B",
          "dash": "solid"
         },
         "marker": {
          "symbol": "diamond"
         },
         "mode": "lines+markers",
         "name": "Belize",
         "showlegend": true,
         "type": "scattergl",
         "x": [
          2003,
          2004,
          2005,
          2006,
          2007,
          2008,
          2009,
          2010,
          2011,
          2012,
          2013,
          2014,
          2015,
          2016,
          2017,
          2018,
          2019
         ],
         "xaxis": "x",
         "y": [
          0.348891157,
          1.022408356,
          1.769556025,
          2.486879095,
          2.501463088,
          2.62268474,
          2.650522,
          2.764649697,
          2.936678809,
          2.950591716,
          2.863630447,
          2.801627774,
          4.81502107,
          4.987513572,
          5.057894611,
          6.436926836,
          7.582880111
         ],
         "yaxis": "y"
        },
        {
         "hovertemplate": "Entity=Benin<br>Year=%{x}<br>Fixed broadband subscriptions=%{y}<extra></extra>",
         "legendgroup": "Benin",
         "line": {
          "color": "#00cc96",
          "dash": "solid"
         },
         "marker": {
          "symbol": "square"
         },
         "mode": "lines+markers",
         "name": "Benin",
         "showlegend": true,
         "type": "scattergl",
         "x": [
          2002,
          2003,
          2004,
          2005,
          2006,
          2007,
          2008,
          2009,
          2010,
          2011,
          2012,
          2013,
          2014,
          2015,
          2016,
          2017,
          2018,
          2019
         ],
         "xaxis": "x",
         "y": [
          0.000287853,
          0.000279235,
          0.001045161,
          0.002455456,
          0.018230726,
          0.008397604,
          0.096861866,
          0.213098069,
          0.293871496,
          0.396741047,
          0.429231485,
          0.424575078,
          0.441525117,
          0.692731964,
          0.20509447,
          0.256058103,
          0.235384383,
          0.212114903
         ],
         "yaxis": "y"
        },
        {
         "hovertemplate": "Entity=Bermuda<br>Year=%{x}<br>Fixed broadband subscriptions=%{y}<extra></extra>",
         "legendgroup": "Bermuda",
         "line": {
          "color": "#ab63fa",
          "dash": "solid"
         },
         "marker": {
          "symbol": "x"
         },
         "mode": "lines+markers",
         "name": "Bermuda",
         "showlegend": true,
         "type": "scattergl",
         "x": [
          2005,
          2006,
          2007,
          2008,
          2009,
          2010,
          2013,
          2014,
          2015,
          2016,
          2017
         ],
         "xaxis": "x",
         "y": [
          27.90195753,
          35.68862456,
          43.54972856,
          51.50081145,
          60.9069038,
          61.32529936,
          62.28062001,
          54.2392204,
          47.10167682,
          35.97897794,
          36.17503846
         ],
         "yaxis": "y"
        },
        {
         "hovertemplate": "Entity=Bhutan<br>Year=%{x}<br>Fixed broadband subscriptions=%{y}<extra></extra>",
         "legendgroup": "Bhutan",
         "line": {
          "color": "#FFA15A",
          "dash": "solid"
         },
         "marker": {
          "symbol": "cross"
         },
         "mode": "lines+markers",
         "name": "Bhutan",
         "showlegend": true,
         "type": "scattergl",
         "x": [
          2008,
          2009,
          2010,
          2011,
          2012,
          2013,
          2014,
          2015,
          2016,
          2017,
          2018,
          2019
         ],
         "xaxis": "x",
         "y": [
          0.306724259,
          0.497992844,
          1.265494097,
          1.90870304,
          2.389745446,
          2.883685305,
          3.473865003,
          3.829498431,
          2.23820021,
          2.240856909,
          1.43188916,
          1.149795831
         ],
         "yaxis": "y"
        },
        {
         "hovertemplate": "Entity=Bolivia<br>Year=%{x}<br>Fixed broadband subscriptions=%{y}<extra></extra>",
         "legendgroup": "Bolivia",
         "line": {
          "color": "#19d3f3",
          "dash": "solid"
         },
         "marker": {
          "symbol": "circle"
         },
         "mode": "lines+markers",
         "name": "Bolivia",
         "showlegend": true,
         "type": "scattergl",
         "x": [
          2002,
          2003,
          2004,
          2005,
          2006,
          2007,
          2008,
          2009,
          2010,
          2011,
          2012,
          2013,
          2014,
          2015,
          2016,
          2017,
          2018,
          2019
         ],
         "xaxis": "x",
         "y": [
          0.038088423,
          0.064452213,
          0.096184392,
          0.14051744,
          0.187207717,
          0.355465992,
          0.81586561,
          0.972545573,
          0.95484043,
          0.720085491,
          1.124606318,
          1.461700715,
          1.613811476,
          1.664723963,
          2.606905809,
          3.394987249,
          4.4401541,
          6.487149421
         ],
         "yaxis": "y"
        },
        {
         "hovertemplate": "Entity=Bosnia and Herzegovina<br>Year=%{x}<br>Fixed broadband subscriptions=%{y}<extra></extra>",
         "legendgroup": "Bosnia and Herzegovina",
         "line": {
          "color": "#FF6692",
          "dash": "solid"
         },
         "marker": {
          "symbol": "diamond"
         },
         "mode": "lines+markers",
         "name": "Bosnia and Herzegovina",
         "showlegend": true,
         "type": "scattergl",
         "x": [
          2000,
          2001,
          2002,
          2003,
          2004,
          2005,
          2006,
          2007,
          2008,
          2009,
          2010,
          2011,
          2012,
          2013,
          2014,
          2015,
          2016,
          2017,
          2018,
          2019
         ],
         "xaxis": "x",
         "y": [
          0.000719774,
          0.001810672,
          0.005665817,
          0.039870575,
          0.176319286,
          0.363898951,
          1.062297367,
          2.250752501,
          5.019882688,
          7.819000208,
          10.54931733,
          11.7516098,
          13.02082235,
          14.56848433,
          15.57692832,
          18.51619004,
          19.56337748,
          20.89636807,
          21.55180998,
          22.59578915
         ],
         "yaxis": "y"
        },
        {
         "hovertemplate": "Entity=Botswana<br>Year=%{x}<br>Fixed broadband subscriptions=%{y}<extra></extra>",
         "legendgroup": "Botswana",
         "line": {
          "color": "#B6E880",
          "dash": "solid"
         },
         "marker": {
          "symbol": "square"
         },
         "mode": "lines+markers",
         "name": "Botswana",
         "showlegend": true,
         "type": "scattergl",
         "x": [
          2005,
          2006,
          2007,
          2008,
          2009,
          2010,
          2011,
          2012,
          2013,
          2014,
          2015,
          2016,
          2017,
          2018,
          2019
         ],
         "xaxis": "x",
         "y": [
          0.088934443,
          0.098044129,
          0.188753793,
          0.464596931,
          0.511902239,
          0.602786466,
          0.948941725,
          1.090237287,
          1.046763518,
          1.593876908,
          1.737384921,
          2.734212777,
          1.47087634,
          1.776521383,
          2.139821339
         ],
         "yaxis": "y"
        },
        {
         "hovertemplate": "Entity=Brazil<br>Year=%{x}<br>Fixed broadband subscriptions=%{y}<extra></extra>",
         "legendgroup": "Brazil",
         "line": {
          "color": "#FF97FF",
          "dash": "solid"
         },
         "marker": {
          "symbol": "x"
         },
         "mode": "lines+markers",
         "name": "Brazil",
         "showlegend": true,
         "type": "scattergl",
         "x": [
          1998,
          1999,
          2000,
          2001,
          2002,
          2003,
          2004,
          2005,
          2006,
          2007,
          2008,
          2009,
          2010,
          2011,
          2012,
          2013,
          2014,
          2015,
          2016,
          2017,
          2018,
          2019
         ],
         "xaxis": "x",
         "y": [
          0.000588979,
          0.004062241,
          0.0572114,
          0.186798742,
          0.407157234,
          0.53146472,
          1.71595369,
          1.737414889,
          2.533386822,
          4.002227039,
          5.216317824,
          6.049928446,
          7.204858261,
          9.028728397,
          9.594011307,
          10.62528321,
          11.82082759,
          12.46258988,
          13.02890048,
          13.90912537,
          14.91053848,
          15.59562652
         ],
         "yaxis": "y"
        },
        {
         "hovertemplate": "Entity=British Virgin Islands<br>Year=%{x}<br>Fixed broadband subscriptions=%{y}<extra></extra>",
         "legendgroup": "British Virgin Islands",
         "line": {
          "color": "#FECB52",
          "dash": "solid"
         },
         "marker": {
          "symbol": "cross"
         },
         "mode": "lines+markers",
         "name": "British Virgin Islands",
         "showlegend": true,
         "type": "scattergl",
         "x": [
          2009,
          2010,
          2011,
          2012,
          2013,
          2014,
          2015,
          2016,
          2017,
          2018
         ],
         "xaxis": "x",
         "y": [
          28.4404009,
          24.74994603,
          25.78127759,
          25.95113438,
          21.43030471,
          22.05319259,
          22.84577387,
          21.18208142,
          16.91517057,
          15.82108583
         ],
         "yaxis": "y"
        },
        {
         "hovertemplate": "Entity=Brunei<br>Year=%{x}<br>Fixed broadband subscriptions=%{y}<extra></extra>",
         "legendgroup": "Brunei",
         "line": {
          "color": "#636efa",
          "dash": "solid"
         },
         "marker": {
          "symbol": "circle"
         },
         "mode": "lines+markers",
         "name": "Brunei",
         "showlegend": true,
         "type": "scattergl",
         "x": [
          2001,
          2002,
          2003,
          2004,
          2005,
          2006,
          2007,
          2008,
          2009,
          2010,
          2011,
          2012,
          2013,
          2014,
          2015,
          2016,
          2017,
          2018,
          2019
         ],
         "xaxis": "x",
         "y": [
          0.5575913,
          0.795023963,
          1.086350423,
          1.742188391,
          2.225606249,
          2.420981843,
          3.098155828,
          4.451783112,
          5.217162535,
          5.583229983,
          5.889181281,
          4.974823867,
          6.81393894,
          7.384404384,
          8.29704006,
          8.604097189,
          9.675998238,
          11.52826701,
          12.50793358
         ],
         "yaxis": "y"
        },
        {
         "hovertemplate": "Entity=Bulgaria<br>Year=%{x}<br>Fixed broadband subscriptions=%{y}<extra></extra>",
         "legendgroup": "Bulgaria",
         "line": {
          "color": "#EF553B",
          "dash": "solid"
         },
         "marker": {
          "symbol": "diamond"
         },
         "mode": "lines+markers",
         "name": "Bulgaria",
         "showlegend": true,
         "type": "scattergl",
         "x": [
          2004,
          2005,
          2006,
          2007,
          2008,
          2009,
          2010,
          2011,
          2012,
          2013,
          2014,
          2015,
          2016,
          2017,
          2018,
          2019
         ],
         "xaxis": "x",
         "y": [
          0.085878838,
          2.152592923,
          5.040904142,
          8.302801019,
          11.21135362,
          13.35429536,
          15.14776819,
          17.03287187,
          18.15851452,
          19.49979205,
          20.43832945,
          22.42498723,
          23.73603406,
          25.29667253,
          27.0001679,
          28.78196785
         ],
         "yaxis": "y"
        },
        {
         "hovertemplate": "Entity=Burkina Faso<br>Year=%{x}<br>Fixed broadband subscriptions=%{y}<extra></extra>",
         "legendgroup": "Burkina Faso",
         "line": {
          "color": "#00cc96",
          "dash": "solid"
         },
         "marker": {
          "symbol": "square"
         },
         "mode": "lines+markers",
         "name": "Burkina Faso",
         "showlegend": true,
         "type": "scattergl",
         "x": [
          2002,
          2003,
          2004,
          2005,
          2006,
          2007,
          2008,
          2009,
          2010,
          2011,
          2012,
          2013,
          2014,
          2015,
          2016,
          2017,
          2018,
          2019
         ],
         "xaxis": "x",
         "y": [
          0.000406732,
          0.001145826,
          0.001181836,
          0.002860989,
          0.012401317,
          0.047235406,
          0.069885583,
          0.078904449,
          0.087823194,
          0.087446064,
          0.086462985,
          0.075922001,
          0.030751682,
          0.051649242,
          0.066415118,
          0.064402904,
          0.069959364,
          0.059124927
         ],
         "yaxis": "y"
        },
        {
         "hovertemplate": "Entity=Burundi<br>Year=%{x}<br>Fixed broadband subscriptions=%{y}<extra></extra>",
         "legendgroup": "Burundi",
         "line": {
          "color": "#ab63fa",
          "dash": "solid"
         },
         "marker": {
          "symbol": "x"
         },
         "mode": "lines+markers",
         "name": "Burundi",
         "showlegend": true,
         "type": "scattergl",
         "x": [
          2008,
          2009,
          2010,
          2011,
          2012,
          2013,
          2014,
          2015,
          2016,
          2017,
          2018,
          2019
         ],
         "xaxis": "x",
         "y": [
          0.001968964,
          0.001905291,
          0.004057355,
          0.005547862,
          0.007592482,
          0.016079174,
          0.017268878,
          0.027273542,
          0.030940137,
          0.036150301,
          0.03521135,
          0.03374505
         ],
         "yaxis": "y"
        },
        {
         "hovertemplate": "Entity=Cambodia<br>Year=%{x}<br>Fixed broadband subscriptions=%{y}<extra></extra>",
         "legendgroup": "Cambodia",
         "line": {
          "color": "#FFA15A",
          "dash": "solid"
         },
         "marker": {
          "symbol": "cross"
         },
         "mode": "lines+markers",
         "name": "Cambodia",
         "showlegend": true,
         "type": "scattergl",
         "x": [
          2002,
          2003,
          2004,
          2005,
          2006,
          2007,
          2008,
          2009,
          2010,
          2011,
          2012,
          2013,
          2014,
          2015,
          2016,
          2017,
          2018,
          2019
         ],
         "xaxis": "x",
         "y": [
          0.000395641,
          0.003259137,
          0.005969478,
          0.007533891,
          0.02151701,
          0.061769177,
          0.1195203,
          0.212862516,
          0.249199774,
          0.151291933,
          0.201171087,
          0.21727192,
          0.43281932,
          0.537991459,
          0.619302243,
          0.834715385,
          1.022782322,
          1.11836066
         ],
         "yaxis": "y"
        },
        {
         "hovertemplate": "Entity=Cameroon<br>Year=%{x}<br>Fixed broadband subscriptions=%{y}<extra></extra>",
         "legendgroup": "Cameroon",
         "line": {
          "color": "#19d3f3",
          "dash": "solid"
         },
         "marker": {
          "symbol": "circle"
         },
         "mode": "lines+markers",
         "name": "Cameroon",
         "showlegend": true,
         "type": "scattergl",
         "x": [
          2005,
          2006,
          2007,
          2008,
          2009,
          2010,
          2011,
          2012,
          2013,
          2014,
          2015,
          2016,
          2017,
          2018,
          2019
         ],
         "xaxis": "x",
         "y": [
          0.001139093,
          0.002310182,
          0.003416927,
          0.004466914,
          0.00454777,
          0.029270584,
          0.051242711,
          0.064444167,
          0.076549237,
          0.074204699,
          0.087761512,
          1.52458664,
          1.556447382,
          1.569673259,
          1.549401423
         ],
         "yaxis": "y"
        },
        {
         "hovertemplate": "Entity=Canada<br>Year=%{x}<br>Fixed broadband subscriptions=%{y}<extra></extra>",
         "legendgroup": "Canada",
         "line": {
          "color": "#FF6692",
          "dash": "solid"
         },
         "marker": {
          "symbol": "diamond"
         },
         "mode": "lines+markers",
         "name": "Canada",
         "showlegend": true,
         "type": "scattergl",
         "x": [
          1998,
          1999,
          2000,
          2001,
          2002,
          2003,
          2004,
          2005,
          2006,
          2007,
          2008,
          2009,
          2010,
          2011,
          2012,
          2013,
          2014,
          2015,
          2016,
          2017,
          2018,
          2019
         ],
         "xaxis": "x",
         "y": [
          0.466323561,
          1.92063266,
          4.612640034,
          9.183916113,
          11.27388014,
          14.33242226,
          17.0231523,
          21.77568932,
          24.72263335,
          27.55877068,
          29.52309639,
          30.49241878,
          31.67752464,
          32.66605015,
          33.47432552,
          34.26529941,
          35.23968495,
          36.40462417,
          36.79332821,
          37.90637316,
          38.96365923,
          40.8261656
         ],
         "yaxis": "y"
        },
        {
         "hovertemplate": "Entity=Cape Verde<br>Year=%{x}<br>Fixed broadband subscriptions=%{y}<extra></extra>",
         "legendgroup": "Cape Verde",
         "line": {
          "color": "#B6E880",
          "dash": "solid"
         },
         "marker": {
          "symbol": "square"
         },
         "mode": "lines+markers",
         "name": "Cape Verde",
         "showlegend": true,
         "type": "scattergl",
         "x": [
          2004,
          2005,
          2006,
          2007,
          2008,
          2009,
          2010,
          2011,
          2012,
          2013,
          2014,
          2015,
          2016,
          2017,
          2018,
          2019
         ],
         "xaxis": "x",
         "y": [
          0.061977544,
          0.202361824,
          0.386640237,
          0.806845451,
          1.534807692,
          2.254500474,
          3.262127172,
          4.276175337,
          3.929458569,
          4.143054785,
          3.680699866,
          3.157355124,
          2.925937501,
          2.789405728,
          2.879358255,
          3.466955186
         ],
         "yaxis": "y"
        },
        {
         "hovertemplate": "Entity=Caribbean Small States<br>Year=%{x}<br>Fixed broadband subscriptions=%{y}<extra></extra>",
         "legendgroup": "Caribbean Small States",
         "line": {
          "color": "#FF97FF",
          "dash": "solid"
         },
         "marker": {
          "symbol": "x"
         },
         "mode": "lines+markers",
         "name": "Caribbean Small States",
         "showlegend": true,
         "type": "scattergl",
         "x": [
          2002,
          2003,
          2004,
          2005,
          2006,
          2007,
          2008,
          2009,
          2010,
          2011,
          2012,
          2013,
          2014,
          2015,
          2016,
          2017,
          2018,
          2019
         ],
         "xaxis": "x",
         "y": [
          0.416715323321868,
          0.987274319502517,
          1.5451800104039,
          2.05890296131045,
          3.09721638360778,
          3.70906517484085,
          4.84531277750584,
          6.26907817695401,
          6.78508565463482,
          7.09566318534925,
          8.86866172759767,
          9.46773697118364,
          10.5021829125024,
          12.4218729664612,
          13.3691438093376,
          14.0020765637519,
          15.7317121873386,
          16.1622258874807
         ],
         "yaxis": "y"
        },
        {
         "hovertemplate": "Entity=Cayman Islands<br>Year=%{x}<br>Fixed broadband subscriptions=%{y}<extra></extra>",
         "legendgroup": "Cayman Islands",
         "line": {
          "color": "#FECB52",
          "dash": "solid"
         },
         "marker": {
          "symbol": "cross"
         },
         "mode": "lines+markers",
         "name": "Cayman Islands",
         "showlegend": true,
         "type": "scattergl",
         "x": [
          2008,
          2009,
          2010,
          2011,
          2012,
          2013,
          2014,
          2015,
          2016,
          2017
         ],
         "xaxis": "x",
         "y": [
          32.56185452,
          33.07002639,
          33.26510446,
          32.50976191,
          32.77757047,
          33.9301208,
          38.56987904,
          44.36361869,
          39.21270917,
          49.27581963
         ],
         "yaxis": "y"
        },
        {
         "hovertemplate": "Entity=Central African Republic<br>Year=%{x}<br>Fixed broadband subscriptions=%{y}<extra></extra>",
         "legendgroup": "Central African Republic",
         "line": {
          "color": "#636efa",
          "dash": "solid"
         },
         "marker": {
          "symbol": "circle"
         },
         "mode": "lines+markers",
         "name": "Central African Republic",
         "showlegend": true,
         "type": "scattergl",
         "x": [
          2011,
          2012,
          2015,
          2016,
          2017,
          2018,
          2019
         ],
         "xaxis": "x",
         "y": [
          0.018331445,
          0.013637134,
          0.041351652,
          0.016219721,
          0.013468166,
          0.013029405,
          0.010515923
         ],
         "yaxis": "y"
        },
        {
         "hovertemplate": "Entity=Central Europe and the Baltics<br>Year=%{x}<br>Fixed broadband subscriptions=%{y}<extra></extra>",
         "legendgroup": "Central Europe and the Baltics",
         "line": {
          "color": "#EF553B",
          "dash": "solid"
         },
         "marker": {
          "symbol": "diamond"
         },
         "mode": "lines+markers",
         "name": "Central Europe and the Baltics",
         "showlegend": true,
         "type": "scattergl",
         "x": [
          2001,
          2002,
          2003,
          2004,
          2005,
          2006,
          2007,
          2008,
          2009,
          2010,
          2011,
          2012,
          2013,
          2014,
          2015,
          2016,
          2017,
          2018,
          2019
         ],
         "xaxis": "x",
         "y": [
          0.093375570080013,
          0.421324863618636,
          0.956957873877111,
          2.03119035714998,
          3.58256577756282,
          7.77503863043785,
          11.4684565206808,
          13.4517403008167,
          15.9139499341208,
          17.1855020758211,
          19.2936500309457,
          19.9944804917808,
          21.1049074222517,
          21.8780422428559,
          22.5687002251853,
          23.3693603964209,
          24.4318322612127,
          25.4918315630701,
          26.5000898834909
         ],
         "yaxis": "y"
        },
        {
         "hovertemplate": "Entity=Chad<br>Year=%{x}<br>Fixed broadband subscriptions=%{y}<extra></extra>",
         "legendgroup": "Chad",
         "line": {
          "color": "#00cc96",
          "dash": "solid"
         },
         "marker": {
          "symbol": "square"
         },
         "mode": "lines+markers",
         "name": "Chad",
         "showlegend": true,
         "type": "scattergl",
         "x": [
          2009,
          2010,
          2011,
          2012,
          2013,
          2014,
          2015,
          2016,
          2017,
          2018,
          2019
         ],
         "xaxis": "x",
         "y": [
          0.002569171,
          0.002769379,
          0.127813387,
          0.152165666,
          0.111108312,
          0.07414609,
          0.08034172,
          0.035202031,
          0.002204205,
          0.002157939,
          0.000426416
         ],
         "yaxis": "y"
        },
        {
         "hovertemplate": "Entity=Chile<br>Year=%{x}<br>Fixed broadband subscriptions=%{y}<extra></extra>",
         "legendgroup": "Chile",
         "line": {
          "color": "#ab63fa",
          "dash": "solid"
         },
         "marker": {
          "symbol": "x"
         },
         "mode": "lines+markers",
         "name": "Chile",
         "showlegend": true,
         "type": "scattergl",
         "x": [
          2000,
          2001,
          2002,
          2003,
          2004,
          2005,
          2006,
          2007,
          2008,
          2009,
          2010,
          2011,
          2012,
          2013,
          2014,
          2015,
          2016,
          2017,
          2018,
          2019
         ],
         "xaxis": "x",
         "y": [
          0.050057511,
          0.430023937,
          1.201537144,
          2.222345323,
          2.990220838,
          4.378522005,
          6.1857333,
          7.878370461,
          8.541752228,
          9.79899191,
          10.48704014,
          11.67049717,
          12.44992413,
          13.0618791,
          14.01949855,
          15.13376135,
          15.95128317,
          16.57996326,
          17.35624022,
          18.0946503
         ],
         "yaxis": "y"
        },
        {
         "hovertemplate": "Entity=China<br>Year=%{x}<br>Fixed broadband subscriptions=%{y}<extra></extra>",
         "legendgroup": "China",
         "line": {
          "color": "#FFA15A",
          "dash": "solid"
         },
         "marker": {
          "symbol": "cross"
         },
         "mode": "lines+markers",
         "name": "China",
         "showlegend": true,
         "type": "scattergl",
         "x": [
          2000,
          2001,
          2002,
          2003,
          2004,
          2005,
          2006,
          2007,
          2008,
          2009,
          2010,
          2011,
          2012,
          2013,
          2014,
          2015,
          2016,
          2017,
          2018,
          2019
         ],
         "xaxis": "x",
         "y": [
          0.001755839,
          0.02588502,
          0.252303079,
          0.852959779,
          1.884961039,
          2.806632321,
          3.799512213,
          4.93419774,
          6.122995604,
          7.638872763,
          9.22969172,
          11.36849026,
          12.6558438,
          13.5721864,
          14.32580171,
          19.69267651,
          22.81370164,
          27.73989833,
          28.53518942,
          31.33520101
         ],
         "yaxis": "y"
        },
        {
         "hovertemplate": "Entity=Colombia<br>Year=%{x}<br>Fixed broadband subscriptions=%{y}<extra></extra>",
         "legendgroup": "Colombia",
         "line": {
          "color": "#19d3f3",
          "dash": "solid"
         },
         "marker": {
          "symbol": "circle"
         },
         "mode": "lines+markers",
         "name": "Colombia",
         "showlegend": true,
         "type": "scattergl",
         "x": [
          2000,
          2001,
          2002,
          2003,
          2004,
          2005,
          2006,
          2007,
          2008,
          2009,
          2010,
          2011,
          2012,
          2013,
          2014,
          2015,
          2016,
          2017,
          2018,
          2019
         ],
         "xaxis": "x",
         "y": [
          0.022387099,
          0.034355155,
          0.085352153,
          0.155327846,
          0.30210366,
          0.747245052,
          1.453851757,
          2.759850377,
          4.004268447,
          4.72576413,
          5.84448297,
          7.332326999,
          8.548227073,
          9.759270646,
          10.70649708,
          11.62812593,
          12.27392136,
          12.94429123,
          13.44825224,
          13.80597715
         ],
         "yaxis": "y"
        },
        {
         "hovertemplate": "Entity=Comoros<br>Year=%{x}<br>Fixed broadband subscriptions=%{y}<extra></extra>",
         "legendgroup": "Comoros",
         "line": {
          "color": "#FF6692",
          "dash": "solid"
         },
         "marker": {
          "symbol": "diamond"
         },
         "mode": "lines+markers",
         "name": "Comoros",
         "showlegend": true,
         "type": "scattergl",
         "x": [
          2004,
          2005,
          2007,
          2008,
          2009,
          2010,
          2011,
          2012,
          2013,
          2014,
          2015,
          2016,
          2017,
          2018,
          2019
         ],
         "xaxis": "x",
         "y": [
          0.00016744,
          0.000653993,
          0.01278015,
          0.016736936,
          0.009803164,
          0.047702453,
          0.056611598,
          0.170334217,
          0.175319115,
          0.208456788,
          0.205807899,
          0.205381653,
          0.201992402,
          0.183943234,
          0.138796502
         ],
         "yaxis": "y"
        },
        {
         "hovertemplate": "Entity=Congo<br>Year=%{x}<br>Fixed broadband subscriptions=%{y}<extra></extra>",
         "legendgroup": "Congo",
         "line": {
          "color": "#B6E880",
          "dash": "solid"
         },
         "marker": {
          "symbol": "square"
         },
         "mode": "lines+markers",
         "name": "Congo",
         "showlegend": true,
         "type": "scattergl",
         "x": [
          2009,
          2010,
          2011,
          2012,
          2013,
          2014
         ],
         "xaxis": "x",
         "y": [
          0.003015397,
          0.00584969,
          0.02983041,
          0.030863383,
          0.009474855,
          0.010555257
         ],
         "yaxis": "y"
        },
        {
         "hovertemplate": "Entity=Costa Rica<br>Year=%{x}<br>Fixed broadband subscriptions=%{y}<extra></extra>",
         "legendgroup": "Costa Rica",
         "line": {
          "color": "#FF97FF",
          "dash": "solid"
         },
         "marker": {
          "symbol": "x"
         },
         "mode": "lines+markers",
         "name": "Costa Rica",
         "showlegend": true,
         "type": "scattergl",
         "x": [
          2002,
          2003,
          2004,
          2005,
          2006,
          2007,
          2008,
          2009,
          2010,
          2011,
          2012,
          2013,
          2014,
          2015,
          2016,
          2017,
          2018,
          2019
         ],
         "xaxis": "x",
         "y": [
          0.21919445,
          0.357296125,
          0.661064505,
          1.048045247,
          1.91758572,
          2.156822324,
          2.463274051,
          4.040356225,
          8.656964751,
          9.060526828,
          9.568984642,
          10.22505397,
          10.76734852,
          11.52389824,
          13.04433552,
          15.031271,
          16.69754679,
          17.9241816
         ],
         "yaxis": "y"
        },
        {
         "hovertemplate": "Entity=Cote d'Ivoire<br>Year=%{x}<br>Fixed broadband subscriptions=%{y}<extra></extra>",
         "legendgroup": "Cote d'Ivoire",
         "line": {
          "color": "#FECB52",
          "dash": "solid"
         },
         "marker": {
          "symbol": "cross"
         },
         "mode": "lines+markers",
         "name": "Cote d'Ivoire",
         "showlegend": true,
         "type": "scattergl",
         "x": [
          2003,
          2004,
          2005,
          2006,
          2007,
          2008,
          2009,
          2012,
          2013,
          2014,
          2015,
          2016,
          2017,
          2018,
          2019
         ],
         "xaxis": "x",
         "y": [
          0.002346643,
          0.004596423,
          0.006750383,
          0.053319354,
          0.052161475,
          0.051005916,
          0.049852569,
          0.214259977,
          0.254809235,
          0.56013233,
          0.472342739,
          0.572478854,
          0.584450845,
          0.701728773,
          0.842737656
         ],
         "yaxis": "y"
        },
        {
         "hovertemplate": "Entity=Croatia<br>Year=%{x}<br>Fixed broadband subscriptions=%{y}<extra></extra>",
         "legendgroup": "Croatia",
         "line": {
          "color": "#636efa",
          "dash": "solid"
         },
         "marker": {
          "symbol": "circle"
         },
         "mode": "lines+markers",
         "name": "Croatia",
         "showlegend": true,
         "type": "scattergl",
         "x": [
          2003,
          2004,
          2005,
          2006,
          2007,
          2008,
          2009,
          2010,
          2011,
          2012,
          2013,
          2014,
          2015,
          2016,
          2017,
          2018,
          2019
         ],
         "xaxis": "x",
         "y": [
          0.077468247,
          0.597643823,
          2.654144829,
          5.760989408,
          8.872356803,
          12.13032746,
          16.52408147,
          19.3583655,
          20.70054501,
          21.39776781,
          22.32428673,
          23.13434905,
          23.29894535,
          24.80146614,
          26.19934174,
          27.14540571,
          27.95854736
         ],
         "yaxis": "y"
        },
        {
         "hovertemplate": "Entity=Cuba<br>Year=%{x}<br>Fixed broadband subscriptions=%{y}<extra></extra>",
         "legendgroup": "Cuba",
         "line": {
          "color": "#EF553B",
          "dash": "solid"
         },
         "marker": {
          "symbol": "diamond"
         },
         "mode": "lines+markers",
         "name": "Cuba",
         "showlegend": true,
         "type": "scattergl",
         "x": [
          2007,
          2008,
          2009,
          2010,
          2011,
          2012,
          2013,
          2014,
          2015,
          2016,
          2017,
          2018,
          2019
         ],
         "xaxis": "x",
         "y": [
          0.017296053,
          0.019987593,
          0.025679832,
          0.033013143,
          0.039344393,
          0.04453188,
          0.047506262,
          0.068922492,
          0.072027883,
          0.127285996,
          0.295751378,
          0.871730745,
          1.612319884
         ],
         "yaxis": "y"
        },
        {
         "hovertemplate": "Entity=Curacao<br>Year=%{x}<br>Fixed broadband subscriptions=%{y}<extra></extra>",
         "legendgroup": "Curacao",
         "line": {
          "color": "#00cc96",
          "dash": "solid"
         },
         "marker": {
          "symbol": "square"
         },
         "mode": "lines+markers",
         "name": "Curacao",
         "showlegend": true,
         "type": "scattergl",
         "x": [
          2011,
          2012,
          2013,
          2014,
          2015,
          2016,
          2017,
          2018,
          2019
         ],
         "xaxis": "x",
         "y": [
          20.87778617,
          22.98326411,
          23.59784175,
          24.40507,
          25.02392913,
          26.5212478,
          30.46229251,
          31.84968541,
          32.61271294
         ],
         "yaxis": "y"
        },
        {
         "hovertemplate": "Entity=Cyprus<br>Year=%{x}<br>Fixed broadband subscriptions=%{y}<extra></extra>",
         "legendgroup": "Cyprus",
         "line": {
          "color": "#ab63fa",
          "dash": "solid"
         },
         "marker": {
          "symbol": "x"
         },
         "mode": "lines+markers",
         "name": "Cyprus",
         "showlegend": true,
         "type": "scattergl",
         "x": [
          2001,
          2002,
          2003,
          2004,
          2005,
          2006,
          2007,
          2008,
          2009,
          2010,
          2011,
          2012,
          2013,
          2014,
          2015,
          2016,
          2017,
          2018,
          2019
         ],
         "xaxis": "x",
         "y": [
          0.354358611,
          0.823735463,
          1.387882141,
          2.328785812,
          4.28172043,
          8.323525531,
          12.57251417,
          18.48111432,
          21.48992797,
          23.15491784,
          24.6112529,
          25.47407322,
          26.71270396,
          28.76162928,
          30.72497937,
          32.57873187,
          34.21499653,
          36.27192779,
          37.78812775
         ],
         "yaxis": "y"
        },
        {
         "hovertemplate": "Entity=Czechia<br>Year=%{x}<br>Fixed broadband subscriptions=%{y}<extra></extra>",
         "legendgroup": "Czechia",
         "line": {
          "color": "#FFA15A",
          "dash": "solid"
         },
         "marker": {
          "symbol": "cross"
         },
         "mode": "lines+markers",
         "name": "Czechia",
         "showlegend": true,
         "type": "scattergl",
         "x": [
          2000,
          2001,
          2002,
          2003,
          2004,
          2005,
          2006,
          2007,
          2008,
          2009,
          2010,
          2011,
          2012,
          2013,
          2014,
          2015,
          2016,
          2017,
          2018,
          2019
         ],
         "xaxis": "x",
         "y": [
          0.024296913,
          0.060364085,
          0.149235374,
          0.338798117,
          2.304774705,
          6.912180314,
          10.80242448,
          14.45053834,
          16.87809213,
          19.413424,
          21.46040086,
          23.7457622,
          25.11016376,
          26.97925752,
          28.27672043,
          27.79469536,
          28.91055035,
          29.56565123,
          30.21688169,
          34.98494603
         ],
         "yaxis": "y"
        },
        {
         "hovertemplate": "Entity=Democratic Republic of Congo<br>Year=%{x}<br>Fixed broadband subscriptions=%{y}<extra></extra>",
         "legendgroup": "Democratic Republic of Congo",
         "line": {
          "color": "#19d3f3",
          "dash": "solid"
         },
         "marker": {
          "symbol": "circle"
         },
         "mode": "lines+markers",
         "name": "Democratic Republic of Congo",
         "showlegend": true,
         "type": "scattergl",
         "x": [
          2010,
          2013,
          2014,
          2015,
          2016,
          2017,
          2018,
          2019
         ],
         "xaxis": "x",
         "y": [
          0,
          0.000630616,
          0.000677806,
          0.001311569,
          0.001269211,
          0.00122852,
          0.005495545,
          0.013711167
         ],
         "yaxis": "y"
        },
        {
         "hovertemplate": "Entity=Denmark<br>Year=%{x}<br>Fixed broadband subscriptions=%{y}<extra></extra>",
         "legendgroup": "Denmark",
         "line": {
          "color": "#FF6692",
          "dash": "solid"
         },
         "marker": {
          "symbol": "diamond"
         },
         "mode": "lines+markers",
         "name": "Denmark",
         "showlegend": true,
         "type": "scattergl",
         "x": [
          2000,
          2001,
          2002,
          2003,
          2004,
          2005,
          2006,
          2007,
          2008,
          2009,
          2010,
          2011,
          2012,
          2013,
          2014,
          2015,
          2016,
          2017,
          2018,
          2019
         ],
         "xaxis": "x",
         "y": [
          1.254401169,
          4.441904554,
          8.399659693,
          13.33401275,
          18.83470322,
          24.78658916,
          31.87409699,
          34.80015525,
          36.48199102,
          36.6009227,
          38.02817865,
          38.38895657,
          38.84481696,
          40.3040539,
          41.34318445,
          42.27616351,
          43.09670097,
          43.81979996,
          44.0863778,
          43.94598914
         ],
         "yaxis": "y"
        },
        {
         "hovertemplate": "Entity=Djibouti<br>Year=%{x}<br>Fixed broadband subscriptions=%{y}<extra></extra>",
         "legendgroup": "Djibouti",
         "line": {
          "color": "#B6E880",
          "dash": "solid"
         },
         "marker": {
          "symbol": "square"
         },
         "mode": "lines+markers",
         "name": "Djibouti",
         "showlegend": true,
         "type": "scattergl",
         "x": [
          2000,
          2001,
          2002,
          2005,
          2006,
          2007,
          2008,
          2009,
          2010,
          2011,
          2012,
          2013,
          2014,
          2015,
          2016,
          2017,
          2018,
          2019
         ],
         "xaxis": "x",
         "y": [
          0.000557426,
          0.000682114,
          0.000803275,
          0.005362245,
          0.019130012,
          0.135576218,
          0.300235926,
          0.638421498,
          0.95905965,
          1.323924589,
          1.717125292,
          2.004431146,
          2.236798914,
          2.643893334,
          2.61270977,
          2.583309589,
          2.660067597,
          2.507909117
         ],
         "yaxis": "y"
        },
        {
         "hovertemplate": "Entity=Dominica<br>Year=%{x}<br>Fixed broadband subscriptions=%{y}<extra></extra>",
         "legendgroup": "Dominica",
         "line": {
          "color": "#FF97FF",
          "dash": "solid"
         },
         "marker": {
          "symbol": "x"
         },
         "mode": "lines+markers",
         "name": "Dominica",
         "showlegend": true,
         "type": "scattergl",
         "x": [
          2000,
          2001,
          2002,
          2003,
          2004,
          2005,
          2006,
          2007,
          2008,
          2009,
          2010,
          2011,
          2012,
          2013,
          2014,
          2015,
          2016,
          2017,
          2018
         ],
         "xaxis": "x",
         "y": [
          0.114860014,
          0.251216606,
          3.204605009,
          3.781740371,
          4.621920377,
          4.816614487,
          6.080488702,
          7.062645667,
          9.883236619,
          10.30331259,
          11.72578233,
          11.71385865,
          11.9777355,
          15.02055875,
          15.17197721,
          21.29581501,
          21.71876534,
          21.58330768,
          16.07539267
         ],
         "yaxis": "y"
        },
        {
         "hovertemplate": "Entity=Dominican Republic<br>Year=%{x}<br>Fixed broadband subscriptions=%{y}<extra></extra>",
         "legendgroup": "Dominican Republic",
         "line": {
          "color": "#FECB52",
          "dash": "solid"
         },
         "marker": {
          "symbol": "cross"
         },
         "mode": "lines+markers",
         "name": "Dominican Republic",
         "showlegend": true,
         "type": "scattergl",
         "x": [
          2003,
          2004,
          2005,
          2006,
          2007,
          2008,
          2009,
          2010,
          2011,
          2012,
          2013,
          2014,
          2015,
          2016,
          2017,
          2018,
          2019
         ],
         "xaxis": "x",
         "y": [
          0.169485455,
          0.415145495,
          0.66694829,
          1.115994188,
          1.860526675,
          2.528188876,
          3.295412623,
          4.02785071,
          4.319880618,
          4.86989317,
          5.241767905,
          5.902461372,
          6.673102061,
          7.321349897,
          7.805287573,
          8.262156303,
          8.864640312
         ],
         "yaxis": "y"
        },
        {
         "hovertemplate": "Entity=Early-demographic dividend<br>Year=%{x}<br>Fixed broadband subscriptions=%{y}<extra></extra>",
         "legendgroup": "Early-demographic dividend",
         "line": {
          "color": "#636efa",
          "dash": "solid"
         },
         "marker": {
          "symbol": "circle"
         },
         "mode": "lines+markers",
         "name": "Early-demographic dividend",
         "showlegend": true,
         "type": "scattergl",
         "x": [
          2001,
          2002,
          2003,
          2004,
          2005,
          2006,
          2007,
          2008,
          2009,
          2010,
          2011,
          2012,
          2013,
          2014,
          2015,
          2016,
          2017,
          2018,
          2019
         ],
         "xaxis": "x",
         "y": [
          0.0195883787548591,
          0.0534237552148024,
          0.105660557411012,
          0.206875006903204,
          0.363903643230244,
          0.560776747535111,
          0.812685898957646,
          1.14208287360036,
          1.47830761622147,
          1.75169105952359,
          2.03310786084519,
          2.35473010757182,
          2.51230327000771,
          2.7334406219636,
          3.14454307779528,
          3.46340789963909,
          3.69308533075187,
          4.2164862804068,
          4.49846107436145
         ],
         "yaxis": "y"
        },
        {
         "hovertemplate": "Entity=East Asia & Pacific<br>Year=%{x}<br>Fixed broadband subscriptions=%{y}<extra></extra>",
         "legendgroup": "East Asia & Pacific",
         "line": {
          "color": "#EF553B",
          "dash": "solid"
         },
         "marker": {
          "symbol": "diamond"
         },
         "mode": "lines+markers",
         "name": "East Asia & Pacific",
         "showlegend": true,
         "type": "scattergl",
         "x": [
          2000,
          2001,
          2002,
          2003,
          2004,
          2005,
          2006,
          2007,
          2008,
          2009,
          2010,
          2011,
          2012,
          2013,
          2014,
          2015,
          2016,
          2017,
          2018,
          2019
         ],
         "xaxis": "x",
         "y": [
          0.321039361471149,
          0.739899877374855,
          1.37265903658744,
          2.09700750141283,
          3.10912774776403,
          3.91980662750335,
          4.92432911619111,
          5.75116727483476,
          6.89663275708642,
          8.14558417601514,
          9.65855968900341,
          10.8174151247569,
          12.051721455067,
          12.7656521798024,
          13.3876542443924,
          16.489385318836,
          18.6158425434135,
          21.8664135037003,
          22.7106782223651,
          25.3130638236403
         ],
         "yaxis": "y"
        },
        {
         "hovertemplate": "Entity=East Asia & Pacific (IDA & IBRD)<br>Year=%{x}<br>Fixed broadband subscriptions=%{y}<extra></extra>",
         "legendgroup": "East Asia & Pacific (IDA & IBRD)",
         "line": {
          "color": "#00cc96",
          "dash": "solid"
         },
         "marker": {
          "symbol": "square"
         },
         "mode": "lines+markers",
         "name": "East Asia & Pacific (IDA & IBRD)",
         "showlegend": true,
         "type": "scattergl",
         "x": [
          2000,
          2001,
          2002,
          2003,
          2004,
          2005,
          2006,
          2007,
          2008,
          2009,
          2010,
          2011,
          2012,
          2013,
          2014,
          2015,
          2016,
          2017,
          2018,
          2019
         ],
         "xaxis": "x",
         "y": [
          0.0017748899152151,
          0.0218041739858095,
          0.195617988558238,
          0.632716825635147,
          1.39997450308533,
          2.05313775476958,
          2.80598145592011,
          3.71412283454686,
          4.65589671450272,
          5.87934037740468,
          7.33659494200336,
          8.62638601987155,
          9.87481665456479,
          10.5884502629794,
          11.1843425023374,
          14.7058542001016,
          16.9805127357596,
          20.5377498949973,
          21.4051831602258,
          24.2140959256302
         ],
         "yaxis": "y"
        },
        {
         "hovertemplate": "Entity=East Asia & Pacific (excluding high income)<br>Year=%{x}<br>Fixed broadband subscriptions=%{y}<extra></extra>",
         "legendgroup": "East Asia & Pacific (excluding high income)",
         "line": {
          "color": "#ab63fa",
          "dash": "solid"
         },
         "marker": {
          "symbol": "x"
         },
         "mode": "lines+markers",
         "name": "East Asia & Pacific (excluding high income)",
         "showlegend": true,
         "type": "scattergl",
         "x": [
          2000,
          2001,
          2002,
          2003,
          2004,
          2005,
          2006,
          2007,
          2008,
          2009,
          2010,
          2011,
          2012,
          2013,
          2014,
          2015,
          2016,
          2017,
          2018,
          2019
         ],
         "xaxis": "x",
         "y": [
          0.0017748899152151,
          0.0218041739858095,
          0.195617988558238,
          0.632716825635147,
          1.39998567263332,
          2.05315393662138,
          2.80600512743452,
          3.71415461729616,
          4.65593583216954,
          5.87938804744466,
          7.33664084795102,
          8.62643698041165,
          9.87485989979124,
          10.5884532734038,
          11.1843859745554,
          14.7059212607148,
          16.9805127357596,
          20.5377498949973,
          21.4051831602258,
          24.2140959256302
         ],
         "yaxis": "y"
        },
        {
         "hovertemplate": "Entity=Ecuador<br>Year=%{x}<br>Fixed broadband subscriptions=%{y}<extra></extra>",
         "legendgroup": "Ecuador",
         "line": {
          "color": "#FFA15A",
          "dash": "solid"
         },
         "marker": {
          "symbol": "cross"
         },
         "mode": "lines+markers",
         "name": "Ecuador",
         "showlegend": true,
         "type": "scattergl",
         "x": [
          2001,
          2002,
          2003,
          2004,
          2005,
          2006,
          2007,
          2008,
          2009,
          2010,
          2011,
          2012,
          2013,
          2014,
          2015,
          2016,
          2017,
          2018,
          2019
         ],
         "xaxis": "x",
         "y": [
          0.020310241,
          0.049446626,
          0.051728995,
          0.085463875,
          0.193738583,
          0.327183609,
          0.69946911,
          1.073203089,
          1.632774313,
          1.474373959,
          4.322540109,
          5.452361982,
          6.738530969,
          8.272569183,
          9.175858406,
          9.760321861,
          10.59617961,
          11.43506241,
          12.0438512
         ],
         "yaxis": "y"
        },
        {
         "hovertemplate": "Entity=Egypt<br>Year=%{x}<br>Fixed broadband subscriptions=%{y}<extra></extra>",
         "legendgroup": "Egypt",
         "line": {
          "color": "#19d3f3",
          "dash": "solid"
         },
         "marker": {
          "symbol": "circle"
         },
         "mode": "lines+markers",
         "name": "Egypt",
         "showlegend": true,
         "type": "scattergl",
         "x": [
          2002,
          2003,
          2004,
          2005,
          2006,
          2007,
          2008,
          2009,
          2010,
          2011,
          2012,
          2013,
          2014,
          2015,
          2016,
          2017,
          2018,
          2019
         ],
         "xaxis": "x",
         "y": [
          0.071255465,
          0.0753,
          0.107,
          0.187,
          0.336299833,
          0.610276142,
          0.966576971,
          1.328023273,
          1.753995092,
          2.182970932,
          2.648361024,
          3.027287729,
          3.392745005,
          4.139230391,
          4.731924302,
          5.4269301,
          6.730521069,
          7.56956556
         ],
         "yaxis": "y"
        },
        {
         "hovertemplate": "Entity=El Salvador<br>Year=%{x}<br>Fixed broadband subscriptions=%{y}<extra></extra>",
         "legendgroup": "El Salvador",
         "line": {
          "color": "#FF6692",
          "dash": "solid"
         },
         "marker": {
          "symbol": "diamond"
         },
         "mode": "lines+markers",
         "name": "El Salvador",
         "showlegend": true,
         "type": "scattergl",
         "x": [
          2003,
          2004,
          2005,
          2006,
          2007,
          2008,
          2009,
          2010,
          2011,
          2012,
          2013,
          2014,
          2015,
          2016,
          2017,
          2018
         ],
         "xaxis": "x",
         "y": [
          0.327006143,
          0.486752791,
          0.699159617,
          1.011349971,
          1.470091601,
          2.01359674,
          2.426333529,
          2.834371652,
          3.31692689,
          3.881099526,
          4.539176868,
          5.066060611,
          5.580934065,
          6.219290535,
          7.06409047,
          7.666788252
         ],
         "yaxis": "y"
        },
        {
         "hovertemplate": "Entity=Equatorial Guinea<br>Year=%{x}<br>Fixed broadband subscriptions=%{y}<extra></extra>",
         "legendgroup": "Equatorial Guinea",
         "line": {
          "color": "#B6E880",
          "dash": "solid"
         },
         "marker": {
          "symbol": "square"
         },
         "mode": "lines+markers",
         "name": "Equatorial Guinea",
         "showlegend": true,
         "type": "scattergl",
         "x": [
          2005,
          2006,
          2007,
          2008,
          2009,
          2010,
          2011,
          2012,
          2013,
          2014,
          2015,
          2016,
          2017,
          2018
         ],
         "xaxis": "x",
         "y": [
          0.024014889,
          0.022944668,
          0.021906152,
          0.020909809,
          0.01996453,
          0.125683657,
          0.136393161,
          0.143523363,
          0.326826227,
          0.345814803,
          0.325098753,
          0.278312678,
          0.150316719,
          0.123760958
         ],
         "yaxis": "y"
        },
        {
         "hovertemplate": "Entity=Eritrea<br>Year=%{x}<br>Fixed broadband subscriptions=%{y}<extra></extra>",
         "legendgroup": "Eritrea",
         "line": {
          "color": "#FF97FF",
          "dash": "solid"
         },
         "marker": {
          "symbol": "x"
         },
         "mode": "lines+markers",
         "name": "Eritrea",
         "showlegend": true,
         "type": "scattergl",
         "x": [
          2008,
          2009,
          2010,
          2011,
          2012,
          2013,
          2014,
          2015,
          2016,
          2017
         ],
         "xaxis": "x",
         "y": [
          0.001436604,
          0.002243647,
          0.00372,
          0.004387095,
          0.005692133,
          0.004449254,
          0.006039652,
          0.01495744,
          0.01776958,
          0.029300655
         ],
         "yaxis": "y"
        },
        {
         "hovertemplate": "Entity=Estonia<br>Year=%{x}<br>Fixed broadband subscriptions=%{y}<extra></extra>",
         "legendgroup": "Estonia",
         "line": {
          "color": "#FECB52",
          "dash": "solid"
         },
         "marker": {
          "symbol": "cross"
         },
         "mode": "lines+markers",
         "name": "Estonia",
         "showlegend": true,
         "type": "scattergl",
         "x": [
          2001,
          2002,
          2003,
          2004,
          2005,
          2006,
          2007,
          2008,
          2009,
          2010,
          2011,
          2012,
          2013,
          2014,
          2015,
          2016,
          2017,
          2018,
          2019
         ],
         "xaxis": "x",
         "y": [
          1.255559627,
          3.362907635,
          6.577274969,
          10.17017891,
          13.21877065,
          18.2901117,
          19.70912656,
          21.98835437,
          23.4725533,
          26.11536212,
          26.28181326,
          26.41458812,
          27.36399047,
          28.18624043,
          29.671374,
          31.48308786,
          32.47356733,
          33.34842621,
          32.53133562
         ],
         "yaxis": "y"
        },
        {
         "hovertemplate": "Entity=Eswatini<br>Year=%{x}<br>Fixed broadband subscriptions=%{y}<extra></extra>",
         "legendgroup": "Eswatini",
         "line": {
          "color": "#636efa",
          "dash": "solid"
         },
         "marker": {
          "symbol": "circle"
         },
         "mode": "lines+markers",
         "name": "Eswatini",
         "showlegend": true,
         "type": "scattergl",
         "x": [
          2008,
          2009,
          2010,
          2011,
          2012,
          2013,
          2014,
          2015,
          2016,
          2017
         ],
         "xaxis": "x",
         "y": [
          0.073527661,
          0.142226661,
          0.343526756,
          0.748484422,
          0.317709453,
          0.38644036,
          0.465745343,
          0.543456601,
          0.62836794,
          0.711234392
         ],
         "yaxis": "y"
        },
        {
         "hovertemplate": "Entity=Ethiopia<br>Year=%{x}<br>Fixed broadband subscriptions=%{y}<extra></extra>",
         "legendgroup": "Ethiopia",
         "line": {
          "color": "#EF553B",
          "dash": "solid"
         },
         "marker": {
          "symbol": "diamond"
         },
         "mode": "lines+markers",
         "name": "Ethiopia",
         "showlegend": true,
         "type": "scattergl",
         "x": [
          2003,
          2004,
          2005,
          2006,
          2007,
          2008,
          2009,
          2010,
          2011,
          2012,
          2013,
          2014,
          2015,
          2016,
          2017
         ],
         "xaxis": "x",
         "y": [
          0.000079,
          0.0000471,
          0.0000799,
          0.00033253,
          0.001284175,
          0.00180423,
          0.004104,
          0.004686218,
          0.007047931,
          0.00920444,
          0.249583277,
          0.480440931,
          0.474039598,
          0.539557259,
          0.059163576
         ],
         "yaxis": "y"
        },
        {
         "hovertemplate": "Entity=Euro area<br>Year=%{x}<br>Fixed broadband subscriptions=%{y}<extra></extra>",
         "legendgroup": "Euro area",
         "line": {
          "color": "#00cc96",
          "dash": "solid"
         },
         "marker": {
          "symbol": "square"
         },
         "mode": "lines+markers",
         "name": "Euro area",
         "showlegend": true,
         "type": "scattergl",
         "x": [
          2000,
          2001,
          2002,
          2003,
          2004,
          2005,
          2006,
          2007,
          2008,
          2009,
          2010,
          2011,
          2012,
          2013,
          2014,
          2015,
          2016,
          2017,
          2018,
          2019
         ],
         "xaxis": "x",
         "y": [
          0.45090825245564,
          1.69458407146467,
          3.25314944012595,
          5.43471992908188,
          9.1607593933245,
          13.2082904671283,
          17.4689092483054,
          21.4594166450004,
          24.1077392089791,
          26.2807236937119,
          27.9903244032357,
          29.2451981140374,
          30.2211312947705,
          31.2692438746175,
          32.4574045823057,
          33.64380333848,
          34.8186890683153,
          36.036782531268,
          36.9575232986549,
          37.8043615183786
         ],
         "yaxis": "y"
        },
        {
         "hovertemplate": "Entity=Europe & Central Asia<br>Year=%{x}<br>Fixed broadband subscriptions=%{y}<extra></extra>",
         "legendgroup": "Europe & Central Asia",
         "line": {
          "color": "#ab63fa",
          "dash": "solid"
         },
         "marker": {
          "symbol": "x"
         },
         "mode": "lines+markers",
         "name": "Europe & Central Asia",
         "showlegend": true,
         "type": "scattergl",
         "x": [
          2002,
          2003,
          2004,
          2005,
          2006,
          2007,
          2008,
          2009,
          2010,
          2011,
          2012,
          2013,
          2014,
          2015,
          2016,
          2017,
          2018,
          2019
         ],
         "xaxis": "x",
         "y": [
          1.8922282010748,
          3.19207859255166,
          5.49892518916752,
          7.68584221406037,
          10.6885024587166,
          13.3736328686525,
          15.5463543218742,
          17.3673053186566,
          18.9934181089781,
          20.3191611085717,
          21.5020980216017,
          22.7566824349877,
          23.625685244382,
          24.7851427802973,
          25.692653916665,
          26.9770035513482,
          28.283780326879,
          29.1329009416491
         ],
         "yaxis": "y"
        },
        {
         "hovertemplate": "Entity=Europe & Central Asia (IDA & IBRD)<br>Year=%{x}<br>Fixed broadband subscriptions=%{y}<extra></extra>",
         "legendgroup": "Europe & Central Asia (IDA & IBRD)",
         "line": {
          "color": "#FFA15A",
          "dash": "solid"
         },
         "marker": {
          "symbol": "cross"
         },
         "mode": "lines+markers",
         "name": "Europe & Central Asia (IDA & IBRD)",
         "showlegend": true,
         "type": "scattergl",
         "x": [
          2002,
          2003,
          2004,
          2005,
          2006,
          2007,
          2008,
          2009,
          2010,
          2011,
          2012,
          2013,
          2014,
          2015,
          2016,
          2017,
          2018,
          2019
         ],
         "xaxis": "x",
         "y": [
          0.055771266640738,
          0.268100185000195,
          0.645721441944574,
          1.17826533517629,
          2.65573011042063,
          4.3158015307008,
          6.16808294991042,
          7.91271356479971,
          9.4758128778303,
          10.7702843284487,
          12.110978349706,
          13.4173175383981,
          14.024297829104,
          15.2028357637728,
          15.9056815458358,
          17.3732226593487,
          18.8733028595084,
          19.7579079568224
         ],
         "yaxis": "y"
        },
        {
         "hovertemplate": "Entity=Europe & Central Asia (excluding high income)<br>Year=%{x}<br>Fixed broadband subscriptions=%{y}<extra></extra>",
         "legendgroup": "Europe & Central Asia (excluding high income)",
         "line": {
          "color": "#19d3f3",
          "dash": "solid"
         },
         "marker": {
          "symbol": "circle"
         },
         "mode": "lines+markers",
         "name": "Europe & Central Asia (excluding high income)",
         "showlegend": true,
         "type": "scattergl",
         "x": [
          2002,
          2003,
          2004,
          2005,
          2006,
          2007,
          2008,
          2009,
          2010,
          2011,
          2012,
          2013,
          2014,
          2015,
          2016,
          2017,
          2018,
          2019
         ],
         "xaxis": "x",
         "y": [
          0.0187163325422135,
          0.24087263288491,
          0.444857689041572,
          1.03252303168217,
          2.11712190191056,
          3.620811546099,
          5.57461178519959,
          7.17608020108317,
          8.81252838079492,
          9.95544554635501,
          11.4539441361444,
          12.8538549012718,
          13.4639496415929,
          14.75732633942,
          15.5031437264909,
          17.0341301344146,
          18.6150971246738,
          19.6001994496187
         ],
         "yaxis": "y"
        },
        {
         "hovertemplate": "Entity=European Union<br>Year=%{x}<br>Fixed broadband subscriptions=%{y}<extra></extra>",
         "legendgroup": "European Union",
         "line": {
          "color": "#FF6692",
          "dash": "solid"
         },
         "marker": {
          "symbol": "diamond"
         },
         "mode": "lines+markers",
         "name": "European Union",
         "showlegend": true,
         "type": "scattergl",
         "x": [
          2000,
          2001,
          2002,
          2003,
          2004,
          2005,
          2006,
          2007,
          2008,
          2009,
          2010,
          2011,
          2012,
          2013,
          2014,
          2015,
          2016,
          2017,
          2018,
          2019
         ],
         "xaxis": "x",
         "y": [
          0.50173367641866,
          1.50893318348467,
          2.87437694461967,
          4.75209910911885,
          7.84246878160293,
          11.5359403988619,
          15.762173194305,
          19.6163042265457,
          22.0921896539273,
          24.2781703516645,
          25.8713577806862,
          27.301341266749,
          28.1891136746135,
          29.2455200246393,
          30.3546511449485,
          31.4496452477147,
          32.5528426981325,
          33.7703403608118,
          34.7170198136855,
          35.6016471223592
         ],
         "yaxis": "y"
        },
        {
         "hovertemplate": "Entity=Faeroe Islands<br>Year=%{x}<br>Fixed broadband subscriptions=%{y}<extra></extra>",
         "legendgroup": "Faeroe Islands",
         "line": {
          "color": "#B6E880",
          "dash": "solid"
         },
         "marker": {
          "symbol": "square"
         },
         "mode": "lines+markers",
         "name": "Faeroe Islands",
         "showlegend": true,
         "type": "scattergl",
         "x": [
          2001,
          2002,
          2003,
          2004,
          2005,
          2006,
          2007,
          2008,
          2009,
          2010,
          2011,
          2012,
          2013,
          2014,
          2015,
          2016,
          2017,
          2018
         ],
         "xaxis": "x",
         "y": [
          0.114900951,
          0.241356679,
          0.830662844,
          6.584033613,
          12.29621558,
          27.46903247,
          30.24150549,
          31.11250523,
          33.22038153,
          33.83736981,
          33.57589444,
          34.11993395,
          34.87012445,
          36.2030859,
          37.02732513,
          37.30928113,
          37.32800894,
          37.48891684
         ],
         "yaxis": "y"
        },
        {
         "hovertemplate": "Entity=Fiji<br>Year=%{x}<br>Fixed broadband subscriptions=%{y}<extra></extra>",
         "legendgroup": "Fiji",
         "line": {
          "color": "#FF97FF",
          "dash": "solid"
         },
         "marker": {
          "symbol": "x"
         },
         "mode": "lines+markers",
         "name": "Fiji",
         "showlegend": true,
         "type": "scattergl",
         "x": [
          2005,
          2006,
          2007,
          2008,
          2009,
          2010,
          2011,
          2012,
          2013,
          2014,
          2015,
          2016,
          2017,
          2018
         ],
         "xaxis": "x",
         "y": [
          0.851991957,
          1.02673125,
          1.375285521,
          1.541471632,
          1.502980775,
          2.704060627,
          2.692689435,
          1.56241872,
          1.262349701,
          1.43423821,
          1.465991732,
          1.413573376,
          1.3829706,
          1.475184016
         ],
         "yaxis": "y"
        },
        {
         "hovertemplate": "Entity=Finland<br>Year=%{x}<br>Fixed broadband subscriptions=%{y}<extra></extra>",
         "legendgroup": "Finland",
         "line": {
          "color": "#FECB52",
          "dash": "solid"
         },
         "marker": {
          "symbol": "cross"
         },
         "mode": "lines+markers",
         "name": "Finland",
         "showlegend": true,
         "type": "scattergl",
         "x": [
          2000,
          2001,
          2002,
          2003,
          2004,
          2005,
          2006,
          2007,
          2008,
          2009,
          2010,
          2011,
          2012,
          2013,
          2014,
          2015,
          2016,
          2017,
          2018,
          2019
         ],
         "xaxis": "x",
         "y": [
          0.674639752,
          2.576686715,
          5.246130811,
          9.395279556,
          15.26085571,
          22.32774861,
          27.07726077,
          30.52245496,
          30.41668413,
          29.3059382,
          29.06193356,
          29.7957083,
          30.42788521,
          31.62724201,
          32.19863878,
          31.56100156,
          31.1402214,
          31.02676267,
          31.45271337,
          32.48281502
         ],
         "yaxis": "y"
        },
        {
         "hovertemplate": "Entity=Fragile and conflict affected situations<br>Year=%{x}<br>Fixed broadband subscriptions=%{y}<extra></extra>",
         "legendgroup": "Fragile and conflict affected situations",
         "line": {
          "color": "#636efa",
          "dash": "solid"
         },
         "marker": {
          "symbol": "circle"
         },
         "mode": "lines+markers",
         "name": "Fragile and conflict affected situations",
         "showlegend": true,
         "type": "scattergl",
         "x": [
          2005,
          2007,
          2008,
          2009,
          2010,
          2012,
          2013,
          2014,
          2015,
          2016,
          2017,
          2018,
          2019
         ],
         "xaxis": "x",
         "y": [
          0.0818195449689879,
          0.203881487785624,
          0.261501017877163,
          0.361076074750245,
          0.431719162395299,
          0.811769396963958,
          0.870335880128004,
          1.09753533652323,
          0.919410840578734,
          1.00494184934715,
          1.47812866414812,
          1.76431560108661,
          1.9644127328352
         ],
         "yaxis": "y"
        },
        {
         "hovertemplate": "Entity=France<br>Year=%{x}<br>Fixed broadband subscriptions=%{y}<extra></extra>",
         "legendgroup": "France",
         "line": {
          "color": "#EF553B",
          "dash": "solid"
         },
         "marker": {
          "symbol": "diamond"
         },
         "mode": "lines+markers",
         "name": "France",
         "showlegend": true,
         "type": "scattergl",
         "x": [
          1998,
          1999,
          2000,
          2001,
          2002,
          2003,
          2004,
          2005,
          2006,
          2007,
          2008,
          2009,
          2010,
          2011,
          2012,
          2013,
          2014,
          2015,
          2016,
          2017,
          2018,
          2019
         ],
         "xaxis": "x",
         "y": [
          0.023037341,
          0.093689771,
          0.333136796,
          1.012896846,
          2.767399287,
          5.924127676,
          10.80931341,
          15.49571388,
          20.66529336,
          25.45692061,
          28.66135233,
          31.74141269,
          33.93314168,
          35.98259834,
          37.72562555,
          39.03368925,
          40.45422009,
          41.68450907,
          42.80350858,
          43.92180444,
          44.77576734,
          45.69341975
         ],
         "yaxis": "y"
        },
        {
         "hovertemplate": "Entity=French Polynesia<br>Year=%{x}<br>Fixed broadband subscriptions=%{y}<extra></extra>",
         "legendgroup": "French Polynesia",
         "line": {
          "color": "#00cc96",
          "dash": "solid"
         },
         "marker": {
          "symbol": "square"
         },
         "mode": "lines+markers",
         "name": "French Polynesia",
         "showlegend": true,
         "type": "scattergl",
         "x": [
          2001,
          2002,
          2003,
          2004,
          2005,
          2006,
          2007,
          2008,
          2009,
          2010,
          2011,
          2012,
          2013,
          2014,
          2015,
          2016,
          2017,
          2018
         ],
         "xaxis": "x",
         "y": [
          0.010206956,
          0.012852851,
          0.374352501,
          1.777789931,
          4.250714893,
          6.985939236,
          8.982913433,
          10.47901811,
          11.32122419,
          12.10223115,
          13.4479899,
          14.94434903,
          16.60945222,
          18.30661931,
          19.00528698,
          20.19229719,
          20.89227894,
          21.5320568
         ],
         "yaxis": "y"
        },
        {
         "hovertemplate": "Entity=Gabon<br>Year=%{x}<br>Fixed broadband subscriptions=%{y}<extra></extra>",
         "legendgroup": "Gabon",
         "line": {
          "color": "#ab63fa",
          "dash": "solid"
         },
         "marker": {
          "symbol": "x"
         },
         "mode": "lines+markers",
         "name": "Gabon",
         "showlegend": true,
         "type": "scattergl",
         "x": [
          2003,
          2004,
          2005,
          2006,
          2007,
          2008,
          2009,
          2010,
          2011,
          2012,
          2013,
          2014,
          2015,
          2016,
          2017,
          2018,
          2019
         ],
         "xaxis": "x",
         "y": [
          0.012879246,
          0.048013178,
          0.110028485,
          0.12327361,
          0.134662072,
          0.144875999,
          0.235638602,
          0.251333013,
          0.267120177,
          0.285766214,
          0.489799243,
          0.573309268,
          0.568982885,
          0.747955672,
          0.724856319,
          1.373063902,
          1.027902783
         ],
         "yaxis": "y"
        },
        {
         "hovertemplate": "Entity=Gambia<br>Year=%{x}<br>Fixed broadband subscriptions=%{y}<extra></extra>",
         "legendgroup": "Gambia",
         "line": {
          "color": "#FFA15A",
          "dash": "solid"
         },
         "marker": {
          "symbol": "cross"
         },
         "mode": "lines+markers",
         "name": "Gambia",
         "showlegend": true,
         "type": "scattergl",
         "x": [
          2004,
          2005,
          2007,
          2008,
          2009,
          2010,
          2011,
          2012,
          2013,
          2014,
          2015,
          2016,
          2017,
          2018
         ],
         "xaxis": "x",
         "y": [
          0.00240557,
          0.004599217,
          0.016403959,
          0.017758993,
          0.017238615,
          0.019518223,
          0.023645305,
          0.02624654,
          0.022304696,
          0.135520903,
          0.171296252,
          0.174488725,
          0.180677532,
          0.194421809
         ],
         "yaxis": "y"
        },
        {
         "hovertemplate": "Entity=Georgia<br>Year=%{x}<br>Fixed broadband subscriptions=%{y}<extra></extra>",
         "legendgroup": "Georgia",
         "line": {
          "color": "#19d3f3",
          "dash": "solid"
         },
         "marker": {
          "symbol": "circle"
         },
         "mode": "lines+markers",
         "name": "Georgia",
         "showlegend": true,
         "type": "scattergl",
         "x": [
          2001,
          2002,
          2003,
          2004,
          2005,
          2006,
          2007,
          2008,
          2009,
          2010,
          2011,
          2012,
          2013,
          2014,
          2015,
          2016,
          2017,
          2018,
          2019
         ],
         "xaxis": "x",
         "y": [
          0.010007031,
          0.021603491,
          0.033263119,
          0.04496173,
          0.056767331,
          0.644434473,
          1.121586074,
          2.706742415,
          3.641223898,
          4.450539009,
          6.089266475,
          11.39369888,
          12.76782356,
          14.88921176,
          15.79560373,
          16.9604403,
          19.47780786,
          21.53768403,
          23.55677654
         ],
         "yaxis": "y"
        },
        {
         "hovertemplate": "Entity=Germany<br>Year=%{x}<br>Fixed broadband subscriptions=%{y}<extra></extra>",
         "legendgroup": "Germany",
         "line": {
          "color": "#FF6692",
          "dash": "solid"
         },
         "marker": {
          "symbol": "diamond"
         },
         "mode": "lines+markers",
         "name": "Germany",
         "showlegend": true,
         "type": "scattergl",
         "x": [
          2000,
          2001,
          2002,
          2003,
          2004,
          2005,
          2006,
          2007,
          2008,
          2009,
          2010,
          2011,
          2012,
          2013,
          2014,
          2015,
          2016,
          2017,
          2018,
          2019
         ],
         "xaxis": "x",
         "y": [
          0.325549298,
          2.578145904,
          3.93082137,
          5.476975994,
          8.573548443,
          13.21867362,
          18.38319724,
          24.3010917,
          28.01446411,
          30.85860573,
          32.3678342,
          33.7108193,
          34.52611171,
          35.2844895,
          36.30777257,
          37.54542249,
          38.76437445,
          40.21768674,
          41.11294951,
          41.99327095
         ],
         "yaxis": "y"
        },
        {
         "hovertemplate": "Entity=Ghana<br>Year=%{x}<br>Fixed broadband subscriptions=%{y}<extra></extra>",
         "legendgroup": "Ghana",
         "line": {
          "color": "#B6E880",
          "dash": "solid"
         },
         "marker": {
          "symbol": "square"
         },
         "mode": "lines+markers",
         "name": "Ghana",
         "showlegend": true,
         "type": "scattergl",
         "x": [
          2004,
          2005,
          2006,
          2007,
          2008,
          2009,
          2010,
          2011,
          2012,
          2013,
          2014,
          2015,
          2016,
          2017,
          2018,
          2019
         ],
         "xaxis": "x",
         "y": [
          0.00423085,
          0.008728083,
          0.056968447,
          0.070532303,
          0.097522367,
          0.117500602,
          0.210192901,
          0.256616272,
          0.262081938,
          0.25855351,
          0.257746036,
          0.262599956,
          0.304038225,
          0.195079471,
          0.205824537,
          0.192380423
         ],
         "yaxis": "y"
        },
        {
         "hovertemplate": "Entity=Gibraltar<br>Year=%{x}<br>Fixed broadband subscriptions=%{y}<extra></extra>",
         "legendgroup": "Gibraltar",
         "line": {
          "color": "#FF97FF",
          "dash": "solid"
         },
         "marker": {
          "symbol": "x"
         },
         "mode": "lines+markers",
         "name": "Gibraltar",
         "showlegend": true,
         "type": "scattergl",
         "x": [
          2009,
          2010,
          2011,
          2012,
          2014,
          2015,
          2016,
          2017,
          2018,
          2019
         ],
         "xaxis": "x",
         "y": [
          27.69849546,
          31.0644633,
          33.57134357,
          35.60304345,
          38.54707191,
          46.17322741,
          48.62317337,
          51.50913188,
          56.28744291,
          57.8528827
         ],
         "yaxis": "y"
        },
        {
         "hovertemplate": "Entity=Greece<br>Year=%{x}<br>Fixed broadband subscriptions=%{y}<extra></extra>",
         "legendgroup": "Greece",
         "line": {
          "color": "#FECB52",
          "dash": "solid"
         },
         "marker": {
          "symbol": "cross"
         },
         "mode": "lines+markers",
         "name": "Greece",
         "showlegend": true,
         "type": "scattergl",
         "x": [
          2003,
          2004,
          2005,
          2006,
          2007,
          2008,
          2009,
          2010,
          2011,
          2012,
          2013,
          2014,
          2015,
          2016,
          2017,
          2018,
          2019
         ],
         "xaxis": "x",
         "y": [
          0.093378272,
          0.457988755,
          1.426422995,
          4.364506472,
          9.14966047,
          13.64998027,
          17.48866166,
          20.69000831,
          22.75615498,
          24.94570836,
          27.1234207,
          29.49197754,
          32.26186355,
          34.0552614,
          35.74706347,
          37.6522655,
          39.61582878
         ],
         "yaxis": "y"
        },
        {
         "hovertemplate": "Entity=Greenland<br>Year=%{x}<br>Fixed broadband subscriptions=%{y}<extra></extra>",
         "legendgroup": "Greenland",
         "line": {
          "color": "#636efa",
          "dash": "solid"
         },
         "marker": {
          "symbol": "circle"
         },
         "mode": "lines+markers",
         "name": "Greenland",
         "showlegend": true,
         "type": "scattergl",
         "x": [
          2003,
          2004,
          2005,
          2006,
          2007,
          2008,
          2009,
          2010,
          2011,
          2012,
          2013,
          2014,
          2015,
          2017,
          2018,
          2019
         ],
         "xaxis": "x",
         "y": [
          0.209846935,
          5.83879988,
          12.51602255,
          16.17665128,
          18.52723664,
          21.13439243,
          22.10548583,
          21.87577245,
          21.02666572,
          20.15229325,
          19.14418407,
          18.44593037,
          17.73772993,
          21.27441086,
          23.32225444,
          25.41643139
         ],
         "yaxis": "y"
        },
        {
         "hovertemplate": "Entity=Grenada<br>Year=%{x}<br>Fixed broadband subscriptions=%{y}<extra></extra>",
         "legendgroup": "Grenada",
         "line": {
          "color": "#EF553B",
          "dash": "solid"
         },
         "marker": {
          "symbol": "diamond"
         },
         "mode": "lines+markers",
         "name": "Grenada",
         "showlegend": true,
         "type": "scattergl",
         "x": [
          2002,
          2004,
          2005,
          2006,
          2007,
          2008,
          2009,
          2010,
          2011,
          2012,
          2013,
          2014,
          2015,
          2016,
          2017,
          2018,
          2019
         ],
         "xaxis": "x",
         "y": [
          0.543258004,
          0.58362962,
          3.07851062,
          5.283371294,
          7.22502139,
          8.490744955,
          11.69403246,
          13.5899391,
          13.74021499,
          14.89120116,
          16.64047333,
          17.27332831,
          18.02662433,
          18.88337672,
          20.05429587,
          24.2135769,
          22.83599546
         ],
         "yaxis": "y"
        },
        {
         "hovertemplate": "Entity=Guam<br>Year=%{x}<br>Fixed broadband subscriptions=%{y}<extra></extra>",
         "legendgroup": "Guam",
         "line": {
          "color": "#00cc96",
          "dash": "solid"
         },
         "marker": {
          "symbol": "square"
         },
         "mode": "lines+markers",
         "name": "Guam",
         "showlegend": true,
         "type": "scattergl",
         "x": [
          2001,
          2007,
          2008,
          2009,
          2010,
          2013,
          2014
         ],
         "xaxis": "x",
         "y": [
          1.118918677,
          1.699748815,
          1.697728816,
          1.884114403,
          1.881538346,
          1.87024257,
          1.863168878
         ],
         "yaxis": "y"
        },
        {
         "hovertemplate": "Entity=Guatemala<br>Year=%{x}<br>Fixed broadband subscriptions=%{y}<extra></extra>",
         "legendgroup": "Guatemala",
         "line": {
          "color": "#ab63fa",
          "dash": "solid"
         },
         "marker": {
          "symbol": "x"
         },
         "mode": "lines+markers",
         "name": "Guatemala",
         "showlegend": true,
         "type": "scattergl",
         "x": [
          2005,
          2006,
          2007,
          2008,
          2009,
          2010,
          2012,
          2013,
          2014,
          2015,
          2016,
          2017
         ],
         "xaxis": "x",
         "y": [
          0.206978788,
          0.291109494,
          0.416048464,
          0.674690221,
          1.089669839,
          1.77028447,
          1.835545828,
          2.262311892,
          2.723906121,
          2.829404762,
          3.05130363,
          3.139231107
         ],
         "yaxis": "y"
        },
        {
         "hovertemplate": "Entity=Guinea<br>Year=%{x}<br>Fixed broadband subscriptions=%{y}<extra></extra>",
         "legendgroup": "Guinea",
         "line": {
          "color": "#FFA15A",
          "dash": "solid"
         },
         "marker": {
          "symbol": "cross"
         },
         "mode": "lines+markers",
         "name": "Guinea",
         "showlegend": true,
         "type": "scattergl",
         "x": [
          2010,
          2011,
          2012,
          2013,
          2014,
          2015,
          2016,
          2017,
          2018,
          2019
         ],
         "xaxis": "x",
         "y": [
          0.004905724,
          0.005757897,
          0.006571517,
          0.007344289,
          0.008071038,
          0.008747308,
          0.00937093,
          0.009339119,
          0.009770995,
          0.009787612
         ],
         "yaxis": "y"
        },
        {
         "hovertemplate": "Entity=Guinea-Bissau<br>Year=%{x}<br>Fixed broadband subscriptions=%{y}<extra></extra>",
         "legendgroup": "Guinea-Bissau",
         "line": {
          "color": "#19d3f3",
          "dash": "solid"
         },
         "marker": {
          "symbol": "circle"
         },
         "mode": "lines+markers",
         "name": "Guinea-Bissau",
         "showlegend": true,
         "type": "scattergl",
         "x": [
          2010,
          2011,
          2012,
          2013,
          2014,
          2015,
          2016,
          2017,
          2018,
          2019
         ],
         "xaxis": "x",
         "y": [
          0.052541739,
          0.063979977,
          0.074954252,
          0.088093165,
          0.08242552,
          0.060499585,
          0.049707199,
          0.046659319,
          0.064237212,
          0.063875576
         ],
         "yaxis": "y"
        },
        {
         "hovertemplate": "Entity=Guyana<br>Year=%{x}<br>Fixed broadband subscriptions=%{y}<extra></extra>",
         "legendgroup": "Guyana",
         "line": {
          "color": "#FF6692",
          "dash": "solid"
         },
         "marker": {
          "symbol": "diamond"
         },
         "mode": "lines+markers",
         "name": "Guyana",
         "showlegend": true,
         "type": "scattergl",
         "x": [
          2005,
          2007,
          2008,
          2009,
          2010,
          2011,
          2012,
          2013,
          2014,
          2015,
          2016,
          2017
         ],
         "xaxis": "x",
         "y": [
          0.268037949,
          0.316420934,
          0.680755794,
          0.912509796,
          1.493523129,
          2.731281282,
          3.968895908,
          4.85983524,
          5.924310304,
          6.995668672,
          7.41578598,
          8.370376486
         ],
         "yaxis": "y"
        },
        {
         "hovertemplate": "Entity=Haiti<br>Year=%{x}<br>Fixed broadband subscriptions=%{y}<extra></extra>",
         "legendgroup": "Haiti",
         "line": {
          "color": "#B6E880",
          "dash": "solid"
         },
         "marker": {
          "symbol": "square"
         },
         "mode": "lines+markers",
         "name": "Haiti",
         "showlegend": true,
         "type": "scattergl",
         "x": [
          2012,
          2013,
          2014,
          2015,
          2016,
          2017,
          2018,
          2019
         ],
         "xaxis": "x",
         "y": [
          0,
          0,
          0,
          0.012603382,
          0.012435459,
          0.272254631,
          0.279596353,
          0.276123479
         ],
         "yaxis": "y"
        },
        {
         "hovertemplate": "Entity=Heavily indebted poor countries (HIPC)<br>Year=%{x}<br>Fixed broadband subscriptions=%{y}<extra></extra>",
         "legendgroup": "Heavily indebted poor countries (HIPC)",
         "line": {
          "color": "#FF97FF",
          "dash": "solid"
         },
         "marker": {
          "symbol": "x"
         },
         "mode": "lines+markers",
         "name": "Heavily indebted poor countries (HIPC)",
         "showlegend": true,
         "type": "scattergl",
         "x": [
          2006,
          2007,
          2008,
          2009,
          2010,
          2011,
          2012,
          2013,
          2014,
          2015,
          2016,
          2017,
          2018,
          2019
         ],
         "xaxis": "x",
         "y": [
          0.0269613338157319,
          0.0473934395631577,
          0.0681700556202836,
          0.0832347579208207,
          0.0847566585625015,
          0.137128722611957,
          0.155583962033643,
          0.188996115526087,
          0.258193815362973,
          0.279578652082047,
          0.387403132063988,
          0.409664041304837,
          0.555985132871871,
          0.672099694106168
         ],
         "yaxis": "y"
        },
        {
         "hovertemplate": "Entity=High income<br>Year=%{x}<br>Fixed broadband subscriptions=%{y}<extra></extra>",
         "legendgroup": "High income",
         "line": {
          "color": "#FECB52",
          "dash": "solid"
         },
         "marker": {
          "symbol": "cross"
         },
         "mode": "lines+markers",
         "name": "High income",
         "showlegend": true,
         "type": "scattergl",
         "x": [
          2000,
          2001,
          2002,
          2003,
          2004,
          2005,
          2006,
          2007,
          2008,
          2009,
          2010,
          2011,
          2012,
          2013,
          2014,
          2015,
          2016,
          2017,
          2018,
          2019
         ],
         "xaxis": "x",
         "y": [
          1.67616659007079,
          3.45430970531961,
          5.73710543934229,
          8.18654543237573,
          11.3645918313851,
          15.1066312699039,
          18.5691338650216,
          21.6896138974776,
          23.6042697705389,
          25.0417264622127,
          26.3534526793981,
          27.5401024093965,
          28.4754273483515,
          29.9484423673601,
          30.7526039965582,
          31.3383187898915,
          32.2388739320227,
          33.1741297193146,
          33.8757042850575,
          34.6506148147532
         ],
         "yaxis": "y"
        },
        {
         "hovertemplate": "Entity=Honduras<br>Year=%{x}<br>Fixed broadband subscriptions=%{y}<extra></extra>",
         "legendgroup": "Honduras",
         "line": {
          "color": "#636efa",
          "dash": "solid"
         },
         "marker": {
          "symbol": "circle"
         },
         "mode": "lines+markers",
         "name": "Honduras",
         "showlegend": true,
         "type": "scattergl",
         "x": [
          2010,
          2011,
          2012,
          2013,
          2014,
          2015,
          2016,
          2017,
          2018,
          2019
         ],
         "xaxis": "x",
         "y": [
          0.012022887,
          0.675536169,
          0.70916782,
          0.784120422,
          1.762608802,
          2.165925813,
          2.377207133,
          2.52721043,
          3.701279642,
          4.005461868
         ],
         "yaxis": "y"
        },
        {
         "hovertemplate": "Entity=Hong Kong<br>Year=%{x}<br>Fixed broadband subscriptions=%{y}<extra></extra>",
         "legendgroup": "Hong Kong",
         "line": {
          "color": "#EF553B",
          "dash": "solid"
         },
         "marker": {
          "symbol": "diamond"
         },
         "mode": "lines+markers",
         "name": "Hong Kong",
         "showlegend": true,
         "type": "scattergl",
         "x": [
          1998,
          1999,
          2000,
          2001,
          2002,
          2003,
          2004,
          2005,
          2006,
          2007,
          2008,
          2009,
          2010,
          2011,
          2012,
          2013,
          2014,
          2015,
          2016,
          2017,
          2018,
          2019
         ],
         "xaxis": "x",
         "y": [
          0.17141988,
          1.325679582,
          6.727641547,
          10.74958003,
          15.50328085,
          18.85541863,
          22.50316774,
          24.5081596,
          26.40721662,
          27.7621321,
          28.12443375,
          29.65314308,
          31.11701124,
          32.81196702,
          32.00067605,
          31.53185218,
          31.97449917,
          32.67233937,
          36.25336886,
          36.380384,
          36.82553485,
          37.71828824
         ],
         "yaxis": "y"
        },
        {
         "hovertemplate": "Entity=Hungary<br>Year=%{x}<br>Fixed broadband subscriptions=%{y}<extra></extra>",
         "legendgroup": "Hungary",
         "line": {
          "color": "#00cc96",
          "dash": "solid"
         },
         "marker": {
          "symbol": "square"
         },
         "mode": "lines+markers",
         "name": "Hungary",
         "showlegend": true,
         "type": "scattergl",
         "x": [
          2000,
          2001,
          2002,
          2003,
          2004,
          2005,
          2006,
          2007,
          2008,
          2009,
          2010,
          2011,
          2012,
          2013,
          2014,
          2015,
          2016,
          2017,
          2018,
          2019
         ],
         "xaxis": "x",
         "y": [
          0.033266451,
          0.307884015,
          1.096241739,
          2.606272424,
          4.064578703,
          6.461362985,
          11.92553084,
          14.51006963,
          17.7201518,
          19.8477344,
          21.7521962,
          23.37476555,
          24.289822,
          26.41020272,
          26.31860651,
          27.80543475,
          28.85809714,
          30.38683232,
          31.7234027,
          32.93541273
         ],
         "yaxis": "y"
        },
        {
         "hovertemplate": "Entity=IBRD only<br>Year=%{x}<br>Fixed broadband subscriptions=%{y}<extra></extra>",
         "legendgroup": "IBRD only",
         "line": {
          "color": "#ab63fa",
          "dash": "solid"
         },
         "marker": {
          "symbol": "x"
         },
         "mode": "lines+markers",
         "name": "IBRD only",
         "showlegend": true,
         "type": "scattergl",
         "x": [
          2001,
          2002,
          2003,
          2004,
          2005,
          2006,
          2007,
          2008,
          2009,
          2010,
          2011,
          2012,
          2013,
          2014,
          2015,
          2016,
          2017,
          2018,
          2019
         ],
         "xaxis": "x",
         "y": [
          0.0309326597915813,
          0.135672866420169,
          0.376266523840698,
          0.862972301250596,
          1.31564125361901,
          1.8989114010496,
          2.66326238979484,
          3.49949845255584,
          4.41104079782653,
          5.37906890927801,
          6.41116035922124,
          7.14773000944664,
          7.71122076294736,
          8.16425141117864,
          10.0706641926863,
          11.261649416133,
          13.0501732535382,
          13.6897272371332,
          14.8276388721961
         ],
         "yaxis": "y"
        },
        {
         "hovertemplate": "Entity=IDA & IBRD total<br>Year=%{x}<br>Fixed broadband subscriptions=%{y}<extra></extra>",
         "legendgroup": "IDA & IBRD total",
         "line": {
          "color": "#FFA15A",
          "dash": "solid"
         },
         "marker": {
          "symbol": "cross"
         },
         "mode": "lines+markers",
         "name": "IDA & IBRD total",
         "showlegend": true,
         "type": "scattergl",
         "x": [
          2002,
          2003,
          2004,
          2005,
          2006,
          2007,
          2008,
          2009,
          2010,
          2011,
          2012,
          2013,
          2014,
          2015,
          2016,
          2017,
          2018,
          2019
         ],
         "xaxis": "x",
         "y": [
          0.133271094301775,
          0.357298024785756,
          0.795203522581931,
          1.0931623865522,
          1.60722784995433,
          2.1207170895946,
          2.7726034777219,
          3.51137309978558,
          4.17858315879197,
          5.21264258008101,
          5.6242540389449,
          6.00770154108304,
          6.40511637278489,
          7.80049590554479,
          8.72509787655482,
          10.1568858236429,
          10.9180152416189,
          12.0140860357901
         ],
         "yaxis": "y"
        },
        {
         "hovertemplate": "Entity=IDA blend<br>Year=%{x}<br>Fixed broadband subscriptions=%{y}<extra></extra>",
         "legendgroup": "IDA blend",
         "line": {
          "color": "#19d3f3",
          "dash": "solid"
         },
         "marker": {
          "symbol": "circle"
         },
         "mode": "lines+markers",
         "name": "IDA blend",
         "showlegend": true,
         "type": "scattergl",
         "x": [
          2005,
          2007,
          2008,
          2009,
          2010,
          2012,
          2013,
          2014,
          2015,
          2016,
          2017,
          2018,
          2019
         ],
         "xaxis": "x",
         "y": [
          0.0163099566008394,
          0.0479762078977767,
          0.0901322992450296,
          0.158808088912838,
          0.253140181013206,
          0.418194416545428,
          0.461248183501283,
          0.645846259085284,
          0.796184699942954,
          1.02018394980065,
          1.17689620643094,
          1.3283308764512,
          1.3938343194186
         ],
         "yaxis": "y"
        },
        {
         "hovertemplate": "Entity=IDA only<br>Year=%{x}<br>Fixed broadband subscriptions=%{y}<extra></extra>",
         "legendgroup": "IDA only",
         "line": {
          "color": "#FF6692",
          "dash": "solid"
         },
         "marker": {
          "symbol": "diamond"
         },
         "mode": "lines+markers",
         "name": "IDA only",
         "showlegend": true,
         "type": "scattergl",
         "x": [
          2007,
          2008,
          2009,
          2010,
          2011,
          2012,
          2013,
          2014,
          2015,
          2016,
          2017,
          2018,
          2019
         ],
         "xaxis": "x",
         "y": [
          0.0401717080690577,
          0.0559972738636707,
          0.11174137164184,
          0.133662616469016,
          0.196025423312035,
          0.264656811048444,
          0.417700755965806,
          0.6666241041702,
          0.848794199221183,
          1.05162508296053,
          1.22350152395933,
          1.55849722710428,
          1.71868308676084
         ],
         "yaxis": "y"
        },
        {
         "hovertemplate": "Entity=IDA total<br>Year=%{x}<br>Fixed broadband subscriptions=%{y}<extra></extra>",
         "legendgroup": "IDA total",
         "line": {
          "color": "#B6E880",
          "dash": "solid"
         },
         "marker": {
          "symbol": "square"
         },
         "mode": "lines+markers",
         "name": "IDA total",
         "showlegend": true,
         "type": "scattergl",
         "x": [
          2005,
          2007,
          2008,
          2009,
          2010,
          2011,
          2012,
          2013,
          2014,
          2015,
          2016,
          2017,
          2018,
          2019
         ],
         "xaxis": "x",
         "y": [
          0.0140395342060536,
          0.0430363368547002,
          0.0685044518069989,
          0.129573176475056,
          0.175248416484368,
          0.281613785306965,
          0.321154503108721,
          0.432971959797278,
          0.659247519872664,
          0.83114272561597,
          1.04107092950203,
          1.20743208324452,
          1.47067058266893,
          1.58127106619843
         ],
         "yaxis": "y"
        },
        {
         "hovertemplate": "Entity=Iceland<br>Year=%{x}<br>Fixed broadband subscriptions=%{y}<extra></extra>",
         "legendgroup": "Iceland",
         "line": {
          "color": "#FF97FF",
          "dash": "solid"
         },
         "marker": {
          "symbol": "x"
         },
         "mode": "lines+markers",
         "name": "Iceland",
         "showlegend": true,
         "type": "scattergl",
         "x": [
          1999,
          2000,
          2001,
          2002,
          2003,
          2004,
          2005,
          2006,
          2007,
          2008,
          2009,
          2010,
          2011,
          2012,
          2013,
          2014,
          2015,
          2016,
          2017,
          2018,
          2019
         ],
         "xaxis": "x",
         "y": [
          0.029150322,
          0.840836557,
          3.684603067,
          8.505970301,
          14.43678113,
          19.15604045,
          26.44832344,
          29.27332177,
          32.77574439,
          34.10485884,
          33.87689757,
          34.09380385,
          34.49550814,
          34.82859003,
          35.9020988,
          36.41180302,
          37.68013251,
          38.53723292,
          40.25921595,
          40.9811917,
          41.07028561
         ],
         "yaxis": "y"
        },
        {
         "hovertemplate": "Entity=India<br>Year=%{x}<br>Fixed broadband subscriptions=%{y}<extra></extra>",
         "legendgroup": "India",
         "line": {
          "color": "#FECB52",
          "dash": "solid"
         },
         "marker": {
          "symbol": "cross"
         },
         "mode": "lines+markers",
         "name": "India",
         "showlegend": true,
         "type": "scattergl",
         "x": [
          2001,
          2002,
          2003,
          2004,
          2005,
          2006,
          2007,
          2008,
          2009,
          2010,
          2011,
          2012,
          2013,
          2014,
          2015,
          2016,
          2017,
          2018,
          2019
         ],
         "xaxis": "x",
         "y": [
          0.004651162,
          0.00753752,
          0.012627897,
          0.020803392,
          0.117461514,
          0.197342519,
          0.264534732,
          0.439754556,
          0.636079761,
          0.890396797,
          1.067848976,
          1.183631838,
          1.165457452,
          1.215652255,
          1.293189247,
          1.408310236,
          1.333856253,
          1.343296766,
          1.401954779
         ],
         "yaxis": "y"
        },
        {
         "hovertemplate": "Entity=Indonesia<br>Year=%{x}<br>Fixed broadband subscriptions=%{y}<extra></extra>",
         "legendgroup": "Indonesia",
         "line": {
          "color": "#636efa",
          "dash": "solid"
         },
         "marker": {
          "symbol": "circle"
         },
         "mode": "lines+markers",
         "name": "Indonesia",
         "showlegend": true,
         "type": "scattergl",
         "x": [
          2000,
          2001,
          2002,
          2003,
          2004,
          2005,
          2006,
          2007,
          2008,
          2009,
          2010,
          2011,
          2012,
          2013,
          2014,
          2015,
          2016,
          2017,
          2018,
          2019
         ],
         "xaxis": "x",
         "y": [
          0.001891129,
          0.006995374,
          0.017620716,
          0.027960668,
          0.038023039,
          0.047814863,
          0.0848,
          0.335136108,
          0.416852674,
          0.781081469,
          0.942925301,
          1.116360884,
          1.200635671,
          1.291394546,
          1.332663991,
          1.541508557,
          1.998572155,
          2.348724875,
          3.315312884,
          3.800218906
         ],
         "yaxis": "y"
        },
        {
         "hovertemplate": "Entity=Iran<br>Year=%{x}<br>Fixed broadband subscriptions=%{y}<extra></extra>",
         "legendgroup": "Iran",
         "line": {
          "color": "#EF553B",
          "dash": "solid"
         },
         "marker": {
          "symbol": "diamond"
         },
         "mode": "lines+markers",
         "name": "Iran",
         "showlegend": true,
         "type": "scattergl",
         "x": [
          2000,
          2001,
          2002,
          2003,
          2006,
          2007,
          2008,
          2009,
          2010,
          2011,
          2012,
          2013,
          2014,
          2015,
          2016,
          2017,
          2018,
          2019
         ],
         "xaxis": "x",
         "y": [
          0.000268197,
          0.000994746,
          0.024033661,
          0.027450372,
          0.141733882,
          0.280361484,
          0.415969894,
          0.548509968,
          1.338822228,
          2.840100785,
          5.035343054,
          6.748200402,
          7.932819876,
          8.419512687,
          9.562818677,
          10.66014016,
          12.70539134,
          10.57874538
         ],
         "yaxis": "y"
        },
        {
         "hovertemplate": "Entity=Iraq<br>Year=%{x}<br>Fixed broadband subscriptions=%{y}<extra></extra>",
         "legendgroup": "Iraq",
         "line": {
          "color": "#00cc96",
          "dash": "solid"
         },
         "marker": {
          "symbol": "square"
         },
         "mode": "lines+markers",
         "name": "Iraq",
         "showlegend": true,
         "type": "scattergl",
         "x": [
          2006,
          2007,
          2008,
          2009,
          2010,
          2017,
          2018,
          2019
         ],
         "xaxis": "x",
         "y": [
          0.0000947,
          0.000351113,
          0.000190236,
          0.000417628,
          0.010480138,
          11.42900974,
          11.68854336,
          11.59775672
         ],
         "yaxis": "y"
        },
        {
         "hovertemplate": "Entity=Ireland<br>Year=%{x}<br>Fixed broadband subscriptions=%{y}<extra></extra>",
         "legendgroup": "Ireland",
         "line": {
          "color": "#ab63fa",
          "dash": "solid"
         },
         "marker": {
          "symbol": "x"
         },
         "mode": "lines+markers",
         "name": "Ireland",
         "showlegend": true,
         "type": "scattergl",
         "x": [
          2002,
          2003,
          2004,
          2005,
          2006,
          2007,
          2008,
          2009,
          2010,
          2011,
          2012,
          2013,
          2014,
          2015,
          2016,
          2017,
          2018,
          2019
         ],
         "xaxis": "x",
         "y": [
          0.271238624,
          1.050231202,
          3.748031729,
          7.787554546,
          13.27700436,
          17.54416147,
          20.18271816,
          21.72353966,
          22.39552285,
          23.3228384,
          24.13268701,
          25.76605129,
          27.20554227,
          28.14590241,
          28.96652504,
          29.42806429,
          29.6794357,
          29.95495131
         ],
         "yaxis": "y"
        },
        {
         "hovertemplate": "Entity=Israel<br>Year=%{x}<br>Fixed broadband subscriptions=%{y}<extra></extra>",
         "legendgroup": "Israel",
         "line": {
          "color": "#FFA15A",
          "dash": "solid"
         },
         "marker": {
          "symbol": "cross"
         },
         "mode": "lines+markers",
         "name": "Israel",
         "showlegend": true,
         "type": "scattergl",
         "x": [
          2001,
          2002,
          2003,
          2004,
          2005,
          2006,
          2007,
          2008,
          2009,
          2010,
          2011,
          2012,
          2013,
          2014,
          2015,
          2016,
          2017,
          2018,
          2019
         ],
         "xaxis": "x",
         "y": [
          0.723764148,
          3.755085858,
          10.08382107,
          15.32084507,
          18.83191599,
          21.27042676,
          22.32318569,
          23.98574757,
          23.96372535,
          23.98438646,
          25.09688665,
          25.43679855,
          25.8958135,
          27.13193543,
          27.23573007,
          27.84565516,
          28.40906334,
          29.05202352,
          29.12184776
         ],
         "yaxis": "y"
        },
        {
         "hovertemplate": "Entity=Italy<br>Year=%{x}<br>Fixed broadband subscriptions=%{y}<extra></extra>",
         "legendgroup": "Italy",
         "line": {
          "color": "#19d3f3",
          "dash": "solid"
         },
         "marker": {
          "symbol": "circle"
         },
         "mode": "lines+markers",
         "name": "Italy",
         "showlegend": true,
         "type": "scattergl",
         "x": [
          2000,
          2001,
          2002,
          2003,
          2004,
          2005,
          2006,
          2007,
          2008,
          2009,
          2010,
          2011,
          2012,
          2013,
          2014,
          2015,
          2016,
          2017,
          2018,
          2019
         ],
         "xaxis": "x",
         "y": [
          0.202849853,
          0.685712513,
          1.486468268,
          3.908653007,
          8.152939586,
          11.70567626,
          14.51493313,
          17.22977795,
          19.13757364,
          20.44566317,
          22.07834377,
          22.68655752,
          22.98510954,
          23.29020159,
          23.80827259,
          24.59646983,
          25.65528181,
          27.33701048,
          28.13997577,
          28.85296013
         ],
         "yaxis": "y"
        },
        {
         "hovertemplate": "Entity=Jamaica<br>Year=%{x}<br>Fixed broadband subscriptions=%{y}<extra></extra>",
         "legendgroup": "Jamaica",
         "line": {
          "color": "#FF6692",
          "dash": "solid"
         },
         "marker": {
          "symbol": "diamond"
         },
         "mode": "lines+markers",
         "name": "Jamaica",
         "showlegend": true,
         "type": "scattergl",
         "x": [
          2001,
          2002,
          2003,
          2004,
          2005,
          2006,
          2007,
          2008,
          2009,
          2010,
          2011,
          2012,
          2013,
          2014,
          2015,
          2016,
          2017,
          2018,
          2019
         ],
         "xaxis": "x",
         "y": [
          0.120948053,
          0.334219014,
          0.33217233,
          0.990820234,
          1.642333968,
          2.477593181,
          3.351170262,
          3.498466502,
          4.013145258,
          4.151811447,
          4.185136994,
          4.329355568,
          4.925854721,
          5.271188628,
          7.917272133,
          9.843247417,
          8.186663599,
          9.702584155,
          10.78279905
         ],
         "yaxis": "y"
        },
        {
         "hovertemplate": "Entity=Japan<br>Year=%{x}<br>Fixed broadband subscriptions=%{y}<extra></extra>",
         "legendgroup": "Japan",
         "line": {
          "color": "#B6E880",
          "dash": "solid"
         },
         "marker": {
          "symbol": "square"
         },
         "mode": "lines+markers",
         "name": "Japan",
         "showlegend": true,
         "type": "scattergl",
         "x": [
          1998,
          1999,
          2000,
          2001,
          2002,
          2003,
          2004,
          2005,
          2006,
          2007,
          2008,
          2009,
          2010,
          2011,
          2012,
          2013,
          2014,
          2015,
          2016,
          2017,
          2018,
          2019
         ],
         "xaxis": "x",
         "y": [
          0.025173573,
          0.169643185,
          0.670190579,
          3.002807182,
          7.347876951,
          11.64872297,
          15.25468492,
          18.15772637,
          20.58737279,
          22.02670198,
          23.43083573,
          25.56349787,
          26.5296046,
          27.77937861,
          28.1353374,
          28.77207,
          29.48375616,
          30.37273009,
          31.15573635,
          31.78948999,
          32.62230968,
          33.50338023
         ],
         "yaxis": "y"
        },
        {
         "hovertemplate": "Entity=Jordan<br>Year=%{x}<br>Fixed broadband subscriptions=%{y}<extra></extra>",
         "legendgroup": "Jordan",
         "line": {
          "color": "#FF97FF",
          "dash": "solid"
         },
         "marker": {
          "symbol": "x"
         },
         "mode": "lines+markers",
         "name": "Jordan",
         "showlegend": true,
         "type": "scattergl",
         "x": [
          2001,
          2002,
          2003,
          2004,
          2005,
          2006,
          2007,
          2008,
          2009,
          2010,
          2011,
          2012,
          2013,
          2014,
          2015,
          2016,
          2017,
          2018,
          2019
         ],
         "xaxis": "x",
         "y": [
          0.00783925,
          0.059746054,
          0.091939132,
          0.186801867,
          0.40847192,
          0.811510897,
          1.419888478,
          2.224334467,
          3.452589921,
          4.038758175,
          3.870781169,
          3.711933381,
          3.854708948,
          3.944273844,
          3.34239997,
          3.111943687,
          3.391889692,
          4.009867021,
          4.528903766
         ],
         "yaxis": "y"
        },
        {
         "hovertemplate": "Entity=Kazakhstan<br>Year=%{x}<br>Fixed broadband subscriptions=%{y}<extra></extra>",
         "legendgroup": "Kazakhstan",
         "line": {
          "color": "#FECB52",
          "dash": "solid"
         },
         "marker": {
          "symbol": "cross"
         },
         "mode": "lines+markers",
         "name": "Kazakhstan",
         "showlegend": true,
         "type": "scattergl",
         "x": [
          2003,
          2004,
          2005,
          2006,
          2007,
          2008,
          2009,
          2010,
          2011,
          2012,
          2013,
          2014,
          2015,
          2016,
          2017,
          2018,
          2019
         ],
         "xaxis": "x",
         "y": [
          0.006609254,
          0.013095069,
          0.019451,
          0.196125486,
          1.721871158,
          2.126449278,
          3.598726847,
          5.35063421,
          7.236819365,
          9.774035498,
          11.50481346,
          12.41430847,
          13.09468418,
          13.17880684,
          14.24832573,
          13.43532382,
          13.53588595
         ],
         "yaxis": "y"
        },
        {
         "hovertemplate": "Entity=Kenya<br>Year=%{x}<br>Fixed broadband subscriptions=%{y}<extra></extra>",
         "legendgroup": "Kenya",
         "line": {
          "color": "#636efa",
          "dash": "solid"
         },
         "marker": {
          "symbol": "circle"
         },
         "mode": "lines+markers",
         "name": "Kenya",
         "showlegend": true,
         "type": "scattergl",
         "x": [
          2005,
          2006,
          2007,
          2008,
          2009,
          2010,
          2011,
          2012,
          2013,
          2014,
          2015,
          2016,
          2017,
          2018,
          2019
         ],
         "xaxis": "x",
         "y": [
          0.014741339,
          0.04707425,
          0.045825017,
          0.008247893,
          0.044496828,
          0.016335688,
          0.125396397,
          0.122561459,
          0.162882318,
          0.218014733,
          0.28218817,
          0.270535882,
          0.574066994,
          0.722863317,
          0.934270271
         ],
         "yaxis": "y"
        },
        {
         "hovertemplate": "Entity=Kiribati<br>Year=%{x}<br>Fixed broadband subscriptions=%{y}<extra></extra>",
         "legendgroup": "Kiribati",
         "line": {
          "color": "#EF553B",
          "dash": "solid"
         },
         "marker": {
          "symbol": "diamond"
         },
         "mode": "lines+markers",
         "name": "Kiribati",
         "showlegend": true,
         "type": "scattergl",
         "x": [
          2005,
          2006,
          2007,
          2008,
          2009,
          2010,
          2011,
          2012,
          2013,
          2014,
          2015,
          2016,
          2017,
          2018,
          2019
         ],
         "xaxis": "x",
         "y": [
          0.348767939,
          0.426104745,
          0.522133704,
          0.693593625,
          0.757951055,
          0.821941765,
          0.811626308,
          0.752091755,
          0.648808972,
          0.457075993,
          0.105471919,
          0.097756923,
          0.097233659,
          0.075099053,
          0.089281159
         ],
         "yaxis": "y"
        },
        {
         "hovertemplate": "Entity=Kuwait<br>Year=%{x}<br>Fixed broadband subscriptions=%{y}<extra></extra>",
         "legendgroup": "Kuwait",
         "line": {
          "color": "#00cc96",
          "dash": "solid"
         },
         "marker": {
          "symbol": "square"
         },
         "mode": "lines+markers",
         "name": "Kuwait",
         "showlegend": true,
         "type": "scattergl",
         "x": [
          2001,
          2002,
          2003,
          2004,
          2005,
          2006,
          2007,
          2008,
          2009,
          2010,
          2011,
          2012,
          2013,
          2014,
          2015,
          2016,
          2017,
          2018,
          2019
         ],
         "xaxis": "x",
         "y": [
          0.23772371,
          0.491343694,
          0.601399132,
          0.908887649,
          1.101225532,
          1.263864595,
          1.397752972,
          1.506018993,
          1.595153569,
          1.537492764,
          1.483557761,
          1.403465604,
          1.332813064,
          1.300481368,
          1.433938082,
          2.562375612,
          2.90227137,
          2.509382904,
          2.010775637
         ],
         "yaxis": "y"
        },
        {
         "hovertemplate": "Entity=Kyrgyzstan<br>Year=%{x}<br>Fixed broadband subscriptions=%{y}<extra></extra>",
         "legendgroup": "Kyrgyzstan",
         "line": {
          "color": "#ab63fa",
          "dash": "solid"
         },
         "marker": {
          "symbol": "x"
         },
         "mode": "lines+markers",
         "name": "Kyrgyzstan",
         "showlegend": true,
         "type": "scattergl",
         "x": [
          2002,
          2003,
          2004,
          2005,
          2006,
          2007,
          2008,
          2009,
          2010,
          2011,
          2012,
          2013,
          2014,
          2015,
          2016,
          2017,
          2018,
          2019
         ],
         "xaxis": "x",
         "y": [
          0.000721229,
          0.002772498,
          0.037844773,
          0.045159474,
          0.053899182,
          0.060084191,
          0.36217081,
          0.325322276,
          0.425152237,
          0.707512719,
          0.971506923,
          2.376422953,
          2.920781339,
          3.549533564,
          3.965424993,
          4.16840274,
          3.975425244,
          4.194159776
         ],
         "yaxis": "y"
        },
        {
         "hovertemplate": "Entity=Laos<br>Year=%{x}<br>Fixed broadband subscriptions=%{y}<extra></extra>",
         "legendgroup": "Laos",
         "line": {
          "color": "#FFA15A",
          "dash": "solid"
         },
         "marker": {
          "symbol": "cross"
         },
         "mode": "lines+markers",
         "name": "Laos",
         "showlegend": true,
         "type": "scattergl",
         "x": [
          2003,
          2004,
          2005,
          2006,
          2007,
          2008,
          2009,
          2010,
          2011,
          2012,
          2013,
          2014,
          2015,
          2016,
          2017,
          2018,
          2019
         ],
         "xaxis": "x",
         "y": [
          0.000448299,
          0.000883048,
          0.005459278,
          0.012675173,
          0.019091841,
          0.047894526,
          0.070210842,
          0.094172581,
          0.103126127,
          0.117588094,
          0.137969432,
          0.242764945,
          0.215838096,
          0.356800314,
          0.391440572,
          0.642624867,
          1.063958139
         ],
         "yaxis": "y"
        },
        {
         "hovertemplate": "Entity=Late-demographic dividend<br>Year=%{x}<br>Fixed broadband subscriptions=%{y}<extra></extra>",
         "legendgroup": "Late-demographic dividend",
         "line": {
          "color": "#19d3f3",
          "dash": "solid"
         },
         "marker": {
          "symbol": "circle"
         },
         "mode": "lines+markers",
         "name": "Late-demographic dividend",
         "showlegend": true,
         "type": "scattergl",
         "x": [
          2000,
          2001,
          2002,
          2003,
          2004,
          2005,
          2006,
          2007,
          2008,
          2009,
          2010,
          2011,
          2012,
          2013,
          2014,
          2015,
          2016,
          2017,
          2018,
          2019
         ],
         "xaxis": "x",
         "y": [
          0.0094244056941538,
          0.0481446715966589,
          0.232619505244504,
          0.670572407358206,
          1.5233208076783,
          2.24110199727715,
          3.2574324838168,
          4.4719566216058,
          5.75806279168155,
          7.1979476269084,
          8.63515174973068,
          10.457608334079,
          11.663933756814,
          12.615011517524,
          13.4220966972716,
          17.0933850116846,
          19.271633080079,
          22.8695894307645,
          23.7107561092535,
          25.6827429762419
         ],
         "yaxis": "y"
        },
        {
         "hovertemplate": "Entity=Latin America & Caribbean<br>Year=%{x}<br>Fixed broadband subscriptions=%{y}<extra></extra>",
         "legendgroup": "Latin America & Caribbean",
         "line": {
          "color": "#FF6692",
          "dash": "solid"
         },
         "marker": {
          "symbol": "diamond"
         },
         "mode": "lines+markers",
         "name": "Latin America & Caribbean",
         "showlegend": true,
         "type": "scattergl",
         "x": [
          2000,
          2001,
          2002,
          2003,
          2004,
          2005,
          2006,
          2007,
          2008,
          2009,
          2010,
          2011,
          2012,
          2013,
          2014,
          2015,
          2016,
          2017,
          2018,
          2019
         ],
         "xaxis": "x",
         "y": [
          0.035413321826502,
          0.143386814750485,
          0.320631660404229,
          0.496933110363888,
          1.21133522327013,
          1.58796643596095,
          2.43082521902298,
          3.62190051392542,
          4.97473550942881,
          5.96054426054586,
          6.75378452308192,
          8.09688067267406,
          8.58546650962809,
          9.29179088193493,
          10.0001398460887,
          10.7776958348608,
          11.3772713440125,
          12.0880022141618,
          13.1708011261462,
          14.1128001178405
         ],
         "yaxis": "y"
        },
        {
         "hovertemplate": "Entity=Latin America & Caribbean (IDA & IBRD)<br>Year=%{x}<br>Fixed broadband subscriptions=%{y}<extra></extra>",
         "legendgroup": "Latin America & Caribbean (IDA & IBRD)",
         "line": {
          "color": "#B6E880",
          "dash": "solid"
         },
         "marker": {
          "symbol": "square"
         },
         "mode": "lines+markers",
         "name": "Latin America & Caribbean (IDA & IBRD)",
         "showlegend": true,
         "type": "scattergl",
         "x": [
          2000,
          2001,
          2002,
          2003,
          2004,
          2005,
          2006,
          2007,
          2008,
          2009,
          2010,
          2011,
          2012,
          2013,
          2014,
          2015,
          2016,
          2017,
          2018,
          2019
         ],
         "xaxis": "x",
         "y": [
          0.035413321826502,
          0.143182074598379,
          0.316918900441279,
          0.482263194754939,
          1.19478364754626,
          1.56728809903192,
          2.40925293309457,
          3.67678546385256,
          5.01816570806115,
          6.01741321699397,
          6.8197991357773,
          8.1995454602839,
          8.68097084117882,
          9.39912560260025,
          10.1196179819998,
          10.8982698271832,
          11.5111120686813,
          12.2348078075262,
          13.3474071739629,
          14.3039916051484
         ],
         "yaxis": "y"
        },
        {
         "hovertemplate": "Entity=Latin America & Caribbean (excluding high income)<br>Year=%{x}<br>Fixed broadband subscriptions=%{y}<extra></extra>",
         "legendgroup": "Latin America & Caribbean (excluding high income)",
         "line": {
          "color": "#FF97FF",
          "dash": "solid"
         },
         "marker": {
          "symbol": "x"
         },
         "mode": "lines+markers",
         "name": "Latin America & Caribbean (excluding high income)",
         "showlegend": true,
         "type": "scattergl",
         "x": [
          2000,
          2001,
          2002,
          2003,
          2004,
          2005,
          2006,
          2007,
          2008,
          2009,
          2010,
          2011,
          2012,
          2013,
          2014,
          2015,
          2016,
          2017,
          2018,
          2019
         ],
         "xaxis": "x",
         "y": [
          0.035940838331446,
          0.131255260483057,
          0.285810657400524,
          0.423281626080488,
          1.15805241456047,
          1.48456813943439,
          2.29894799681304,
          3.47676608924173,
          4.82336369502917,
          5.78003053265435,
          6.56082108798084,
          7.96149025994049,
          8.40648535451591,
          9.1003772634799,
          9.79669737968651,
          10.5502246957406,
          11.177294835252,
          11.9099356735317,
          13.0630079755478,
          14.0607295939565
         ],
         "yaxis": "y"
        },
        {
         "hovertemplate": "Entity=Latvia<br>Year=%{x}<br>Fixed broadband subscriptions=%{y}<extra></extra>",
         "legendgroup": "Latvia",
         "line": {
          "color": "#FECB52",
          "dash": "solid"
         },
         "marker": {
          "symbol": "cross"
         },
         "mode": "lines+markers",
         "name": "Latvia",
         "showlegend": true,
         "type": "scattergl",
         "x": [
          2000,
          2001,
          2002,
          2003,
          2004,
          2005,
          2006,
          2007,
          2008,
          2009,
          2010,
          2011,
          2012,
          2013,
          2014,
          2015,
          2016,
          2017,
          2018,
          2019
         ],
         "xaxis": "x",
         "y": [
          0.011911932,
          0.137152228,
          0.42871903,
          0.847107008,
          2.156590773,
          2.698498619,
          4.92902233,
          15.40242456,
          18.98014009,
          21.20091291,
          20.5240457,
          21.84848181,
          23.01292015,
          24.25478873,
          24.98492247,
          25.20446279,
          26.29605129,
          26.97057091,
          27.27540487,
          26.68917626
         ],
         "yaxis": "y"
        },
        {
         "hovertemplate": "Entity=Least developed countries: UN classification<br>Year=%{x}<br>Fixed broadband subscriptions=%{y}<extra></extra>",
         "legendgroup": "Least developed countries: UN classification",
         "line": {
          "color": "#636efa",
          "dash": "solid"
         },
         "marker": {
          "symbol": "circle"
         },
         "mode": "lines+markers",
         "name": "Least developed countries: UN classification",
         "showlegend": true,
         "type": "scattergl",
         "x": [
          2007,
          2008,
          2009,
          2010,
          2011,
          2012,
          2013,
          2014,
          2015,
          2016,
          2017,
          2018
         ],
         "xaxis": "x",
         "y": [
          0.0331939665401423,
          0.0441143971334201,
          0.0949096545967968,
          0.112481622314679,
          0.155228411124642,
          0.208655560646216,
          0.351051894450195,
          0.588697620550657,
          0.766548200898766,
          0.933135231572708,
          1.0672391518276,
          1.39347265899071
         ],
         "yaxis": "y"
        },
        {
         "hovertemplate": "Entity=Lebanon<br>Year=%{x}<br>Fixed broadband subscriptions=%{y}<extra></extra>",
         "legendgroup": "Lebanon",
         "line": {
          "color": "#EF553B",
          "dash": "solid"
         },
         "marker": {
          "symbol": "diamond"
         },
         "mode": "lines+markers",
         "name": "Lebanon",
         "showlegend": true,
         "type": "scattergl",
         "x": [
          2002,
          2003,
          2004,
          2005,
          2006,
          2007,
          2008,
          2009,
          2010,
          2011,
          2012,
          2013,
          2014,
          2019
         ],
         "xaxis": "x",
         "y": [
          0,
          0,
          0,
          0,
          0,
          1.048802016,
          2.098749964,
          4.093059127,
          6.684533059,
          7.734082836,
          8.599103729,
          8.117676545,
          18.0822719,
          6.126277456
         ],
         "yaxis": "y"
        },
        {
         "hovertemplate": "Entity=Lesotho<br>Year=%{x}<br>Fixed broadband subscriptions=%{y}<extra></extra>",
         "legendgroup": "Lesotho",
         "line": {
          "color": "#00cc96",
          "dash": "solid"
         },
         "marker": {
          "symbol": "square"
         },
         "mode": "lines+markers",
         "name": "Lesotho",
         "showlegend": true,
         "type": "scattergl",
         "x": [
          2004,
          2005,
          2007,
          2008,
          2009,
          2010,
          2011,
          2012,
          2013,
          2014,
          2015,
          2016,
          2017,
          2018,
          2019
         ],
         "xaxis": "x",
         "y": [
          0.001096743,
          0.00225438,
          0.005536201,
          0.00704534,
          0.020099179,
          0.020044288,
          0.066823436,
          0.081191309,
          0.112150178,
          0.073503324,
          0.10014468,
          0.107468326,
          0.230500676,
          0.273344565,
          0.297797737
         ],
         "yaxis": "y"
        },
        {
         "hovertemplate": "Entity=Liberia<br>Year=%{x}<br>Fixed broadband subscriptions=%{y}<extra></extra>",
         "legendgroup": "Liberia",
         "line": {
          "color": "#ab63fa",
          "dash": "solid"
         },
         "marker": {
          "symbol": "x"
         },
         "mode": "lines+markers",
         "name": "Liberia",
         "showlegend": true,
         "type": "scattergl",
         "x": [
          2008,
          2009,
          2010,
          2011,
          2012,
          2013,
          2014,
          2015,
          2016,
          2017
         ],
         "xaxis": "x",
         "y": [
          0.003048899,
          0.003995596,
          0.004779825,
          0.001568162,
          0.01267029,
          0.119576286,
          0.137630273,
          0.156521467,
          0.174414029,
          0.191398712
         ],
         "yaxis": "y"
        },
        {
         "hovertemplate": "Entity=Libya<br>Year=%{x}<br>Fixed broadband subscriptions=%{y}<extra></extra>",
         "legendgroup": "Libya",
         "line": {
          "color": "#FFA15A",
          "dash": "solid"
         },
         "marker": {
          "symbol": "cross"
         },
         "mode": "lines+markers",
         "name": "Libya",
         "showlegend": true,
         "type": "scattergl",
         "x": [
          2008,
          2009,
          2010,
          2011,
          2012,
          2013,
          2014,
          2015,
          2016,
          2017
         ],
         "xaxis": "x",
         "y": [
          0.76322699,
          1.027064955,
          1.17463631,
          1.120459119,
          1.070676075,
          1.023675867,
          0.987105231,
          0.950405208,
          2.60190673,
          4.832295048
         ],
         "yaxis": "y"
        },
        {
         "hovertemplate": "Entity=Liechtenstein<br>Year=%{x}<br>Fixed broadband subscriptions=%{y}<extra></extra>",
         "legendgroup": "Liechtenstein",
         "line": {
          "color": "#19d3f3",
          "dash": "solid"
         },
         "marker": {
          "symbol": "circle"
         },
         "mode": "lines+markers",
         "name": "Liechtenstein",
         "showlegend": true,
         "type": "scattergl",
         "x": [
          2002,
          2003,
          2004,
          2005,
          2006,
          2007,
          2008,
          2009,
          2010,
          2011,
          2012,
          2013,
          2014,
          2015,
          2016,
          2017,
          2018,
          2019
         ],
         "xaxis": "x",
         "y": [
          4.241565572,
          4.389173372,
          13.76117497,
          24.82355314,
          28.59593938,
          40.32143567,
          43.83862874,
          44.73647382,
          42.36817247,
          37.45901413,
          39.37184214,
          40.65630584,
          41.93643715,
          41.88951161,
          42.31504594,
          42.9973545,
          44.08335532,
          45.1695205
         ],
         "yaxis": "y"
        },
        {
         "hovertemplate": "Entity=Lithuania<br>Year=%{x}<br>Fixed broadband subscriptions=%{y}<extra></extra>",
         "legendgroup": "Lithuania",
         "line": {
          "color": "#FF6692",
          "dash": "solid"
         },
         "marker": {
          "symbol": "diamond"
         },
         "mode": "lines+markers",
         "name": "Lithuania",
         "showlegend": true,
         "type": "scattergl",
         "x": [
          2001,
          2002,
          2003,
          2004,
          2005,
          2006,
          2007,
          2008,
          2009,
          2010,
          2011,
          2012,
          2013,
          2014,
          2015,
          2016,
          2017,
          2018,
          2019
         ],
         "xaxis": "x",
         "y": [
          0.069869373,
          0.580591466,
          1.956147043,
          3.816799763,
          6.999468942,
          11.16190153,
          17.15371067,
          18.36687816,
          20.01029279,
          21.74651132,
          23.6005154,
          25.24529963,
          27.79057301,
          26.9851526,
          28.42196816,
          29.68486173,
          28.072154,
          28.15668213,
          28.69322557
         ],
         "yaxis": "y"
        },
        {
         "hovertemplate": "Entity=Low & middle income<br>Year=%{x}<br>Fixed broadband subscriptions=%{y}<extra></extra>",
         "legendgroup": "Low & middle income",
         "line": {
          "color": "#B6E880",
          "dash": "solid"
         },
         "marker": {
          "symbol": "square"
         },
         "mode": "lines+markers",
         "name": "Low & middle income",
         "showlegend": true,
         "type": "scattergl",
         "x": [
          2002,
          2003,
          2004,
          2005,
          2006,
          2007,
          2008,
          2009,
          2010,
          2011,
          2012,
          2013,
          2014,
          2015,
          2016,
          2017,
          2018,
          2019
         ],
         "xaxis": "x",
         "y": [
          0.125917604119083,
          0.348451046840165,
          0.772958241436113,
          1.06764140982673,
          1.53829402706667,
          2.02274459407986,
          2.66942635370813,
          3.38450311309976,
          4.04798406335594,
          5.06408572107403,
          5.48130124376035,
          5.86264766591445,
          6.25519504559208,
          7.66399811749137,
          8.59759592663546,
          10.0394500981232,
          10.8004462102779,
          11.9077683739268
         ],
         "yaxis": "y"
        },
        {
         "hovertemplate": "Entity=Low income<br>Year=%{x}<br>Fixed broadband subscriptions=%{y}<extra></extra>",
         "legendgroup": "Low income",
         "line": {
          "color": "#FF97FF",
          "dash": "solid"
         },
         "marker": {
          "symbol": "x"
         },
         "mode": "lines+markers",
         "name": "Low income",
         "showlegend": true,
         "type": "scattergl",
         "x": [
          2007,
          2008,
          2009,
          2010,
          2011,
          2012,
          2013,
          2014,
          2015,
          2016,
          2017
         ],
         "xaxis": "x",
         "y": [
          0.0264093454453909,
          0.0346454783222154,
          0.0436998022964122,
          0.0574098876577411,
          0.106787231761379,
          0.153771831945537,
          0.212381071861999,
          0.311067148374156,
          0.367887346146317,
          0.4027879132312,
          0.410637798155857
         ],
         "yaxis": "y"
        },
        {
         "hovertemplate": "Entity=Lower middle income<br>Year=%{x}<br>Fixed broadband subscriptions=%{y}<extra></extra>",
         "legendgroup": "Lower middle income",
         "line": {
          "color": "#FECB52",
          "dash": "solid"
         },
         "marker": {
          "symbol": "cross"
         },
         "mode": "lines+markers",
         "name": "Lower middle income",
         "showlegend": true,
         "type": "scattergl",
         "x": [
          2002,
          2003,
          2004,
          2005,
          2006,
          2007,
          2008,
          2009,
          2010,
          2011,
          2012,
          2013,
          2014,
          2015,
          2016,
          2017,
          2018,
          2019
         ],
         "xaxis": "x",
         "y": [
          0.0127408647618925,
          0.0218355678213906,
          0.0399594512335425,
          0.111062875339604,
          0.212696915184107,
          0.31821895938763,
          0.513540342449649,
          0.759824012063511,
          0.972421996172502,
          1.26153592728075,
          1.41974865047923,
          1.56820841855073,
          1.78171841914725,
          2.03735087382854,
          2.34902747839752,
          2.57999500708671,
          2.91462309737621,
          3.20516506628337
         ],
         "yaxis": "y"
        },
        {
         "hovertemplate": "Entity=Luxembourg<br>Year=%{x}<br>Fixed broadband subscriptions=%{y}<extra></extra>",
         "legendgroup": "Luxembourg",
         "line": {
          "color": "#636efa",
          "dash": "solid"
         },
         "marker": {
          "symbol": "circle"
         },
         "mode": "lines+markers",
         "name": "Luxembourg",
         "showlegend": true,
         "type": "scattergl",
         "x": [
          2001,
          2002,
          2003,
          2004,
          2005,
          2006,
          2007,
          2008,
          2009,
          2010,
          2011,
          2012,
          2013,
          2014,
          2015,
          2016,
          2017,
          2018,
          2019
         ],
         "xaxis": "x",
         "y": [
          0.276012158,
          1.313197784,
          3.431756095,
          8.078456196,
          15.3109588,
          21.24739589,
          27.09537496,
          29.50113822,
          31.4423989,
          33.15055061,
          32.68837123,
          31.9671776,
          32.53096432,
          33.68703518,
          34.46018552,
          35.06173351,
          36.25551182,
          37.12070435,
          37.37033663
         ],
         "yaxis": "y"
        },
        {
         "hovertemplate": "Entity=Macao<br>Year=%{x}<br>Fixed broadband subscriptions=%{y}<extra></extra>",
         "legendgroup": "Macao",
         "line": {
          "color": "#EF553B",
          "dash": "solid"
         },
         "marker": {
          "symbol": "diamond"
         },
         "mode": "lines+markers",
         "name": "Macao",
         "showlegend": true,
         "type": "scattergl",
         "x": [
          2000,
          2001,
          2002,
          2003,
          2004,
          2005,
          2006,
          2007,
          2008,
          2009,
          2010,
          2011,
          2012,
          2013,
          2014,
          2015,
          2016,
          2017,
          2018
         ],
         "xaxis": "x",
         "y": [
          0.87217321,
          2.235019569,
          3.777452481,
          6.035661122,
          9.588271342,
          14.08902824,
          18.67500744,
          21.90200015,
          23.5946813,
          23.9631459,
          24.54038226,
          24.99146745,
          25.63581596,
          26.29084888,
          27.36289579,
          28.2250845,
          29.03860087,
          29.8754387,
          30.56459733
         ],
         "yaxis": "y"
        },
        {
         "hovertemplate": "Entity=Madagascar<br>Year=%{x}<br>Fixed broadband subscriptions=%{y}<extra></extra>",
         "legendgroup": "Madagascar",
         "line": {
          "color": "#00cc96",
          "dash": "solid"
         },
         "marker": {
          "symbol": "square"
         },
         "mode": "lines+markers",
         "name": "Madagascar",
         "showlegend": true,
         "type": "scattergl",
         "x": [
          2006,
          2007,
          2008,
          2009,
          2010,
          2011,
          2012,
          2013,
          2014,
          2015,
          2016,
          2017,
          2018
         ],
         "xaxis": "x",
         "y": [
          0.007208584,
          0.012113085,
          0.017443076,
          0.022246944,
          0.025487385,
          0.031512189,
          0.139067856,
          0.165443918,
          0.10527816,
          0.097771371,
          0.10598782,
          0.098011334,
          0.103612351
         ],
         "yaxis": "y"
        },
        {
         "hovertemplate": "Entity=Malawi<br>Year=%{x}<br>Fixed broadband subscriptions=%{y}<extra></extra>",
         "legendgroup": "Malawi",
         "line": {
          "color": "#ab63fa",
          "dash": "solid"
         },
         "marker": {
          "symbol": "x"
         },
         "mode": "lines+markers",
         "name": "Malawi",
         "showlegend": true,
         "type": "scattergl",
         "x": [
          2003,
          2004,
          2005,
          2007,
          2008,
          2009,
          2010,
          2011,
          2012,
          2013,
          2014,
          2015,
          2016,
          2017,
          2018,
          2019
         ],
         "xaxis": "x",
         "y": [
          0.000574991,
          0.001121784,
          0.003199759,
          0.007000551,
          0.007182458,
          0.007318719,
          0.007462372,
          0.011562536,
          0.008041042,
          0.055412851,
          0.052555159,
          0.034965029,
          0.050519431,
          0.061210413,
          0.062601908,
          0.060970284
         ],
         "yaxis": "y"
        },
        {
         "hovertemplate": "Entity=Malaysia<br>Year=%{x}<br>Fixed broadband subscriptions=%{y}<extra></extra>",
         "legendgroup": "Malaysia",
         "line": {
          "color": "#FFA15A",
          "dash": "solid"
         },
         "marker": {
          "symbol": "cross"
         },
         "mode": "lines+markers",
         "name": "Malaysia",
         "showlegend": true,
         "type": "scattergl",
         "x": [
          2001,
          2002,
          2003,
          2004,
          2005,
          2006,
          2007,
          2008,
          2009,
          2010,
          2011,
          2012,
          2013,
          2014,
          2015,
          2016,
          2017,
          2018,
          2019
         ],
         "xaxis": "x",
         "y": [
          0.016871146,
          0.079732684,
          0.446993032,
          1.002355953,
          1.880453524,
          2.866197687,
          3.87419785,
          4.880671564,
          5.601578364,
          7.436888107,
          8.749096322,
          10.04844161,
          9.972539546,
          10.24890578,
          10.12125085,
          8.860455132,
          8.641152836,
          8.551120205,
          9.278625012
         ],
         "yaxis": "y"
        },
        {
         "hovertemplate": "Entity=Maldives<br>Year=%{x}<br>Fixed broadband subscriptions=%{y}<extra></extra>",
         "legendgroup": "Maldives",
         "line": {
          "color": "#19d3f3",
          "dash": "solid"
         },
         "marker": {
          "symbol": "circle"
         },
         "mode": "lines+markers",
         "name": "Maldives",
         "showlegend": true,
         "type": "scattergl",
         "x": [
          2002,
          2003,
          2004,
          2005,
          2006,
          2007,
          2008,
          2009,
          2010,
          2011,
          2012,
          2013,
          2014,
          2015,
          2016,
          2017,
          2018,
          2019
         ],
         "xaxis": "x",
         "y": [
          0.06458499,
          0.166180459,
          0.230350345,
          1.019999499,
          1.915801238,
          3.104404047,
          4.471949501,
          4.352033684,
          4.252544199,
          4.635540546,
          4.546152549,
          4.896858224,
          4.561222027,
          5.094358287,
          6.163672,
          7.359760839,
          9.238388508,
          9.977530968
         ],
         "yaxis": "y"
        },
        {
         "hovertemplate": "Entity=Mali<br>Year=%{x}<br>Fixed broadband subscriptions=%{y}<extra></extra>",
         "legendgroup": "Mali",
         "line": {
          "color": "#FF6692",
          "dash": "solid"
         },
         "marker": {
          "symbol": "diamond"
         },
         "mode": "lines+markers",
         "name": "Mali",
         "showlegend": true,
         "type": "scattergl",
         "x": [
          2006,
          2007,
          2008,
          2009,
          2010,
          2011,
          2012,
          2013,
          2015,
          2016,
          2017,
          2018,
          2019
         ],
         "xaxis": "x",
         "y": [
          0.023365233,
          0.023440709,
          0.037354102,
          0.056537669,
          0.053284683,
          0.054671119,
          0.027034645,
          0.017684048,
          0.020064479,
          0.119362489,
          0.08318735,
          0.633900781,
          0.725006487
         ],
         "yaxis": "y"
        },
        {
         "hovertemplate": "Entity=Malta<br>Year=%{x}<br>Fixed broadband subscriptions=%{y}<extra></extra>",
         "legendgroup": "Malta",
         "line": {
          "color": "#B6E880",
          "dash": "solid"
         },
         "marker": {
          "symbol": "square"
         },
         "mode": "lines+markers",
         "name": "Malta",
         "showlegend": true,
         "type": "scattergl",
         "x": [
          2000,
          2001,
          2002,
          2003,
          2004,
          2005,
          2006,
          2007,
          2008,
          2009,
          2010,
          2011,
          2012,
          2013,
          2014,
          2015,
          2016,
          2017,
          2018,
          2019
         ],
         "xaxis": "x",
         "y": [
          0.420683611,
          2.310460023,
          4.433960845,
          5.671819767,
          9.344690021,
          12.70446531,
          13.03085192,
          20.59129292,
          23.98318889,
          27.61643729,
          30.38939971,
          30.80528783,
          32.18470919,
          33.55852738,
          35.22967385,
          37.64308895,
          39.27176752,
          41.40313701,
          43.6730503,
          45.98680207
         ],
         "yaxis": "y"
        },
        {
         "hovertemplate": "Entity=Marshall Islands<br>Year=%{x}<br>Fixed broadband subscriptions=%{y}<extra></extra>",
         "legendgroup": "Marshall Islands",
         "line": {
          "color": "#FF97FF",
          "dash": "solid"
         },
         "marker": {
          "symbol": "x"
         },
         "mode": "lines+markers",
         "name": "Marshall Islands",
         "showlegend": true,
         "type": "scattergl",
         "x": [
          2013,
          2014,
          2015,
          2016,
          2017
         ],
         "xaxis": "x",
         "y": [
          2.255084478,
          2.399482327,
          1.740977385,
          1.732051615,
          1.722415516
         ],
         "yaxis": "y"
        },
        {
         "hovertemplate": "Entity=Mauritania<br>Year=%{x}<br>Fixed broadband subscriptions=%{y}<extra></extra>",
         "legendgroup": "Mauritania",
         "line": {
          "color": "#FECB52",
          "dash": "solid"
         },
         "marker": {
          "symbol": "cross"
         },
         "mode": "lines+markers",
         "name": "Mauritania",
         "showlegend": true,
         "type": "scattergl",
         "x": [
          2005,
          2006,
          2007,
          2008,
          2009,
          2010,
          2011,
          2012,
          2013,
          2014,
          2015,
          2016,
          2017,
          2018,
          2019
         ],
         "xaxis": "x",
         "y": [
          0.005422933,
          0.031267011,
          0.124901757,
          0.178263827,
          0.199651737,
          0.166247161,
          0.170063868,
          0.180679904,
          0.197302209,
          0.203515941,
          0.238192858,
          0.267585246,
          0.295079824,
          0.300273907,
          0.238968769
         ],
         "yaxis": "y"
        },
        {
         "hovertemplate": "Entity=Mauritius<br>Year=%{x}<br>Fixed broadband subscriptions=%{y}<extra></extra>",
         "legendgroup": "Mauritius",
         "line": {
          "color": "#636efa",
          "dash": "solid"
         },
         "marker": {
          "symbol": "circle"
         },
         "mode": "lines+markers",
         "name": "Mauritius",
         "showlegend": true,
         "type": "scattergl",
         "x": [
          2002,
          2003,
          2004,
          2005,
          2006,
          2007,
          2008,
          2009,
          2010,
          2011,
          2012,
          2013,
          2014,
          2015,
          2016,
          2017,
          2018,
          2019
         ],
         "xaxis": "x",
         "y": [
          0.023714192,
          0.097932661,
          0.210911286,
          0.441733776,
          2.271415182,
          2.847257736,
          4.23727993,
          5.858161353,
          7.526072655,
          9.450634652,
          11.2326564,
          12.93558017,
          14.4748301,
          15.67343361,
          16.84807804,
          19.45434516,
          21.67797125,
          24.19530145
         ],
         "yaxis": "y"
        },
        {
         "hovertemplate": "Entity=Mexico<br>Year=%{x}<br>Fixed broadband subscriptions=%{y}<extra></extra>",
         "legendgroup": "Mexico",
         "line": {
          "color": "#EF553B",
          "dash": "solid"
         },
         "marker": {
          "symbol": "diamond"
         },
         "mode": "lines+markers",
         "name": "Mexico",
         "showlegend": true,
         "type": "scattergl",
         "x": [
          2000,
          2001,
          2002,
          2003,
          2004,
          2005,
          2006,
          2007,
          2008,
          2009,
          2010,
          2011,
          2012,
          2013,
          2014,
          2015,
          2016,
          2017,
          2018,
          2019
         ],
         "xaxis": "x",
         "y": [
          0.015166859,
          0.049851367,
          0.227650638,
          0.415567289,
          1.011608561,
          1.81345061,
          2.807731224,
          4.126043132,
          6.797468374,
          8.572678979,
          9.275650944,
          9.996993573,
          11.15102982,
          10.72808009,
          10.82838697,
          12.11053419,
          12.91132337,
          13.62465667,
          14.54862775,
          15.17138918
         ],
         "yaxis": "y"
        },
        {
         "hovertemplate": "Entity=Micronesia (country)<br>Year=%{x}<br>Fixed broadband subscriptions=%{y}<extra></extra>",
         "legendgroup": "Micronesia (country)",
         "line": {
          "color": "#00cc96",
          "dash": "solid"
         },
         "marker": {
          "symbol": "square"
         },
         "mode": "lines+markers",
         "name": "Micronesia (country)",
         "showlegend": true,
         "type": "scattergl",
         "x": [
          2003,
          2004,
          2005,
          2006,
          2007,
          2010,
          2013,
          2014,
          2015,
          2016,
          2017
         ],
         "xaxis": "x",
         "y": [
          0.00561267,
          0.024384525,
          0.043343478,
          0.090157634,
          0.111064302,
          0.969769995,
          1.947586051,
          2.877724624,
          3.009320905,
          2.875289207,
          3.387792821
         ],
         "yaxis": "y"
        },
        {
         "hovertemplate": "Entity=Middle East & North Africa<br>Year=%{x}<br>Fixed broadband subscriptions=%{y}<extra></extra>",
         "legendgroup": "Middle East & North Africa",
         "line": {
          "color": "#ab63fa",
          "dash": "solid"
         },
         "marker": {
          "symbol": "x"
         },
         "mode": "lines+markers",
         "name": "Middle East & North Africa",
         "showlegend": true,
         "type": "scattergl",
         "x": [
          2002,
          2003,
          2005,
          2006,
          2007,
          2008,
          2009,
          2010,
          2011,
          2012,
          2013,
          2014,
          2015,
          2016,
          2017,
          2018,
          2019
         ],
         "xaxis": "x",
         "y": [
          0.172037558306398,
          0.327771007561669,
          0.876264152321918,
          0.894749426053407,
          1.28633341209197,
          1.7125778485718,
          2.15971502830277,
          2.61345664612381,
          3.48954155311562,
          4.35819084585645,
          4.64185093520155,
          5.42699903725114,
          7.0144549810133,
          7.67143975588094,
          9.02629470044696,
          9.89557296879326,
          10.4088177613405
         ],
         "yaxis": "y"
        },
        {
         "hovertemplate": "Entity=Middle East & North Africa (IDA & IBRD)<br>Year=%{x}<br>Fixed broadband subscriptions=%{y}<extra></extra>",
         "legendgroup": "Middle East & North Africa (IDA & IBRD)",
         "line": {
          "color": "#FFA15A",
          "dash": "solid"
         },
         "marker": {
          "symbol": "cross"
         },
         "mode": "lines+markers",
         "name": "Middle East & North Africa (IDA & IBRD)",
         "showlegend": true,
         "type": "scattergl",
         "x": [
          2003,
          2006,
          2007,
          2008,
          2009,
          2010,
          2011,
          2012,
          2013,
          2014,
          2015,
          2016,
          2017,
          2018,
          2019
         ],
         "xaxis": "x",
         "y": [
          0.0446684198932557,
          0.339418878900151,
          0.553965856720197,
          0.820884926871612,
          1.15711648409844,
          1.57695090293127,
          2.33750998812401,
          3.14827160911638,
          3.8130308869825,
          4.6331465081847,
          5.02048360940943,
          5.76851245747975,
          7.1125161656875,
          8.02633301128499,
          8.55681395603279
         ],
         "yaxis": "y"
        },
        {
         "hovertemplate": "Entity=Middle East & North Africa (excluding high income)<br>Year=%{x}<br>Fixed broadband subscriptions=%{y}<extra></extra>",
         "legendgroup": "Middle East & North Africa (excluding high income)",
         "line": {
          "color": "#19d3f3",
          "dash": "solid"
         },
         "marker": {
          "symbol": "circle"
         },
         "mode": "lines+markers",
         "name": "Middle East & North Africa (excluding high income)",
         "showlegend": true,
         "type": "scattergl",
         "x": [
          2003,
          2006,
          2007,
          2008,
          2009,
          2010,
          2011,
          2012,
          2013,
          2014,
          2015,
          2016,
          2017,
          2018,
          2019
         ],
         "xaxis": "x",
         "y": [
          0.0446684198932557,
          0.344260285467584,
          0.565209139251039,
          0.820884926871612,
          1.15711648409844,
          1.57695090293127,
          2.35663263905979,
          3.16513466689132,
          3.82805221546462,
          4.64240745304778,
          5.03510938452512,
          5.78479289367672,
          7.11852184590447,
          8.01923750009025,
          8.53946872041337
         ],
         "yaxis": "y"
        },
        {
         "hovertemplate": "Entity=Middle income<br>Year=%{x}<br>Fixed broadband subscriptions=%{y}<extra></extra>",
         "legendgroup": "Middle income",
         "line": {
          "color": "#FF6692",
          "dash": "solid"
         },
         "marker": {
          "symbol": "diamond"
         },
         "mode": "lines+markers",
         "name": "Middle income",
         "showlegend": true,
         "type": "scattergl",
         "x": [
          2001,
          2002,
          2003,
          2004,
          2005,
          2006,
          2007,
          2008,
          2009,
          2010,
          2011,
          2012,
          2013,
          2014,
          2015,
          2016,
          2017,
          2018,
          2019
         ],
         "xaxis": "x",
         "y": [
          0.0280372879688303,
          0.126321873758786,
          0.356805507555117,
          0.811688293574685,
          1.1267869675086,
          1.63772184168336,
          2.15474046661389,
          2.85375510633916,
          3.60172692766542,
          4.41072845777213,
          5.44158472372105,
          5.92414104418917,
          6.40926798957885,
          6.82066658170112,
          8.39235677505036,
          9.4284897890856,
          10.9551168785686,
          11.5228271101108,
          12.6187831962171
         ],
         "yaxis": "y"
        },
        {
         "hovertemplate": "Entity=Moldova<br>Year=%{x}<br>Fixed broadband subscriptions=%{y}<extra></extra>",
         "legendgroup": "Moldova",
         "line": {
          "color": "#B6E880",
          "dash": "solid"
         },
         "marker": {
          "symbol": "square"
         },
         "mode": "lines+markers",
         "name": "Moldova",
         "showlegend": true,
         "type": "scattergl",
         "x": [
          2001,
          2002,
          2003,
          2004,
          2005,
          2006,
          2007,
          2008,
          2009,
          2010,
          2011,
          2012,
          2013,
          2014,
          2015,
          2016,
          2017,
          2018,
          2019
         ],
         "xaxis": "x",
         "y": [
          0.005708017,
          0.010004236,
          0.014305315,
          0.058277925,
          0.249922282,
          0.525581457,
          1.278553539,
          2.801605975,
          4.579967678,
          6.62630036,
          8.735221237,
          10.26836887,
          11.51936477,
          12.50046951,
          13.12779129,
          13.70884816,
          14.39348481,
          15.37866762,
          16.58388287
         ],
         "yaxis": "y"
        },
        {
         "hovertemplate": "Entity=Monaco<br>Year=%{x}<br>Fixed broadband subscriptions=%{y}<extra></extra>",
         "legendgroup": "Monaco",
         "line": {
          "color": "#FF97FF",
          "dash": "solid"
         },
         "marker": {
          "symbol": "x"
         },
         "mode": "lines+markers",
         "name": "Monaco",
         "showlegend": true,
         "type": "scattergl",
         "x": [
          2000,
          2001,
          2002,
          2003,
          2004,
          2005,
          2006,
          2007,
          2008,
          2009,
          2010,
          2011,
          2012,
          2013,
          2014,
          2015,
          2016,
          2017,
          2018,
          2019
         ],
         "xaxis": "x",
         "y": [
          2.48856814,
          8.186017863,
          14.94848503,
          19.71163997,
          22.70447761,
          28.07079751,
          32.17315004,
          35.62635771,
          37.27919248,
          38.04008403,
          38.75098281,
          44.19276038,
          44.59133297,
          45.78737704,
          47.69304968,
          48.66111671,
          48.89414237,
          50.16149198,
          51.24347242,
          52.55107279
         ],
         "yaxis": "y"
        },
        {
         "hovertemplate": "Entity=Mongolia<br>Year=%{x}<br>Fixed broadband subscriptions=%{y}<extra></extra>",
         "legendgroup": "Mongolia",
         "line": {
          "color": "#FECB52",
          "dash": "solid"
         },
         "marker": {
          "symbol": "cross"
         },
         "mode": "lines+markers",
         "name": "Mongolia",
         "showlegend": true,
         "type": "scattergl",
         "x": [
          2001,
          2002,
          2003,
          2004,
          2005,
          2006,
          2007,
          2008,
          2009,
          2010,
          2011,
          2012,
          2013,
          2014,
          2015,
          2016,
          2017,
          2018,
          2019
         ],
         "xaxis": "x",
         "y": [
          0.002025138,
          0.003683586,
          0.020253066,
          0.036052045,
          0.071246948,
          0.136779874,
          0.285100739,
          1.235002268,
          1.498880244,
          2.821946133,
          3.394936617,
          3.900062945,
          4.848686112,
          6.708835186,
          6.938510338,
          7.399216847,
          9.155831518,
          9.657070685,
          9.838777341
         ],
         "yaxis": "y"
        },
        {
         "hovertemplate": "Entity=Montenegro<br>Year=%{x}<br>Fixed broadband subscriptions=%{y}<extra></extra>",
         "legendgroup": "Montenegro",
         "line": {
          "color": "#636efa",
          "dash": "solid"
         },
         "marker": {
          "symbol": "circle"
         },
         "mode": "lines+markers",
         "name": "Montenegro",
         "showlegend": true,
         "type": "scattergl",
         "x": [
          2005,
          2007,
          2008,
          2009,
          2010,
          2011,
          2012,
          2013,
          2014,
          2015,
          2016,
          2017,
          2018,
          2019
         ],
         "xaxis": "x",
         "y": [
          1.243528864,
          2.881422957,
          6.39750853,
          9.524046496,
          10.35841576,
          10.34944904,
          14.02212725,
          15.28247212,
          16.57445603,
          17.92693586,
          18.30935619,
          21.89835921,
          25.33079328,
          28.46890143
         ],
         "yaxis": "y"
        },
        {
         "hovertemplate": "Entity=Morocco<br>Year=%{x}<br>Fixed broadband subscriptions=%{y}<extra></extra>",
         "legendgroup": "Morocco",
         "line": {
          "color": "#EF553B",
          "dash": "solid"
         },
         "marker": {
          "symbol": "diamond"
         },
         "mode": "lines+markers",
         "name": "Morocco",
         "showlegend": true,
         "type": "scattergl",
         "x": [
          2002,
          2003,
          2004,
          2005,
          2006,
          2007,
          2008,
          2009,
          2010,
          2011,
          2012,
          2013,
          2014,
          2015,
          2016,
          2017,
          2018,
          2019
         ],
         "xaxis": "x",
         "y": [
          0.006790072,
          0.009105901,
          0.214708752,
          0.818037796,
          1.272069575,
          1.531783497,
          1.563975508,
          1.501774855,
          1.559821081,
          1.815660024,
          2.07431284,
          2.503106638,
          2.9054768,
          3.31048391,
          3.574041694,
          3.87526241,
          4.309292493,
          4.801908567
         ],
         "yaxis": "y"
        },
        {
         "hovertemplate": "Entity=Mozambique<br>Year=%{x}<br>Fixed broadband subscriptions=%{y}<extra></extra>",
         "legendgroup": "Mozambique",
         "line": {
          "color": "#00cc96",
          "dash": "solid"
         },
         "marker": {
          "symbol": "square"
         },
         "mode": "lines+markers",
         "name": "Mozambique",
         "showlegend": true,
         "type": "scattergl",
         "x": [
          2006,
          2007,
          2008,
          2009,
          2010,
          2011,
          2012,
          2013,
          2014,
          2015,
          2016,
          2017,
          2018,
          2019
         ],
         "xaxis": "x",
         "y": [
          0.010441122,
          0.029377138,
          0.049985195,
          0.060048806,
          0.073615985,
          0.117308556,
          0.118402437,
          0.112876165,
          0.140701253,
          0.157421777,
          0.167441983,
          0.215159207,
          0.237801704,
          0.230438375
         ],
         "yaxis": "y"
        },
        {
         "hovertemplate": "Entity=Myanmar<br>Year=%{x}<br>Fixed broadband subscriptions=%{y}<extra></extra>",
         "legendgroup": "Myanmar",
         "line": {
          "color": "#ab63fa",
          "dash": "solid"
         },
         "marker": {
          "symbol": "x"
         },
         "mode": "lines+markers",
         "name": "Myanmar",
         "showlegend": true,
         "type": "scattergl",
         "x": [
          2005,
          2006,
          2007,
          2008,
          2009,
          2010,
          2011,
          2015,
          2016,
          2017,
          2018
         ],
         "xaxis": "x",
         "y": [
          0.000496426,
          0.008034312,
          0.013030649,
          0.020018169,
          0.046248418,
          0.045354998,
          0.042945156,
          0.062491546,
          0.169074673,
          0.208995367,
          0.240279346
         ],
         "yaxis": "y"
        },
        {
         "hovertemplate": "Entity=Namibia<br>Year=%{x}<br>Fixed broadband subscriptions=%{y}<extra></extra>",
         "legendgroup": "Namibia",
         "line": {
          "color": "#FFA15A",
          "dash": "solid"
         },
         "marker": {
          "symbol": "cross"
         },
         "mode": "lines+markers",
         "name": "Namibia",
         "showlegend": true,
         "type": "scattergl",
         "x": [
          2005,
          2006,
          2007,
          2008,
          2009,
          2010,
          2011,
          2012,
          2013,
          2014,
          2015,
          2016,
          2017,
          2018,
          2019
         ],
         "xaxis": "x",
         "y": [
          0.006913203,
          0.010044047,
          0.012758446,
          0.01566022,
          0.022921188,
          0.445283674,
          0.816526004,
          1.095917,
          1.60017336,
          1.812773074,
          3.041508417,
          2.728659855,
          2.737788085,
          2.531061336,
          2.538113392
         ],
         "yaxis": "y"
        },
        {
         "hovertemplate": "Entity=Nauru<br>Year=%{x}<br>Fixed broadband subscriptions=%{y}<extra></extra>",
         "legendgroup": "Nauru",
         "line": {
          "color": "#19d3f3",
          "dash": "solid"
         },
         "marker": {
          "symbol": "circle"
         },
         "mode": "lines+markers",
         "name": "Nauru",
         "showlegend": true,
         "type": "scattergl",
         "x": [
          2010
         ],
         "xaxis": "x",
         "y": [
          9.495252374
         ],
         "yaxis": "y"
        },
        {
         "hovertemplate": "Entity=Nepal<br>Year=%{x}<br>Fixed broadband subscriptions=%{y}<extra></extra>",
         "legendgroup": "Nepal",
         "line": {
          "color": "#FF6692",
          "dash": "solid"
         },
         "marker": {
          "symbol": "diamond"
         },
         "mode": "lines+markers",
         "name": "Nepal",
         "showlegend": true,
         "type": "scattergl",
         "x": [
          2006,
          2007,
          2008,
          2009,
          2010,
          2011,
          2012,
          2013,
          2014,
          2015,
          2016,
          2017,
          2018
         ],
         "xaxis": "x",
         "y": [
          0.00369437,
          0.041531191,
          0.045000153,
          0.063525872,
          0.22276877,
          0.350043378,
          0.854483705,
          1.157110359,
          0.931398963,
          1.12050584,
          0.822288228,
          1.821053846,
          2.81879649
         ],
         "yaxis": "y"
        },
        {
         "hovertemplate": "Entity=Netherlands<br>Year=%{x}<br>Fixed broadband subscriptions=%{y}<extra></extra>",
         "legendgroup": "Netherlands",
         "line": {
          "color": "#B6E880",
          "dash": "solid"
         },
         "marker": {
          "symbol": "square"
         },
         "mode": "lines+markers",
         "name": "Netherlands",
         "showlegend": true,
         "type": "scattergl",
         "x": [
          1998,
          2000,
          2001,
          2002,
          2003,
          2004,
          2005,
          2006,
          2007,
          2008,
          2009,
          2010,
          2011,
          2012,
          2013,
          2014,
          2015,
          2016,
          2017,
          2018,
          2019
         ],
         "xaxis": "x",
         "y": [
          0.479497603,
          1.632531275,
          2.910455001,
          7.268405941,
          12.27088459,
          19.68419092,
          25.05016448,
          31.58253872,
          33.36230145,
          35.0372016,
          36.86312102,
          37.93701066,
          38.8214367,
          39.62638996,
          40.32415587,
          40.55640475,
          41.49775609,
          42.53368191,
          42.82610536,
          43.4167118,
          43.62720527
         ],
         "yaxis": "y"
        },
        {
         "hovertemplate": "Entity=New Caledonia<br>Year=%{x}<br>Fixed broadband subscriptions=%{y}<extra></extra>",
         "legendgroup": "New Caledonia",
         "line": {
          "color": "#FF97FF",
          "dash": "solid"
         },
         "marker": {
          "symbol": "x"
         },
         "mode": "lines+markers",
         "name": "New Caledonia",
         "showlegend": true,
         "type": "scattergl",
         "x": [
          2001,
          2002,
          2003,
          2004,
          2005,
          2006,
          2007,
          2008,
          2009,
          2010,
          2011,
          2012,
          2013,
          2014,
          2015
         ],
         "xaxis": "x",
         "y": [
          0.059595563,
          0.310446067,
          0.72760901,
          2.209693279,
          4.060192352,
          6.502313175,
          8.348710193,
          10.31840937,
          13.24389707,
          15.06585097,
          16.63736024,
          18.37692258,
          20.28443624,
          21.77493753,
          20.42720381
         ],
         "yaxis": "y"
        },
        {
         "hovertemplate": "Entity=New Zealand<br>Year=%{x}<br>Fixed broadband subscriptions=%{y}<extra></extra>",
         "legendgroup": "New Zealand",
         "line": {
          "color": "#FECB52",
          "dash": "solid"
         },
         "marker": {
          "symbol": "cross"
         },
         "mode": "lines+markers",
         "name": "New Zealand",
         "showlegend": true,
         "type": "scattergl",
         "x": [
          2000,
          2001,
          2002,
          2003,
          2004,
          2005,
          2006,
          2007,
          2008,
          2009,
          2010,
          2011,
          2012,
          2013,
          2014,
          2015,
          2016,
          2017,
          2018
         ],
         "xaxis": "x",
         "y": [
          0.120704877,
          0.441844832,
          1.097596239,
          2.063614523,
          4.697902529,
          7.762332375,
          11.23298091,
          20.1514465,
          21.38681277,
          23.6468959,
          24.98820383,
          26.65955745,
          28.46620209,
          29.12461284,
          30.87009666,
          31.44197505,
          32.84852868,
          33.66628144,
          34.72389862
         ],
         "yaxis": "y"
        },
        {
         "hovertemplate": "Entity=Nicaragua<br>Year=%{x}<br>Fixed broadband subscriptions=%{y}<extra></extra>",
         "legendgroup": "Nicaragua",
         "line": {
          "color": "#636efa",
          "dash": "solid"
         },
         "marker": {
          "symbol": "circle"
         },
         "mode": "lines+markers",
         "name": "Nicaragua",
         "showlegend": true,
         "type": "scattergl",
         "x": [
          2000,
          2001,
          2002,
          2003,
          2004,
          2005,
          2006,
          2007,
          2008,
          2009,
          2010,
          2011,
          2012,
          2013,
          2014,
          2015,
          2016,
          2017,
          2018,
          2019
         ],
         "xaxis": "x",
         "y": [
          0.013808607,
          0.031173681,
          0.044431007,
          0.083199203,
          0.093216414,
          0.193686347,
          0.345353981,
          0.492839516,
          0.762461729,
          1.369378539,
          1.258210545,
          1.441494796,
          1.693465269,
          2.172172108,
          1.813672127,
          1.868930011,
          2.808133409,
          3.290979923,
          2.975995209,
          3.32469534
         ],
         "yaxis": "y"
        },
        {
         "hovertemplate": "Entity=Niger<br>Year=%{x}<br>Fixed broadband subscriptions=%{y}<extra></extra>",
         "legendgroup": "Niger",
         "line": {
          "color": "#EF553B",
          "dash": "solid"
         },
         "marker": {
          "symbol": "diamond"
         },
         "mode": "lines+markers",
         "name": "Niger",
         "showlegend": true,
         "type": "scattergl",
         "x": [
          2004,
          2005,
          2006,
          2007,
          2008,
          2009,
          2010,
          2011,
          2012,
          2013,
          2014,
          2015,
          2016,
          2017
         ],
         "xaxis": "x",
         "y": [
          0.000586626,
          0.001556024,
          0.002453342,
          0.003282172,
          0.004045661,
          0.006311883,
          0.009110773,
          0.012351907,
          0.020617908,
          0.034586591,
          0.155684622,
          0.135928698,
          0.03707285,
          0.040041881
         ],
         "yaxis": "y"
        },
        {
         "hovertemplate": "Entity=Nigeria<br>Year=%{x}<br>Fixed broadband subscriptions=%{y}<extra></extra>",
         "legendgroup": "Nigeria",
         "line": {
          "color": "#00cc96",
          "dash": "solid"
         },
         "marker": {
          "symbol": "square"
         },
         "mode": "lines+markers",
         "name": "Nigeria",
         "showlegend": true,
         "type": "scattergl",
         "x": [
          2005,
          2007,
          2008,
          2009,
          2010,
          2012,
          2013,
          2014,
          2015,
          2016,
          2017,
          2018,
          2019
         ],
         "xaxis": "x",
         "y": [
          0.000360062,
          0.036622939,
          0.045102928,
          0.053107426,
          0.062527445,
          0.008538601,
          0.008759019,
          0.008922653,
          0.008660826,
          0.058039826,
          0.058066808,
          0.037761388,
          0.041480149
         ],
         "yaxis": "y"
        },
        {
         "hovertemplate": "Entity=North America<br>Year=%{x}<br>Fixed broadband subscriptions=%{y}<extra></extra>",
         "legendgroup": "North America",
         "line": {
          "color": "#ab63fa",
          "dash": "solid"
         },
         "marker": {
          "symbol": "x"
         },
         "mode": "lines+markers",
         "name": "North America",
         "showlegend": true,
         "type": "scattergl",
         "x": [
          1998,
          1999,
          2000,
          2001,
          2002,
          2003,
          2004,
          2005,
          2006,
          2007,
          2008,
          2009,
          2010,
          2011,
          2012,
          2013,
          2014,
          2015,
          2016,
          2017,
          2018,
          2019
         ],
         "xaxis": "x",
         "y": [
          0.277164901480786,
          1.08022626443716,
          2.71560205746946,
          4.95385204162379,
          7.34683373704784,
          10.0395205644426,
          13.1932319323088,
          17.7795098513561,
          20.6758954780802,
          24.2226692456384,
          25.8263427889722,
          26.5559734390363,
          27.7891651094622,
          28.7757588247989,
          29.8607713597643,
          30.749975699463,
          31.1546772353175,
          32.3158257574403,
          33.1393007499642,
          33.7533565678014,
          34.4098419537943,
          35.345427459472
         ],
         "yaxis": "y"
        },
        {
         "hovertemplate": "Entity=North Macedonia<br>Year=%{x}<br>Fixed broadband subscriptions=%{y}<extra></extra>",
         "legendgroup": "North Macedonia",
         "line": {
          "color": "#FFA15A",
          "dash": "solid"
         },
         "marker": {
          "symbol": "cross"
         },
         "mode": "lines+markers",
         "name": "North Macedonia",
         "showlegend": true,
         "type": "scattergl",
         "x": [
          2005,
          2006,
          2007,
          2008,
          2009,
          2010,
          2011,
          2012,
          2013,
          2014,
          2015,
          2016,
          2017,
          2018,
          2019
         ],
         "xaxis": "x",
         "y": [
          0.603609328,
          1.768428665,
          4.866163203,
          8.755906822,
          11.25077874,
          12.49509234,
          13.5858512,
          15.05449125,
          16.30419442,
          17.04198,
          17.5259026,
          18.33628661,
          19.03437855,
          20.54598343,
          21.80508472
         ],
         "yaxis": "y"
        },
        {
         "hovertemplate": "Entity=Norway<br>Year=%{x}<br>Fixed broadband subscriptions=%{y}<extra></extra>",
         "legendgroup": "Norway",
         "line": {
          "color": "#19d3f3",
          "dash": "solid"
         },
         "marker": {
          "symbol": "circle"
         },
         "mode": "lines+markers",
         "name": "Norway",
         "showlegend": true,
         "type": "scattergl",
         "x": [
          2000,
          2001,
          2002,
          2003,
          2004,
          2005,
          2006,
          2007,
          2008,
          2009,
          2010,
          2011,
          2012,
          2013,
          2014,
          2015,
          2016,
          2017,
          2018,
          2019
         ],
         "xaxis": "x",
         "y": [
          0.517783946,
          1.957509653,
          4.516193179,
          8.725355604,
          14.60710615,
          21.40049875,
          26.63251868,
          30.87817058,
          33.06274823,
          34.56149852,
          35.27216603,
          36.08643724,
          37.05288839,
          37.61663407,
          38.44860193,
          39.43316674,
          40.12560396,
          40.88156583,
          41.32402966,
          42.02760921
         ],
         "yaxis": "y"
        },
        {
         "hovertemplate": "Entity=OECD members<br>Year=%{x}<br>Fixed broadband subscriptions=%{y}<extra></extra>",
         "legendgroup": "OECD members",
         "line": {
          "color": "#FF6692",
          "dash": "solid"
         },
         "marker": {
          "symbol": "diamond"
         },
         "mode": "lines+markers",
         "name": "OECD members",
         "showlegend": true,
         "type": "scattergl",
         "x": [
          2000,
          2001,
          2002,
          2003,
          2004,
          2005,
          2006,
          2007,
          2008,
          2009,
          2010,
          2011,
          2012,
          2013,
          2014,
          2015,
          2016,
          2017,
          2018,
          2019
         ],
         "xaxis": "x",
         "y": [
          1.44212411856296,
          2.88331368368691,
          4.80143622434021,
          6.92291813427412,
          9.75911856034301,
          13.1641630584304,
          16.3749523083999,
          19.3291698363203,
          21.3118808508802,
          22.746691839036,
          24.0004463628924,
          25.1356748162053,
          25.9933082798504,
          26.823855261108,
          27.4833293874483,
          28.5292461041664,
          29.4350649904629,
          30.3115803919589,
          31.0861516572043,
          31.8473666255821
         ],
         "yaxis": "y"
        },
        {
         "hovertemplate": "Entity=Oman<br>Year=%{x}<br>Fixed broadband subscriptions=%{y}<extra></extra>",
         "legendgroup": "Oman",
         "line": {
          "color": "#B6E880",
          "dash": "solid"
         },
         "marker": {
          "symbol": "square"
         },
         "mode": "lines+markers",
         "name": "Oman",
         "showlegend": true,
         "type": "scattergl",
         "x": [
          2002,
          2003,
          2004,
          2005,
          2006,
          2007,
          2008,
          2009,
          2010,
          2011,
          2012,
          2013,
          2014,
          2015,
          2016,
          2017,
          2018,
          2019
         ],
         "xaxis": "x",
         "y": [
          0.004154428,
          0.00569952,
          0.027315288,
          0.527227266,
          0.777484754,
          0.759345135,
          1.179477877,
          1.43005355,
          1.925276038,
          2.405856711,
          3.239652959,
          4.098219138,
          4.396612089,
          5.465549095,
          6.354835519,
          7.478169402,
          9.171272567,
          10.24420698
         ],
         "yaxis": "y"
        },
        {
         "hovertemplate": "Entity=Other small states<br>Year=%{x}<br>Fixed broadband subscriptions=%{y}<extra></extra>",
         "legendgroup": "Other small states",
         "line": {
          "color": "#FF97FF",
          "dash": "solid"
         },
         "marker": {
          "symbol": "x"
         },
         "mode": "lines+markers",
         "name": "Other small states",
         "showlegend": true,
         "type": "scattergl",
         "x": [
          2005,
          2007,
          2008,
          2009,
          2010,
          2011,
          2012,
          2013,
          2014,
          2015,
          2016,
          2017,
          2018,
          2019
         ],
         "xaxis": "x",
         "y": [
          2.15102921652248,
          3.83725012432875,
          4.35952087396505,
          5.11218770767216,
          5.24679301847818,
          6.05362616090789,
          6.30420687811206,
          6.66930486234687,
          6.86395300522127,
          7.088335401777,
          7.23363386352453,
          7.28196739159783,
          7.65848509185692,
          9.02202284511614
         ],
         "yaxis": "y"
        },
        {
         "hovertemplate": "Entity=Pacific island small states<br>Year=%{x}<br>Fixed broadband subscriptions=%{y}<extra></extra>",
         "legendgroup": "Pacific island small states",
         "line": {
          "color": "#FECB52",
          "dash": "solid"
         },
         "marker": {
          "symbol": "cross"
         },
         "mode": "lines+markers",
         "name": "Pacific island small states",
         "showlegend": true,
         "type": "scattergl",
         "x": [
          2005,
          2006,
          2007,
          2008,
          2009,
          2010,
          2011,
          2012,
          2013,
          2014,
          2015,
          2016,
          2017,
          2018
         ],
         "xaxis": "x",
         "y": [
          0.439723715868166,
          0.531623751853588,
          0.704440773943565,
          0.840004708718589,
          0.869394938365821,
          1.42923138464823,
          1.54620491202432,
          0.98655067718957,
          0.978478804787206,
          1.23962351313723,
          1.24022862789742,
          1.19849809137953,
          1.10784356084584,
          0.975683952813288
         ],
         "yaxis": "y"
        },
        {
         "hovertemplate": "Entity=Pakistan<br>Year=%{x}<br>Fixed broadband subscriptions=%{y}<extra></extra>",
         "legendgroup": "Pakistan",
         "line": {
          "color": "#636efa",
          "dash": "solid"
         },
         "marker": {
          "symbol": "circle"
         },
         "mode": "lines+markers",
         "name": "Pakistan",
         "showlegend": true,
         "type": "scattergl",
         "x": [
          2005,
          2006,
          2007,
          2008,
          2009,
          2010,
          2011,
          2012,
          2013,
          2014,
          2015,
          2016,
          2017,
          2018,
          2019
         ],
         "xaxis": "x",
         "y": [
          0.009107695,
          0.016223981,
          0.02690752,
          0.09792193,
          0.22311787,
          0.440010355,
          0.636140446,
          0.809914543,
          0.851248635,
          1.028485633,
          0.899175801,
          0.806754449,
          0.88004731,
          0.853498388,
          0.813089564
         ],
         "yaxis": "y"
        },
        {
         "hovertemplate": "Entity=Palau<br>Year=%{x}<br>Fixed broadband subscriptions=%{y}<extra></extra>",
         "legendgroup": "Palau",
         "line": {
          "color": "#EF553B",
          "dash": "solid"
         },
         "marker": {
          "symbol": "diamond"
         },
         "mode": "lines+markers",
         "name": "Palau",
         "showlegend": true,
         "type": "scattergl",
         "x": [
          2004,
          2005,
          2006,
          2007,
          2008,
          2009,
          2010,
          2011,
          2012,
          2013,
          2014,
          2015
         ],
         "xaxis": "x",
         "y": [
          0.372476972,
          0.505535615,
          0.496417605,
          0.527194906,
          0.593455945,
          0.776592836,
          1.331105542,
          2.91913215,
          5.090702948,
          10.25218675,
          6.297515035,
          6.928955562
         ],
         "yaxis": "y"
        },
        {
         "hovertemplate": "Entity=Palestine<br>Year=%{x}<br>Fixed broadband subscriptions=%{y}<extra></extra>",
         "legendgroup": "Palestine",
         "line": {
          "color": "#00cc96",
          "dash": "solid"
         },
         "marker": {
          "symbol": "square"
         },
         "mode": "lines+markers",
         "name": "Palestine",
         "showlegend": true,
         "type": "scattergl",
         "x": [
          2004,
          2005,
          2006,
          2007,
          2011,
          2012,
          2013,
          2014,
          2015,
          2016,
          2017,
          2018,
          2019
         ],
         "xaxis": "x",
         "y": [
          0.000513505,
          0.208582486,
          0.741913411,
          1.481394717,
          3.758486561,
          4.394124538,
          4.916669417,
          5.309577051,
          6.060718463,
          6.917772552,
          7.580678152,
          7.486892294,
          7.324839102
         ],
         "yaxis": "y"
        },
        {
         "hovertemplate": "Entity=Panama<br>Year=%{x}<br>Fixed broadband subscriptions=%{y}<extra></extra>",
         "legendgroup": "Panama",
         "line": {
          "color": "#ab63fa",
          "dash": "solid"
         },
         "marker": {
          "symbol": "x"
         },
         "mode": "lines+markers",
         "name": "Panama",
         "showlegend": true,
         "type": "scattergl",
         "x": [
          2001,
          2002,
          2003,
          2004,
          2005,
          2006,
          2007,
          2008,
          2009,
          2010,
          2011,
          2012,
          2013,
          2014,
          2015,
          2016,
          2017,
          2018,
          2019
         ],
         "xaxis": "x",
         "y": [
          0.251517325,
          0.388512848,
          0.46864366,
          0.512210968,
          0.527503163,
          3.323971169,
          4.351393805,
          5.579596633,
          6.548391198,
          7.090699805,
          7.631034595,
          7.816712663,
          8.011242532,
          7.94770685,
          7.966965748,
          10.64955891,
          10.74233783,
          12.93361128,
          12.32868293
         ],
         "yaxis": "y"
        },
        {
         "hovertemplate": "Entity=Papua New Guinea<br>Year=%{x}<br>Fixed broadband subscriptions=%{y}<extra></extra>",
         "legendgroup": "Papua New Guinea",
         "line": {
          "color": "#FFA15A",
          "dash": "solid"
         },
         "marker": {
          "symbol": "cross"
         },
         "mode": "lines+markers",
         "name": "Papua New Guinea",
         "showlegend": true,
         "type": "scattergl",
         "x": [
          2008,
          2009,
          2010,
          2011,
          2012,
          2013,
          2014,
          2015,
          2016,
          2017
         ],
         "xaxis": "x",
         "y": [
          0.042817,
          0.062325257,
          0.083441545,
          0.100372059,
          0.120560854,
          0.145087939,
          0.166106059,
          0.185007601,
          0.205518486,
          0.213319782
         ],
         "yaxis": "y"
        },
        {
         "hovertemplate": "Entity=Paraguay<br>Year=%{x}<br>Fixed broadband subscriptions=%{y}<extra></extra>",
         "legendgroup": "Paraguay",
         "line": {
          "color": "#19d3f3",
          "dash": "solid"
         },
         "marker": {
          "symbol": "circle"
         },
         "mode": "lines+markers",
         "name": "Paraguay",
         "showlegend": true,
         "type": "scattergl",
         "x": [
          2000,
          2001,
          2002,
          2003,
          2004,
          2005,
          2006,
          2007,
          2008,
          2009,
          2010,
          2011,
          2012,
          2013,
          2014,
          2015,
          2016,
          2017,
          2018,
          2019
         ],
         "xaxis": "x",
         "y": [
          0.002817853,
          0.005526446,
          0.009038385,
          0.008876292,
          0.053223522,
          0.096152261,
          0.101467748,
          0.14337092,
          0.21048145,
          1.256251651,
          1.432341766,
          1.896139171,
          2.120247985,
          2.405059325,
          2.805125701,
          3.216372695,
          3.639195311,
          4.226902892,
          4.610364537,
          5.356969473
         ],
         "yaxis": "y"
        },
        {
         "hovertemplate": "Entity=Peru<br>Year=%{x}<br>Fixed broadband subscriptions=%{y}<extra></extra>",
         "legendgroup": "Peru",
         "line": {
          "color": "#FF6692",
          "dash": "solid"
         },
         "marker": {
          "symbol": "diamond"
         },
         "mode": "lines+markers",
         "name": "Peru",
         "showlegend": true,
         "type": "scattergl",
         "x": [
          1999,
          2000,
          2002,
          2003,
          2004,
          2005,
          2006,
          2007,
          2008,
          2009,
          2010,
          2011,
          2012,
          2013,
          2014,
          2015,
          2016,
          2017,
          2018
         ],
         "xaxis": "x",
         "y": [
          0.000287596,
          0.004074083,
          0.138006141,
          0.343077688,
          0.823951075,
          1.265413641,
          1.725492967,
          2.012554101,
          2.540280608,
          2.874562974,
          3.212462011,
          4.14076624,
          4.889668099,
          5.416849279,
          5.872502219,
          6.56189969,
          6.857530252,
          7.347014075,
          7.927901427
         ],
         "yaxis": "y"
        },
        {
         "hovertemplate": "Entity=Philippines<br>Year=%{x}<br>Fixed broadband subscriptions=%{y}<extra></extra>",
         "legendgroup": "Philippines",
         "line": {
          "color": "#B6E880",
          "dash": "solid"
         },
         "marker": {
          "symbol": "square"
         },
         "mode": "lines+markers",
         "name": "Philippines",
         "showlegend": true,
         "type": "scattergl",
         "x": [
          2001,
          2002,
          2003,
          2004,
          2005,
          2006,
          2007,
          2008,
          2009,
          2011,
          2012,
          2013,
          2014,
          2015,
          2016,
          2017,
          2018,
          2019
         ],
         "xaxis": "x",
         "y": [
          0.012551323,
          0.025809541,
          0.066223594,
          0.105063665,
          0.142482733,
          0.301551935,
          0.554944718,
          1.150377772,
          1.86379126,
          1.874018063,
          2.208148996,
          2.602163989,
          2.885194853,
          2.839985094,
          2.879936428,
          3.232097044,
          3.552217048,
          5.475649603
         ],
         "yaxis": "y"
        },
        {
         "hovertemplate": "Entity=Poland<br>Year=%{x}<br>Fixed broadband subscriptions=%{y}<extra></extra>",
         "legendgroup": "Poland",
         "line": {
          "color": "#FF97FF",
          "dash": "solid"
         },
         "marker": {
          "symbol": "x"
         },
         "mode": "lines+markers",
         "name": "Poland",
         "showlegend": true,
         "type": "scattergl",
         "x": [
          2001,
          2002,
          2003,
          2004,
          2005,
          2006,
          2007,
          2008,
          2009,
          2010,
          2011,
          2012,
          2013,
          2014,
          2015,
          2016,
          2017,
          2018,
          2019
         ],
         "xaxis": "x",
         "y": [
          0.031144901,
          0.316155567,
          0.509216212,
          2.280924692,
          2.463343471,
          7.590128394,
          10.88302405,
          11.63467137,
          14.59118757,
          15.28445466,
          18.21025616,
          18.01780959,
          18.42614247,
          18.99093512,
          19.10272627,
          19.28946685,
          20.10623879,
          20.70435756,
          20.54459107
         ],
         "yaxis": "y"
        },
        {
         "hovertemplate": "Entity=Portugal<br>Year=%{x}<br>Fixed broadband subscriptions=%{y}<extra></extra>",
         "legendgroup": "Portugal",
         "line": {
          "color": "#FECB52",
          "dash": "solid"
         },
         "marker": {
          "symbol": "cross"
         },
         "mode": "lines+markers",
         "name": "Portugal",
         "showlegend": true,
         "type": "scattergl",
         "x": [
          1999,
          2000,
          2001,
          2002,
          2003,
          2004,
          2005,
          2006,
          2007,
          2008,
          2009,
          2010,
          2011,
          2012,
          2013,
          2014,
          2015,
          2016,
          2017,
          2018,
          2019
         ],
         "xaxis": "x",
         "y": [
          0.002896292,
          0.244282086,
          0.960367855,
          2.509063414,
          4.813506006,
          8.006659586,
          11.09045586,
          13.503841,
          14.44272531,
          15.43538021,
          18.02920505,
          20.07056775,
          21.22202059,
          22.71240781,
          24.47580311,
          27.43056442,
          30.30557125,
          32.69172996,
          34.74392398,
          36.90145066,
          38.79939806
         ],
         "yaxis": "y"
        },
        {
         "hovertemplate": "Entity=Post-demographic dividend<br>Year=%{x}<br>Fixed broadband subscriptions=%{y}<extra></extra>",
         "legendgroup": "Post-demographic dividend",
         "line": {
          "color": "#636efa",
          "dash": "solid"
         },
         "marker": {
          "symbol": "circle"
         },
         "mode": "lines+markers",
         "name": "Post-demographic dividend",
         "showlegend": true,
         "type": "scattergl",
         "x": [
          2000,
          2001,
          2002,
          2003,
          2004,
          2005,
          2006,
          2007,
          2008,
          2009,
          2010,
          2011,
          2012,
          2013,
          2014,
          2015,
          2016,
          2017,
          2018,
          2019
         ],
         "xaxis": "x",
         "y": [
          1.72266561789896,
          3.74035279465509,
          6.16707679756976,
          8.74226649682945,
          12.048207450214,
          15.3969792514862,
          18.8703436361583,
          21.7943315847994,
          23.8232101345385,
          25.2987372280753,
          26.8013057462608,
          27.9839115764928,
          28.9400754633852,
          29.9280658393726,
          30.7441069475622,
          31.9229234251923,
          32.9160272919497,
          33.7806875181369,
          34.5229391580481,
          35.5166029382103
         ],
         "yaxis": "y"
        },
        {
         "hovertemplate": "Entity=Pre-demographic dividend<br>Year=%{x}<br>Fixed broadband subscriptions=%{y}<extra></extra>",
         "legendgroup": "Pre-demographic dividend",
         "line": {
          "color": "#EF553B",
          "dash": "solid"
         },
         "marker": {
          "symbol": "diamond"
         },
         "mode": "lines+markers",
         "name": "Pre-demographic dividend",
         "showlegend": true,
         "type": "scattergl",
         "x": [
          2007,
          2008,
          2009,
          2010,
          2012,
          2013,
          2014,
          2015,
          2016,
          2017,
          2018,
          2019
         ],
         "xaxis": "x",
         "y": [
          0.0381280925138469,
          0.0439683211368966,
          0.0492771921472406,
          0.0533788702013706,
          0.0910759898007632,
          0.0895751789761088,
          0.119517995999903,
          0.145360121526527,
          0.210725492008952,
          0.78668493659093,
          0.862921160562789,
          0.929840361900025
         ],
         "yaxis": "y"
        },
        {
         "hovertemplate": "Entity=Puerto Rico<br>Year=%{x}<br>Fixed broadband subscriptions=%{y}<extra></extra>",
         "legendgroup": "Puerto Rico",
         "line": {
          "color": "#00cc96",
          "dash": "solid"
         },
         "marker": {
          "symbol": "square"
         },
         "mode": "lines+markers",
         "name": "Puerto Rico",
         "showlegend": true,
         "type": "scattergl",
         "x": [
          2001,
          2002,
          2003,
          2004,
          2005,
          2006,
          2007,
          2008,
          2009,
          2010,
          2011,
          2012,
          2013,
          2014,
          2015,
          2016,
          2017,
          2018,
          2019
         ],
         "xaxis": "x",
         "y": [
          0.066125457,
          0.620359313,
          1.487194477,
          2.369655624,
          3.256377053,
          4.145753881,
          5.038187781,
          11.81558257,
          13.3543072,
          15.40627084,
          15.68182016,
          16.20849229,
          17.16878937,
          17.67203139,
          20.83120658,
          20.92064725,
          20.86430083,
          20.03644563,
          20.79298209
         ],
         "yaxis": "y"
        },
        {
         "hovertemplate": "Entity=Qatar<br>Year=%{x}<br>Fixed broadband subscriptions=%{y}<extra></extra>",
         "legendgroup": "Qatar",
         "line": {
          "color": "#ab63fa",
          "dash": "solid"
         },
         "marker": {
          "symbol": "x"
         },
         "mode": "lines+markers",
         "name": "Qatar",
         "showlegend": true,
         "type": "scattergl",
         "x": [
          2002,
          2003,
          2004,
          2005,
          2006,
          2007,
          2008,
          2009,
          2010,
          2011,
          2012,
          2013,
          2014,
          2015,
          2016,
          2017,
          2018,
          2019
         ],
         "xaxis": "x",
         "y": [
          0.035576749,
          0.43869942,
          1.448892523,
          2.959154904,
          4.573432768,
          7.195547728,
          7.390519015,
          8.747092057,
          7.853519342,
          8.085040752,
          8.429911028,
          9.222348618,
          9.168517541,
          9.267376282,
          9.558487237,
          9.415985742,
          9.631079325,
          10.05198676
         ],
         "yaxis": "y"
        },
        {
         "hovertemplate": "Entity=Romania<br>Year=%{x}<br>Fixed broadband subscriptions=%{y}<extra></extra>",
         "legendgroup": "Romania",
         "line": {
          "color": "#FFA15A",
          "dash": "solid"
         },
         "marker": {
          "symbol": "cross"
         },
         "mode": "lines+markers",
         "name": "Romania",
         "showlegend": true,
         "type": "scattergl",
         "x": [
          2001,
          2002,
          2003,
          2004,
          2005,
          2006,
          2007,
          2008,
          2009,
          2010,
          2011,
          2012,
          2013,
          2014,
          2015,
          2016,
          2017,
          2018,
          2019
         ],
         "xaxis": "x",
         "y": [
          0.027285936,
          0.072300383,
          0.902865218,
          0.483203057,
          1.760680191,
          5.133203088,
          9.281080435,
          12.08573391,
          13.6282645,
          14.65718999,
          16.14395204,
          17.50757843,
          18.82636552,
          20.04593248,
          21.39068791,
          22.47643939,
          24.19358655,
          26.09438251,
          27.2544319
         ],
         "yaxis": "y"
        },
        {
         "hovertemplate": "Entity=Russia<br>Year=%{x}<br>Fixed broadband subscriptions=%{y}<extra></extra>",
         "legendgroup": "Russia",
         "line": {
          "color": "#19d3f3",
          "dash": "solid"
         },
         "marker": {
          "symbol": "circle"
         },
         "mode": "lines+markers",
         "name": "Russia",
         "showlegend": true,
         "type": "scattergl",
         "x": [
          2002,
          2003,
          2004,
          2005,
          2006,
          2007,
          2008,
          2009,
          2010,
          2011,
          2012,
          2013,
          2014,
          2015,
          2016,
          2017,
          2018,
          2019
         ],
         "xaxis": "x",
         "y": [
          0.007574939,
          0.237188236,
          0.468487637,
          1.105990532,
          2.022269285,
          3.420206294,
          6.478240887,
          9.000403155,
          10.94234698,
          12.27170131,
          14.53068301,
          16.45263962,
          17.24714162,
          18.54085073,
          18.94519321,
          21.37237509,
          22.0008863,
          22.52492345
         ],
         "yaxis": "y"
        },
        {
         "hovertemplate": "Entity=Rwanda<br>Year=%{x}<br>Fixed broadband subscriptions=%{y}<extra></extra>",
         "legendgroup": "Rwanda",
         "line": {
          "color": "#FF6692",
          "dash": "solid"
         },
         "marker": {
          "symbol": "diamond"
         },
         "mode": "lines+markers",
         "name": "Rwanda",
         "showlegend": true,
         "type": "scattergl",
         "x": [
          2004,
          2005,
          2006,
          2007,
          2008,
          2009,
          2010,
          2011,
          2012,
          2013,
          2014,
          2015,
          2016,
          2017,
          2018,
          2019
         ],
         "xaxis": "x",
         "y": [
          0.013225008,
          0.013348092,
          0.018842602,
          0.027421465,
          0.011759105,
          0.022631627,
          0.039265537,
          0.083986418,
          0.052115359,
          0.02572252,
          0.026318093,
          0.185811136,
          0.186145531,
          0.181788422,
          0.060973974,
          0.070365369
         ],
         "yaxis": "y"
        },
        {
         "hovertemplate": "Entity=Saint Kitts and Nevis<br>Year=%{x}<br>Fixed broadband subscriptions=%{y}<extra></extra>",
         "legendgroup": "Saint Kitts and Nevis",
         "line": {
          "color": "#B6E880",
          "dash": "solid"
         },
         "marker": {
          "symbol": "square"
         },
         "mode": "lines+markers",
         "name": "Saint Kitts and Nevis",
         "showlegend": true,
         "type": "scattergl",
         "x": [
          2002,
          2003,
          2004,
          2005,
          2006,
          2007,
          2008,
          2009,
          2010,
          2011,
          2012,
          2013,
          2014,
          2015,
          2016,
          2017,
          2018
         ],
         "xaxis": "x",
         "y": [
          1.107051921,
          4.371966948,
          9.498316208,
          13.87199351,
          18.58932381,
          20.0929298,
          23.04451593,
          26.7495216,
          29.78619226,
          25.48182903,
          26.0588931,
          26.42506606,
          27.60861858,
          31.98250103,
          27.46343826,
          56.24363532,
          55.81892031
         ],
         "yaxis": "y"
        },
        {
         "hovertemplate": "Entity=Saint Lucia<br>Year=%{x}<br>Fixed broadband subscriptions=%{y}<extra></extra>",
         "legendgroup": "Saint Lucia",
         "line": {
          "color": "#FF97FF",
          "dash": "solid"
         },
         "marker": {
          "symbol": "x"
         },
         "mode": "lines+markers",
         "name": "Saint Lucia",
         "showlegend": true,
         "type": "scattergl",
         "x": [
          2003,
          2004,
          2005,
          2006,
          2007,
          2008,
          2009,
          2010,
          2011,
          2012,
          2013,
          2014,
          2015,
          2016,
          2017,
          2018
         ],
         "xaxis": "x",
         "y": [
          0.872111132,
          2.34834627,
          4.283520074,
          4.339071598,
          6.608247484,
          9.132938457,
          10.79194756,
          11.77068673,
          12.15649638,
          13.91087259,
          13.91672723,
          15.81583434,
          15.86927638,
          16.5455717,
          17.58900052,
          17.73884072
         ],
         "yaxis": "y"
        },
        {
         "hovertemplate": "Entity=Saint Vincent and the Grenadines<br>Year=%{x}<br>Fixed broadband subscriptions=%{y}<extra></extra>",
         "legendgroup": "Saint Vincent and the Grenadines",
         "line": {
          "color": "#FECB52",
          "dash": "solid"
         },
         "marker": {
          "symbol": "cross"
         },
         "mode": "lines+markers",
         "name": "Saint Vincent and the Grenadines",
         "showlegend": true,
         "type": "scattergl",
         "x": [
          2001,
          2002,
          2003,
          2004,
          2005,
          2006,
          2007,
          2008,
          2009,
          2010,
          2011,
          2012,
          2013,
          2014,
          2015,
          2016,
          2017,
          2018,
          2019
         ],
         "xaxis": "x",
         "y": [
          0.075072292,
          1.004653228,
          1.057917767,
          1.216455323,
          3.357762351,
          5.172969439,
          7.346246706,
          8.638934249,
          10.62639098,
          11.54865826,
          12.23180324,
          12.55683128,
          13.44479019,
          13.51815618,
          15.53853483,
          19.97551595,
          17.54850811,
          22.33261653,
          20.33746575
         ],
         "yaxis": "y"
        },
        {
         "hovertemplate": "Entity=Samoa<br>Year=%{x}<br>Fixed broadband subscriptions=%{y}<extra></extra>",
         "legendgroup": "Samoa",
         "line": {
          "color": "#636efa",
          "dash": "solid"
         },
         "marker": {
          "symbol": "circle"
         },
         "mode": "lines+markers",
         "name": "Samoa",
         "showlegend": true,
         "type": "scattergl",
         "x": [
          2004,
          2005,
          2006,
          2007,
          2008,
          2009,
          2010,
          2012,
          2013,
          2014,
          2015,
          2016,
          2017
         ],
         "xaxis": "x",
         "y": [
          0.017918137,
          0.036165963,
          0.054180765,
          0.071410523,
          0.087306221,
          0.108368192,
          0.107556373,
          0.573275019,
          0.649125935,
          1.051393968,
          1.076930232,
          1.114966458,
          0.866128834
         ],
         "yaxis": "y"
        },
        {
         "hovertemplate": "Entity=San Marino<br>Year=%{x}<br>Fixed broadband subscriptions=%{y}<extra></extra>",
         "legendgroup": "San Marino",
         "line": {
          "color": "#EF553B",
          "dash": "solid"
         },
         "marker": {
          "symbol": "diamond"
         },
         "mode": "lines+markers",
         "name": "San Marino",
         "showlegend": true,
         "type": "scattergl",
         "x": [
          2003,
          2004,
          2005,
          2006,
          2007,
          2008,
          2009,
          2010,
          2011,
          2012,
          2013,
          2014,
          2015,
          2016,
          2017,
          2018,
          2019
         ],
         "xaxis": "x",
         "y": [
          2.100693229,
          3.718037319,
          4.160414677,
          4.983164983,
          5.318830456,
          16.10041401,
          17.67263759,
          19.18729386,
          20.65001105,
          30.84254789,
          31.42874697,
          35.5105014,
          34.98737677,
          35.81661891,
          31.18410502,
          32.13852301,
          32.7259303
         ],
         "yaxis": "y"
        },
        {
         "hovertemplate": "Entity=Sao Tome and Principe<br>Year=%{x}<br>Fixed broadband subscriptions=%{y}<extra></extra>",
         "legendgroup": "Sao Tome and Principe",
         "line": {
          "color": "#00cc96",
          "dash": "solid"
         },
         "marker": {
          "symbol": "square"
         },
         "mode": "lines+markers",
         "name": "Sao Tome and Principe",
         "showlegend": true,
         "type": "scattergl",
         "x": [
          2006,
          2007,
          2008,
          2009,
          2010,
          2011,
          2012,
          2013,
          2014,
          2015,
          2016,
          2017,
          2018,
          2019
         ],
         "xaxis": "x",
         "y": [
          0.077312733,
          0.185207456,
          0.201028518,
          0.251882008,
          0.324331517,
          0.399406039,
          0.4129424,
          0.509144294,
          0.562007286,
          0.658871194,
          0.701186358,
          0.714185688,
          0.737816783,
          0.763522059
         ],
         "yaxis": "y"
        },
        {
         "hovertemplate": "Entity=Saudi Arabia<br>Year=%{x}<br>Fixed broadband subscriptions=%{y}<extra></extra>",
         "legendgroup": "Saudi Arabia",
         "line": {
          "color": "#ab63fa",
          "dash": "solid"
         },
         "marker": {
          "symbol": "x"
         },
         "mode": "lines+markers",
         "name": "Saudi Arabia",
         "showlegend": true,
         "type": "scattergl",
         "x": [
          2001,
          2002,
          2003,
          2004,
          2005,
          2006,
          2007,
          2008,
          2009,
          2010,
          2011,
          2012,
          2015,
          2016,
          2017,
          2018,
          2019
         ],
         "xaxis": "x",
         "y": [
          0.066029507,
          0.159511583,
          0.204758956,
          0.296982425,
          0.284671981,
          0.890575717,
          2.474194842,
          4.048501613,
          5.398804512,
          6.241819136,
          6.903514127,
          8.712604056,
          19.97485187,
          19.71905451,
          20.0998611,
          20.24129125,
          19.84896754
         ],
         "yaxis": "y"
        },
        {
         "hovertemplate": "Entity=Senegal<br>Year=%{x}<br>Fixed broadband subscriptions=%{y}<extra></extra>",
         "legendgroup": "Senegal",
         "line": {
          "color": "#FFA15A",
          "dash": "solid"
         },
         "marker": {
          "symbol": "cross"
         },
         "mode": "lines+markers",
         "name": "Senegal",
         "showlegend": true,
         "type": "scattergl",
         "x": [
          2002,
          2003,
          2004,
          2005,
          2006,
          2007,
          2008,
          2009,
          2010,
          2011,
          2012,
          2013,
          2014,
          2015,
          2016,
          2017,
          2018,
          2019
         ],
         "xaxis": "x",
         "y": [
          0.011668953,
          0.022605962,
          0.070906024,
          0.162559165,
          0.254132129,
          0.326274827,
          0.394495456,
          0.476040536,
          0.620335084,
          0.71132698,
          0.713035793,
          0.774413848,
          0.729198612,
          0.690134671,
          0.655970089,
          0.725030327,
          0.818830296,
          0.933011806
         ],
         "yaxis": "y"
        },
        {
         "hovertemplate": "Entity=Serbia<br>Year=%{x}<br>Fixed broadband subscriptions=%{y}<extra></extra>",
         "legendgroup": "Serbia",
         "line": {
          "color": "#19d3f3",
          "dash": "solid"
         },
         "marker": {
          "symbol": "circle"
         },
         "mode": "lines+markers",
         "name": "Serbia",
         "showlegend": true,
         "type": "scattergl",
         "x": [
          2005,
          2006,
          2007,
          2008,
          2009,
          2010,
          2011,
          2012,
          2013,
          2014,
          2015,
          2016,
          2017,
          2018,
          2019
         ],
         "xaxis": "x",
         "y": [
          0.364222726,
          1.33094407,
          3.578984495,
          5.046090536,
          6.545080728,
          9.563649297,
          10.82588139,
          11.9011583,
          13.15895989,
          13.3854722,
          14.87285306,
          16.38766731,
          16.77028749,
          17.6326636,
          18.51056202
         ],
         "yaxis": "y"
        },
        {
         "hovertemplate": "Entity=Seychelles<br>Year=%{x}<br>Fixed broadband subscriptions=%{y}<extra></extra>",
         "legendgroup": "Seychelles",
         "line": {
          "color": "#FF6692",
          "dash": "solid"
         },
         "marker": {
          "symbol": "diamond"
         },
         "mode": "lines+markers",
         "name": "Seychelles",
         "showlegend": true,
         "type": "scattergl",
         "x": [
          2004,
          2005,
          2006,
          2007,
          2008,
          2009,
          2010,
          2011,
          2012,
          2013,
          2014,
          2015,
          2016,
          2017,
          2018,
          2019
         ],
         "xaxis": "x",
         "y": [
          0.399345485,
          1.069398069,
          2.764560016,
          3.877319954,
          3.777819545,
          5.015308033,
          7.443241585,
          10.24346179,
          11.42187618,
          13.28871995,
          12.55320278,
          14.1295879,
          14.66408944,
          15.78647141,
          20.27786933,
          27.59799057
         ],
         "yaxis": "y"
        },
        {
         "hovertemplate": "Entity=Singapore<br>Year=%{x}<br>Fixed broadband subscriptions=%{y}<extra></extra>",
         "legendgroup": "Singapore",
         "line": {
          "color": "#B6E880",
          "dash": "solid"
         },
         "marker": {
          "symbol": "square"
         },
         "mode": "lines+markers",
         "name": "Singapore",
         "showlegend": true,
         "type": "scattergl",
         "x": [
          1998,
          1999,
          2000,
          2001,
          2002,
          2003,
          2004,
          2005,
          2006,
          2007,
          2008,
          2009,
          2010,
          2011,
          2012,
          2013,
          2014,
          2015,
          2016,
          2017,
          2018,
          2019
         ],
         "xaxis": "x",
         "y": [
          0.259019446,
          0.758582795,
          1.712638603,
          3.703571985,
          6.578275756,
          10.10116911,
          13.05176442,
          15.38321963,
          17.89733666,
          20.22439027,
          22.4297312,
          24.83583383,
          26.08370953,
          26.75336972,
          26.68416806,
          27.38305863,
          26.67571059,
          26.57653082,
          28.15711098,
          25.85300281,
          25.94181953,
          25.91165882
         ],
         "yaxis": "y"
        },
        {
         "hovertemplate": "Entity=Slovakia<br>Year=%{x}<br>Fixed broadband subscriptions=%{y}<extra></extra>",
         "legendgroup": "Slovakia",
         "line": {
          "color": "#FF97FF",
          "dash": "solid"
         },
         "marker": {
          "symbol": "x"
         },
         "mode": "lines+markers",
         "name": "Slovakia",
         "showlegend": true,
         "type": "scattergl",
         "x": [
          2002,
          2003,
          2004,
          2005,
          2006,
          2007,
          2008,
          2009,
          2010,
          2011,
          2012,
          2013,
          2014,
          2015,
          2016,
          2017,
          2018,
          2019
         ],
         "xaxis": "x",
         "y": [
          0.075609403,
          0.415957231,
          1.45876008,
          3.362460532,
          5.642405087,
          10.12586012,
          11.19923043,
          14.34982494,
          16.22696693,
          17.62080054,
          19.30769033,
          20.45585123,
          21.94251661,
          23.43456881,
          24.55972553,
          25.78518328,
          27.65439443,
          29.04687968
         ],
         "yaxis": "y"
        },
        {
         "hovertemplate": "Entity=Slovenia<br>Year=%{x}<br>Fixed broadband subscriptions=%{y}<extra></extra>",
         "legendgroup": "Slovenia",
         "line": {
          "color": "#FECB52",
          "dash": "solid"
         },
         "marker": {
          "symbol": "cross"
         },
         "mode": "lines+markers",
         "name": "Slovenia",
         "showlegend": true,
         "type": "scattergl",
         "x": [
          2001,
          2002,
          2003,
          2004,
          2005,
          2006,
          2007,
          2008,
          2009,
          2010,
          2011,
          2012,
          2013,
          2014,
          2015,
          2016,
          2017,
          2018,
          2019
         ],
         "xaxis": "x",
         "y": [
          0.27673499,
          2.854925886,
          2.917305125,
          5.781716814,
          9.857261441,
          13.97372193,
          17.13005897,
          21.02239587,
          22.07833203,
          23.02738119,
          24.10057686,
          24.75120552,
          25.42864898,
          26.88359013,
          27.47326549,
          28.41197372,
          28.9839019,
          29.48956054,
          30.20892366
         ],
         "yaxis": "y"
        },
        {
         "hovertemplate": "Entity=Small states<br>Year=%{x}<br>Fixed broadband subscriptions=%{y}<extra></extra>",
         "legendgroup": "Small states",
         "line": {
          "color": "#636efa",
          "dash": "solid"
         },
         "marker": {
          "symbol": "circle"
         },
         "mode": "lines+markers",
         "name": "Small states",
         "showlegend": true,
         "type": "scattergl",
         "x": [
          2005,
          2006,
          2007,
          2008,
          2009,
          2010,
          2011,
          2012,
          2013,
          2014,
          2015,
          2016,
          2017,
          2018,
          2019
         ],
         "xaxis": "x",
         "y": [
          2.00713587006938,
          3.36637143479864,
          3.58930260565037,
          4.24494938496773,
          5.09542845334737,
          5.31804821046738,
          6.02032600778258,
          6.4974786172593,
          6.85694421271094,
          7.21251421096793,
          7.73811150933504,
          8.01570469522181,
          8.20375813958183,
          8.74191907977721,
          10.0634162440297
         ],
         "yaxis": "y"
        },
        {
         "hovertemplate": "Entity=Solomon Islands<br>Year=%{x}<br>Fixed broadband subscriptions=%{y}<extra></extra>",
         "legendgroup": "Solomon Islands",
         "line": {
          "color": "#EF553B",
          "dash": "solid"
         },
         "marker": {
          "symbol": "diamond"
         },
         "mode": "lines+markers",
         "name": "Solomon Islands",
         "showlegend": true,
         "type": "scattergl",
         "x": [
          2004,
          2005,
          2006,
          2007,
          2008,
          2009,
          2010,
          2011,
          2012,
          2013,
          2014,
          2015,
          2016,
          2017,
          2018,
          2019
         ],
         "xaxis": "x",
         "y": [
          0.043616792,
          0.095761388,
          0.135113225,
          0.203197516,
          0.297997457,
          0.388213075,
          0.477777294,
          0.44873606,
          0.383409793,
          0.32975342,
          0.227396994,
          0.235443147,
          0.264594681,
          0.183322092,
          0.227921275,
          0.156011364
         ],
         "yaxis": "y"
        },
        {
         "hovertemplate": "Entity=Somalia<br>Year=%{x}<br>Fixed broadband subscriptions=%{y}<extra></extra>",
         "legendgroup": "Somalia",
         "line": {
          "color": "#00cc96",
          "dash": "solid"
         },
         "marker": {
          "symbol": "square"
         },
         "mode": "lines+markers",
         "name": "Somalia",
         "showlegend": true,
         "type": "scattergl",
         "x": [
          2012,
          2013,
          2014,
          2015,
          2016,
          2017
         ],
         "xaxis": "x",
         "y": [
          0.314576624,
          0.459287915,
          0.521470894,
          0.594323443,
          0.648543358,
          0.67173074
         ],
         "yaxis": "y"
        },
        {
         "hovertemplate": "Entity=South Africa<br>Year=%{x}<br>Fixed broadband subscriptions=%{y}<extra></extra>",
         "legendgroup": "South Africa",
         "line": {
          "color": "#ab63fa",
          "dash": "solid"
         },
         "marker": {
          "symbol": "x"
         },
         "mode": "lines+markers",
         "name": "South Africa",
         "showlegend": true,
         "type": "scattergl",
         "x": [
          2002,
          2003,
          2004,
          2005,
          2006,
          2007,
          2008,
          2009,
          2010,
          2011,
          2012,
          2013,
          2014,
          2015,
          2016,
          2017,
          2018,
          2019
         ],
         "xaxis": "x",
         "y": [
          0.005783201,
          0.043478916,
          0.126872399,
          0.345212877,
          0.691102782,
          0.76954775,
          0.855774462,
          0.952909038,
          1.45069122,
          1.744104825,
          2.095673475,
          3.008561402,
          3.128313254,
          2.54457383,
          2.04735491,
          1.970169807,
          1.915495359,
          2.135233845
         ],
         "yaxis": "y"
        },
        {
         "hovertemplate": "Entity=South Asia<br>Year=%{x}<br>Fixed broadband subscriptions=%{y}<extra></extra>",
         "legendgroup": "South Asia",
         "line": {
          "color": "#FFA15A",
          "dash": "solid"
         },
         "marker": {
          "symbol": "cross"
         },
         "mode": "lines+markers",
         "name": "South Asia",
         "showlegend": true,
         "type": "scattergl",
         "x": [
          2001,
          2002,
          2003,
          2004,
          2005,
          2006,
          2007,
          2008,
          2009,
          2010,
          2011,
          2012,
          2013,
          2014,
          2015,
          2016,
          2017,
          2018,
          2019
         ],
         "xaxis": "x",
         "y": [
          0.0046006446625019,
          0.0074766744375495,
          0.0127564665587623,
          0.0218361492753922,
          0.102486062626155,
          0.168130456725975,
          0.210802482175808,
          0.353635975763535,
          0.536049723475369,
          0.763261589909914,
          0.948288278313303,
          1.05237469445861,
          1.10556970989359,
          1.2569949366539,
          1.40712580691751,
          1.5843812024979,
          1.60509072459339,
          1.67832084521503,
          1.70204628480023
         ],
         "yaxis": "y"
        },
        {
         "hovertemplate": "Entity=South Asia (IDA & IBRD)<br>Year=%{x}<br>Fixed broadband subscriptions=%{y}<extra></extra>",
         "legendgroup": "South Asia (IDA & IBRD)",
         "line": {
          "color": "#19d3f3",
          "dash": "solid"
         },
         "marker": {
          "symbol": "circle"
         },
         "mode": "lines+markers",
         "name": "South Asia (IDA & IBRD)",
         "showlegend": true,
         "type": "scattergl",
         "x": [
          2001,
          2002,
          2003,
          2004,
          2005,
          2006,
          2007,
          2008,
          2009,
          2010,
          2011,
          2012,
          2013,
          2014,
          2015,
          2016,
          2017,
          2018,
          2019
         ],
         "xaxis": "x",
         "y": [
          0.0046006446625019,
          0.0074766744375495,
          0.0127564665587623,
          0.0218361492753922,
          0.102486062626155,
          0.168130456725975,
          0.210802482175808,
          0.353635975763536,
          0.536049723475368,
          0.763261589909914,
          0.948288278313303,
          1.05237469445861,
          1.10556970989359,
          1.2569949366539,
          1.40712580691751,
          1.5843812024979,
          1.60509072459339,
          1.67832084521503,
          1.70204628480023
         ],
         "yaxis": "y"
        },
        {
         "hovertemplate": "Entity=South Korea<br>Year=%{x}<br>Fixed broadband subscriptions=%{y}<extra></extra>",
         "legendgroup": "South Korea",
         "line": {
          "color": "#FF6692",
          "dash": "solid"
         },
         "marker": {
          "symbol": "diamond"
         },
         "mode": "lines+markers",
         "name": "South Korea",
         "showlegend": true,
         "type": "scattergl",
         "x": [
          1998,
          1999,
          2000,
          2001,
          2002,
          2003,
          2004,
          2005,
          2006,
          2007,
          2008,
          2009,
          2010,
          2011,
          2012,
          2013,
          2014,
          2015,
          2016,
          2017,
          2018,
          2019
         ],
         "xaxis": "x",
         "y": [
          0.030029585,
          0.591276037,
          8.168134226,
          16.38784071,
          21.67830042,
          23.16264242,
          24.58361121,
          25.03170926,
          28.72865883,
          29.99909248,
          31.46433151,
          33.12950792,
          34.70390813,
          35.87246407,
          36.4611027,
          37.21769222,
          37.93662915,
          39.40023682,
          40.31833895,
          41.48220183,
          41.59692858,
          42.7643539
         ],
         "yaxis": "y"
        },
        {
         "hovertemplate": "Entity=South Sudan<br>Year=%{x}<br>Fixed broadband subscriptions=%{y}<extra></extra>",
         "legendgroup": "South Sudan",
         "line": {
          "color": "#B6E880",
          "dash": "solid"
         },
         "marker": {
          "symbol": "square"
         },
         "mode": "lines+markers",
         "name": "South Sudan",
         "showlegend": true,
         "type": "scattergl",
         "x": [
          2010,
          2011,
          2012,
          2013,
          2014,
          2015,
          2016,
          2017,
          2018,
          2019
         ],
         "xaxis": "x",
         "y": [
          0.000021,
          0.0000407,
          0.00016809,
          0.000965714,
          0.000947429,
          0.001399821,
          0.00138472,
          0.001833052,
          0.00182217,
          0.001807973
         ],
         "yaxis": "y"
        },
        {
         "hovertemplate": "Entity=Spain<br>Year=%{x}<br>Fixed broadband subscriptions=%{y}<extra></extra>",
         "legendgroup": "Spain",
         "line": {
          "color": "#FF97FF",
          "dash": "solid"
         },
         "marker": {
          "symbol": "x"
         },
         "mode": "lines+markers",
         "name": "Spain",
         "showlegend": true,
         "type": "scattergl",
         "x": [
          2000,
          2001,
          2002,
          2003,
          2004,
          2005,
          2006,
          2007,
          2008,
          2009,
          2010,
          2011,
          2012,
          2013,
          2014,
          2015,
          2016,
          2017,
          2018,
          2019
         ],
         "xaxis": "x",
         "y": [
          0.187038482,
          1.129250897,
          2.975926408,
          4.98147111,
          7.853939004,
          11.43867178,
          15.06668054,
          17.7326521,
          19.83111524,
          21.03874403,
          22.69793654,
          23.71878361,
          24.48744939,
          26.10678906,
          27.80150894,
          29.01724261,
          30.26250082,
          31.44484622,
          32.50380176,
          33.41391156
         ],
         "yaxis": "y"
        },
        {
         "hovertemplate": "Entity=Sri Lanka<br>Year=%{x}<br>Fixed broadband subscriptions=%{y}<extra></extra>",
         "legendgroup": "Sri Lanka",
         "line": {
          "color": "#FECB52",
          "dash": "solid"
         },
         "marker": {
          "symbol": "cross"
         },
         "mode": "lines+markers",
         "name": "Sri Lanka",
         "showlegend": true,
         "type": "scattergl",
         "x": [
          2001,
          2002,
          2003,
          2004,
          2005,
          2006,
          2007,
          2008,
          2009,
          2010,
          2011,
          2012,
          2013,
          2014,
          2015,
          2016,
          2017,
          2018,
          2019
         ],
         "xaxis": "x",
         "y": [
          0.001729086,
          0.003105577,
          0.017774622,
          0.105482223,
          0.107444425,
          0.116242042,
          0.31883308,
          0.510018423,
          0.842795401,
          1.126833302,
          1.759933587,
          1.724087549,
          2.053700118,
          2.730359091,
          2.993668413,
          4.244216462,
          5.776704617,
          7.274625469,
          7.814377529
         ],
         "yaxis": "y"
        },
        {
         "hovertemplate": "Entity=Sub-Saharan Africa<br>Year=%{x}<br>Fixed broadband subscriptions=%{y}<extra></extra>",
         "legendgroup": "Sub-Saharan Africa",
         "line": {
          "color": "#636efa",
          "dash": "solid"
         },
         "marker": {
          "symbol": "circle"
         },
         "mode": "lines+markers",
         "name": "Sub-Saharan Africa",
         "showlegend": true,
         "type": "scattergl",
         "x": [
          2005,
          2007,
          2008,
          2009,
          2010,
          2011,
          2012,
          2013,
          2014,
          2015,
          2016,
          2017,
          2018,
          2019
         ],
         "xaxis": "x",
         "y": [
          0.0388953667910686,
          0.0987518010427797,
          0.112161729327471,
          0.1341097441676,
          0.162957332310124,
          0.265297459778737,
          0.248917778523797,
          0.318943601957085,
          0.384200131956103,
          0.371435095907121,
          0.405933035092763,
          0.418308035451903,
          0.505216130815009,
          0.578602422374216
         ],
         "yaxis": "y"
        },
        {
         "hovertemplate": "Entity=Sub-Saharan Africa (IDA & IBRD)<br>Year=%{x}<br>Fixed broadband subscriptions=%{y}<extra></extra>",
         "legendgroup": "Sub-Saharan Africa (IDA & IBRD)",
         "line": {
          "color": "#EF553B",
          "dash": "solid"
         },
         "marker": {
          "symbol": "diamond"
         },
         "mode": "lines+markers",
         "name": "Sub-Saharan Africa (IDA & IBRD)",
         "showlegend": true,
         "type": "scattergl",
         "x": [
          2005,
          2007,
          2008,
          2009,
          2010,
          2011,
          2012,
          2013,
          2014,
          2015,
          2016,
          2017,
          2018,
          2019
         ],
         "xaxis": "x",
         "y": [
          0.0388953667910686,
          0.0987518010427797,
          0.112161729327471,
          0.1341097441676,
          0.162957332310124,
          0.265297459778737,
          0.248917778523797,
          0.318943601957085,
          0.384200131956103,
          0.371435095907121,
          0.405933035092763,
          0.418308035451903,
          0.505216130815009,
          0.578602422374216
         ],
         "yaxis": "y"
        },
        {
         "hovertemplate": "Entity=Sub-Saharan Africa (excluding high income)<br>Year=%{x}<br>Fixed broadband subscriptions=%{y}<extra></extra>",
         "legendgroup": "Sub-Saharan Africa (excluding high income)",
         "line": {
          "color": "#00cc96",
          "dash": "solid"
         },
         "marker": {
          "symbol": "square"
         },
         "mode": "lines+markers",
         "name": "Sub-Saharan Africa (excluding high income)",
         "showlegend": true,
         "type": "scattergl",
         "x": [
          2005,
          2007,
          2008,
          2009,
          2010,
          2011,
          2012,
          2013,
          2014,
          2015,
          2016,
          2017,
          2018,
          2019
         ],
         "xaxis": "x",
         "y": [
          0.0387346760598528,
          0.0982512877843378,
          0.111697533866674,
          0.133482317568694,
          0.162152505322552,
          0.263826844551476,
          0.247688835492553,
          0.317643400570428,
          0.382981029229504,
          0.370106227009488,
          0.404582064327984,
          0.41682076665876,
          0.50300054322722,
          0.575525633191787
         ],
         "yaxis": "y"
        },
        {
         "hovertemplate": "Entity=Sudan<br>Year=%{x}<br>Fixed broadband subscriptions=%{y}<extra></extra>",
         "legendgroup": "Sudan",
         "line": {
          "color": "#ab63fa",
          "dash": "solid"
         },
         "marker": {
          "symbol": "x"
         },
         "mode": "lines+markers",
         "name": "Sudan",
         "showlegend": true,
         "type": "scattergl",
         "x": [
          2004,
          2005,
          2006,
          2007,
          2008,
          2010,
          2011,
          2012,
          2013,
          2014,
          2015,
          2016,
          2017,
          2018,
          2019
         ],
         "xaxis": "x",
         "y": [
          0.00211876,
          0.00329735,
          0.005218702,
          0.104484833,
          0.106764054,
          0.039079447,
          0.049307376,
          0.068489663,
          0.069342411,
          0.054403043,
          0.072213033,
          0.06619246,
          0.074850422,
          0.075002034,
          0.07652306
         ],
         "yaxis": "y"
        },
        {
         "hovertemplate": "Entity=Suriname<br>Year=%{x}<br>Fixed broadband subscriptions=%{y}<extra></extra>",
         "legendgroup": "Suriname",
         "line": {
          "color": "#FFA15A",
          "dash": "solid"
         },
         "marker": {
          "symbol": "cross"
         },
         "mode": "lines+markers",
         "name": "Suriname",
         "showlegend": true,
         "type": "scattergl",
         "x": [
          2002,
          2003,
          2004,
          2005,
          2006,
          2007,
          2008,
          2009,
          2010,
          2011,
          2012,
          2013,
          2014,
          2015,
          2016,
          2017,
          2018,
          2019
         ],
         "xaxis": "x",
         "y": [
          0.019492571,
          0.044267556,
          0.085075525,
          0.221637596,
          0.525633541,
          0.822604909,
          1.113081414,
          1.733666468,
          2.861862185,
          4.327524062,
          5.407532633,
          6.77792984,
          8.386456596,
          9.423528507,
          12.6072779,
          12.48334782,
          12.70438723,
          13.81559483
         ],
         "yaxis": "y"
        },
        {
         "hovertemplate": "Entity=Sweden<br>Year=%{x}<br>Fixed broadband subscriptions=%{y}<extra></extra>",
         "legendgroup": "Sweden",
         "line": {
          "color": "#19d3f3",
          "dash": "solid"
         },
         "marker": {
          "symbol": "circle"
         },
         "mode": "lines+markers",
         "name": "Sweden",
         "showlegend": true,
         "type": "scattergl",
         "x": [
          2000,
          2001,
          2002,
          2003,
          2004,
          2005,
          2006,
          2007,
          2008,
          2009,
          2010,
          2011,
          2012,
          2013,
          2014,
          2015,
          2016,
          2017,
          2018,
          2019
         ],
         "xaxis": "x",
         "y": [
          2.803536284,
          6.597141561,
          9.416290856,
          12.23267418,
          15.68295254,
          27.90248028,
          27.36317998,
          30.3428627,
          31.42809103,
          31.62316641,
          31.9433795,
          31.98005432,
          32.2040715,
          32.72624001,
          33.85641403,
          35.80397237,
          37.41119745,
          38.91850051,
          39.5330035,
          40.24085778
         ],
         "yaxis": "y"
        },
        {
         "hovertemplate": "Entity=Switzerland<br>Year=%{x}<br>Fixed broadband subscriptions=%{y}<extra></extra>",
         "legendgroup": "Switzerland",
         "line": {
          "color": "#FF6692",
          "dash": "solid"
         },
         "marker": {
          "symbol": "diamond"
         },
         "mode": "lines+markers",
         "name": "Switzerland",
         "showlegend": true,
         "type": "scattergl",
         "x": [
          2000,
          2001,
          2002,
          2003,
          2004,
          2005,
          2006,
          2007,
          2008,
          2009,
          2010,
          2011,
          2012,
          2013,
          2014,
          2015,
          2016,
          2017,
          2018,
          2019
         ],
         "xaxis": "x",
         "y": [
          0.789724068,
          1.950086424,
          6.304656945,
          10.78474522,
          16.75916271,
          22.59724623,
          27.48988396,
          31.5854277,
          33.53478981,
          35.53584712,
          37.31128521,
          38.93184665,
          40.11446287,
          42.39913339,
          43.09024053,
          44.60242685,
          45.05910977,
          46.31990051,
          45.55542119,
          46.90110361
         ],
         "yaxis": "y"
        },
        {
         "hovertemplate": "Entity=Syria<br>Year=%{x}<br>Fixed broadband subscriptions=%{y}<extra></extra>",
         "legendgroup": "Syria",
         "line": {
          "color": "#B6E880",
          "dash": "solid"
         },
         "marker": {
          "symbol": "square"
         },
         "mode": "lines+markers",
         "name": "Syria",
         "showlegend": true,
         "type": "scattergl",
         "x": [
          2004,
          2005,
          2006,
          2007,
          2008,
          2009,
          2010,
          2011,
          2012,
          2013,
          2014,
          2015,
          2016,
          2017,
          2018,
          2019
         ],
         "xaxis": "x",
         "y": [
          0.003365526,
          0.01470494,
          0.027377771,
          0.034998044,
          0.05349874,
          0.16343114,
          0.326819919,
          0.575377405,
          1.184772768,
          1.767993919,
          2.67864754,
          4.052033493,
          5.780594112,
          8.324150701,
          7.841153913,
          8.730710097
         ],
         "yaxis": "y"
        },
        {
         "hovertemplate": "Entity=Tajikistan<br>Year=%{x}<br>Fixed broadband subscriptions=%{y}<extra></extra>",
         "legendgroup": "Tajikistan",
         "line": {
          "color": "#FF97FF",
          "dash": "solid"
         },
         "marker": {
          "symbol": "x"
         },
         "mode": "lines+markers",
         "name": "Tajikistan",
         "showlegend": true,
         "type": "scattergl",
         "x": [
          2003,
          2007,
          2008,
          2009,
          2010,
          2011,
          2012,
          2013,
          2014,
          2015,
          2016,
          2017
         ],
         "xaxis": "x",
         "y": [
          0.000152869,
          0.051609363,
          0.050735583,
          0.059744027,
          0.062438608,
          0.065215894,
          0.068572865,
          0.07196236,
          0.073914012,
          0.070972086,
          0.069255443,
          0.067565528
         ],
         "yaxis": "y"
        },
        {
         "hovertemplate": "Entity=Tanzania<br>Year=%{x}<br>Fixed broadband subscriptions=%{y}<extra></extra>",
         "legendgroup": "Tanzania",
         "line": {
          "color": "#FECB52",
          "dash": "solid"
         },
         "marker": {
          "symbol": "cross"
         },
         "mode": "lines+markers",
         "name": "Tanzania",
         "showlegend": true,
         "type": "scattergl",
         "x": [
          2005,
          2006,
          2007,
          2008,
          2009,
          2010,
          2011,
          2012,
          2013,
          2014,
          2015,
          2016,
          2017,
          2018,
          2019
         ],
         "xaxis": "x",
         "y": [
          0.006733364,
          0.007580534,
          0.008342876,
          0.015343835,
          0.016128121,
          0.017034029,
          0.061891453,
          0.087826438,
          0.11638069,
          0.169333567,
          0.205894675,
          0.600336706,
          1.39674582,
          1.529357877,
          1.792339801
         ],
         "yaxis": "y"
        },
        {
         "hovertemplate": "Entity=Thailand<br>Year=%{x}<br>Fixed broadband subscriptions=%{y}<extra></extra>",
         "legendgroup": "Thailand",
         "line": {
          "color": "#636efa",
          "dash": "solid"
         },
         "marker": {
          "symbol": "circle"
         },
         "mode": "lines+markers",
         "name": "Thailand",
         "showlegend": true,
         "type": "scattergl",
         "x": [
          2001,
          2003,
          2004,
          2005,
          2006,
          2007,
          2008,
          2009,
          2010,
          2011,
          2012,
          2013,
          2014,
          2015,
          2016,
          2017,
          2018,
          2019
         ],
         "xaxis": "x",
         "y": [
          0.002538591,
          0.017987644,
          0.253518335,
          0.849170532,
          1.357717016,
          1.954216691,
          3.11553937,
          3.924632956,
          4.839422048,
          5.768798864,
          6.66165831,
          7.61910151,
          7.94871373,
          9.065043045,
          10.46667116,
          11.85959043,
          13.23520776,
          14.51882873
         ],
         "yaxis": "y"
        },
        {
         "hovertemplate": "Entity=Timor<br>Year=%{x}<br>Fixed broadband subscriptions=%{y}<extra></extra>",
         "legendgroup": "Timor",
         "line": {
          "color": "#EF553B",
          "dash": "solid"
         },
         "marker": {
          "symbol": "diamond"
         },
         "mode": "lines+markers",
         "name": "Timor",
         "showlegend": true,
         "type": "scattergl",
         "x": [
          2003,
          2004,
          2005,
          2006,
          2007,
          2008,
          2009,
          2010,
          2011,
          2012,
          2013,
          2014,
          2015,
          2016,
          2017,
          2018,
          2019
         ],
         "xaxis": "x",
         "y": [
          0.000950261,
          0.001337596,
          0.002210755,
          0.002853118,
          0.004824429,
          0.00672711,
          0.043843441,
          0.045723775,
          0.049409289,
          0.052957032,
          0.060695712,
          0.087539203,
          0.085931479,
          0.054293981,
          0.052764591,
          0.04755618,
          0.046399442
         ],
         "yaxis": "y"
        },
        {
         "hovertemplate": "Entity=Togo<br>Year=%{x}<br>Fixed broadband subscriptions=%{y}<extra></extra>",
         "legendgroup": "Togo",
         "line": {
          "color": "#00cc96",
          "dash": "solid"
         },
         "marker": {
          "symbol": "square"
         },
         "mode": "lines+markers",
         "name": "Togo",
         "showlegend": true,
         "type": "scattergl",
         "x": [
          2007,
          2008,
          2009,
          2010,
          2011,
          2012,
          2013,
          2014,
          2015,
          2016,
          2017,
          2018,
          2019
         ],
         "xaxis": "x",
         "y": [
          0.020285932,
          0.031413251,
          0.066647096,
          0.423954545,
          0.516059645,
          0.612550487,
          0.099428848,
          0.176660129,
          0.902233708,
          0.649311826,
          0.656623637,
          0.331546351,
          0.394674035
         ],
         "yaxis": "y"
        },
        {
         "hovertemplate": "Entity=Tonga<br>Year=%{x}<br>Fixed broadband subscriptions=%{y}<extra></extra>",
         "legendgroup": "Tonga",
         "line": {
          "color": "#ab63fa",
          "dash": "solid"
         },
         "marker": {
          "symbol": "x"
         },
         "mode": "lines+markers",
         "name": "Tonga",
         "showlegend": true,
         "type": "scattergl",
         "x": [
          2002,
          2003,
          2004,
          2005,
          2006,
          2007,
          2008,
          2009,
          2010,
          2011,
          2012,
          2013,
          2014,
          2015,
          2016,
          2017,
          2018,
          2019
         ],
         "xaxis": "x",
         "y": [
          0.011108643,
          0.022090793,
          0.333273464,
          0.639215103,
          0.62238216,
          0.760374728,
          0.697433715,
          0.96255655,
          1.057834709,
          1.255286688,
          1.46003874,
          1.670466158,
          1.781684286,
          2.438951787,
          2.966390792,
          2.941234142,
          2.440962431,
          3.543744138
         ],
         "yaxis": "y"
        },
        {
         "hovertemplate": "Entity=Trinidad and Tobago<br>Year=%{x}<br>Fixed broadband subscriptions=%{y}<extra></extra>",
         "legendgroup": "Trinidad and Tobago",
         "line": {
          "color": "#FFA15A",
          "dash": "solid"
         },
         "marker": {
          "symbol": "cross"
         },
         "mode": "lines+markers",
         "name": "Trinidad and Tobago",
         "showlegend": true,
         "type": "scattergl",
         "x": [
          2002,
          2003,
          2004,
          2005,
          2006,
          2007,
          2008,
          2009,
          2010,
          2011,
          2012,
          2013,
          2014,
          2015,
          2016,
          2017,
          2018,
          2019
         ],
         "xaxis": "x",
         "y": [
          0.013780004,
          0.068871006,
          0.32810825,
          0.833242062,
          1.582497864,
          2.712443951,
          6.500624219,
          9.84586617,
          12.26144395,
          12.89633567,
          14.97673665,
          15.69753484,
          18.21183327,
          20.32520681,
          18.55302128,
          23.60997616,
          24.62148602,
          24.32591885
         ],
         "yaxis": "y"
        },
        {
         "hovertemplate": "Entity=Tunisia<br>Year=%{x}<br>Fixed broadband subscriptions=%{y}<extra></extra>",
         "legendgroup": "Tunisia",
         "line": {
          "color": "#19d3f3",
          "dash": "solid"
         },
         "marker": {
          "symbol": "circle"
         },
         "mode": "lines+markers",
         "name": "Tunisia",
         "showlegend": true,
         "type": "scattergl",
         "x": [
          2002,
          2003,
          2004,
          2005,
          2006,
          2007,
          2008,
          2009,
          2010,
          2011,
          2012,
          2013,
          2014,
          2015,
          2016,
          2017,
          2018,
          2019
         ],
         "xaxis": "x",
         "y": [
          0.000263391,
          0.002604251,
          0.028326896,
          0.173873535,
          0.429801786,
          0.930796219,
          2.182816866,
          3.542635763,
          4.534019154,
          5.207263533,
          4.861324816,
          4.747432906,
          5.129970973,
          5.133985853,
          5.664102223,
          7.012629529,
          8.771097018,
          10.20425544
         ],
         "yaxis": "y"
        },
        {
         "hovertemplate": "Entity=Turkey<br>Year=%{x}<br>Fixed broadband subscriptions=%{y}<extra></extra>",
         "legendgroup": "Turkey",
         "line": {
          "color": "#FF6692",
          "dash": "solid"
         },
         "marker": {
          "symbol": "diamond"
         },
         "mode": "lines+markers",
         "name": "Turkey",
         "showlegend": true,
         "type": "scattergl",
         "x": [
          2001,
          2002,
          2003,
          2004,
          2005,
          2006,
          2007,
          2008,
          2009,
          2010,
          2011,
          2012,
          2013,
          2014,
          2015,
          2016,
          2017,
          2018,
          2019
         ],
         "xaxis": "x",
         "y": [
          0.017003612,
          0.032550281,
          0.301597524,
          0.862442888,
          2.341217648,
          4.034051318,
          6.831892421,
          8.175346674,
          9.043971501,
          9.813989489,
          10.33637128,
          10.5410011,
          11.71331825,
          11.48057285,
          12.10322874,
          13.15291498,
          14.70097003,
          16.28274432,
          17.05866436
         ],
         "yaxis": "y"
        },
        {
         "hovertemplate": "Entity=Turkmenistan<br>Year=%{x}<br>Fixed broadband subscriptions=%{y}<extra></extra>",
         "legendgroup": "Turkmenistan",
         "line": {
          "color": "#B6E880",
          "dash": "solid"
         },
         "marker": {
          "symbol": "square"
         },
         "mode": "lines+markers",
         "name": "Turkmenistan",
         "showlegend": true,
         "type": "scattergl",
         "x": [
          2008,
          2009,
          2010,
          2011,
          2012,
          2013,
          2014,
          2015,
          2016,
          2017
         ],
         "xaxis": "x",
         "y": [
          0.001519521,
          0.009285229,
          0.014212104,
          0.021259798,
          0.026576055,
          0.033542177,
          0.042075777,
          0.053905576,
          0.070641823,
          0.086840729
         ],
         "yaxis": "y"
        },
        {
         "hovertemplate": "Entity=Tuvalu<br>Year=%{x}<br>Fixed broadband subscriptions=%{y}<extra></extra>",
         "legendgroup": "Tuvalu",
         "line": {
          "color": "#FF97FF",
          "dash": "solid"
         },
         "marker": {
          "symbol": "x"
         },
         "mode": "lines+markers",
         "name": "Tuvalu",
         "showlegend": true,
         "type": "scattergl",
         "x": [
          2004,
          2005,
          2006,
          2007,
          2008,
          2009,
          2010,
          2011,
          2012,
          2013,
          2014,
          2015,
          2016,
          2017
         ],
         "xaxis": "x",
         "y": [
          0.506636944,
          1.5,
          2.470355731,
          2.641620194,
          2.811712236,
          0.959324635,
          2.279202279,
          4.23210759,
          4.190334296,
          4.144791379,
          4.101348888,
          4.054419317,
          4.008908686,
          3.957783641
         ],
         "yaxis": "y"
        },
        {
         "hovertemplate": "Entity=Uganda<br>Year=%{x}<br>Fixed broadband subscriptions=%{y}<extra></extra>",
         "legendgroup": "Uganda",
         "line": {
          "color": "#FECB52",
          "dash": "solid"
         },
         "marker": {
          "symbol": "cross"
         },
         "mode": "lines+markers",
         "name": "Uganda",
         "showlegend": true,
         "type": "scattergl",
         "x": [
          2005,
          2006,
          2007,
          2008,
          2009,
          2010,
          2011,
          2012,
          2013,
          2014,
          2015,
          2016
         ],
         "xaxis": "x",
         "y": [
          0.003070301,
          0.004234993,
          0.006308006,
          0.015766435,
          0.01910153,
          0.043172345,
          0.106085497,
          0.111115278,
          0.116264349,
          0.149541378,
          0.211178662,
          0.232325189
         ],
         "yaxis": "y"
        },
        {
         "hovertemplate": "Entity=Ukraine<br>Year=%{x}<br>Fixed broadband subscriptions=%{y}<extra></extra>",
         "legendgroup": "Ukraine",
         "line": {
          "color": "#636efa",
          "dash": "solid"
         },
         "marker": {
          "symbol": "circle"
         },
         "mode": "lines+markers",
         "name": "Ukraine",
         "showlegend": true,
         "type": "scattergl",
         "x": [
          2005,
          2006,
          2007,
          2008,
          2009,
          2010,
          2011,
          2012,
          2013,
          2014,
          2015,
          2016,
          2017,
          2018,
          2019
         ],
         "xaxis": "x",
         "y": [
          0.277231827,
          1.115487517,
          1.724645103,
          3.464220984,
          4.147706232,
          6.454904046,
          6.956210822,
          8.037551512,
          8.858429483,
          9.30621027,
          11.64370424,
          12.03425849,
          12.35354321,
          12.80325605,
          16.15913118
         ],
         "yaxis": "y"
        },
        {
         "hovertemplate": "Entity=United Arab Emirates<br>Year=%{x}<br>Fixed broadband subscriptions=%{y}<extra></extra>",
         "legendgroup": "United Arab Emirates",
         "line": {
          "color": "#EF553B",
          "dash": "solid"
         },
         "marker": {
          "symbol": "diamond"
         },
         "mode": "lines+markers",
         "name": "United Arab Emirates",
         "showlegend": true,
         "type": "scattergl",
         "x": [
          1999,
          2000,
          2001,
          2002,
          2003,
          2004,
          2005,
          2006,
          2007,
          2008,
          2009,
          2010,
          2011,
          2012,
          2013,
          2014,
          2015,
          2016,
          2017,
          2018,
          2019
         ],
         "xaxis": "x",
         "y": [
          0.012373425,
          0.062953445,
          0.253548667,
          0.478099056,
          0.817013889,
          1.379993462,
          2.818519144,
          4.539850956,
          6.156751077,
          7.864842689,
          8.720368324,
          9.202562623,
          9.690282881,
          10.44662223,
          11.32794298,
          11.84873307,
          13.32678751,
          13.86163628,
          29.11110893,
          31.40460882,
          31.17494457
         ],
         "yaxis": "y"
        },
        {
         "hovertemplate": "Entity=United Kingdom<br>Year=%{x}<br>Fixed broadband subscriptions=%{y}<extra></extra>",
         "legendgroup": "United Kingdom",
         "line": {
          "color": "#00cc96",
          "dash": "solid"
         },
         "marker": {
          "symbol": "square"
         },
         "mode": "lines+markers",
         "name": "United Kingdom",
         "showlegend": true,
         "type": "scattergl",
         "x": [
          2000,
          2001,
          2002,
          2003,
          2004,
          2005,
          2006,
          2007,
          2008,
          2009,
          2010,
          2011,
          2012,
          2013,
          2014,
          2015,
          2016,
          2017,
          2018,
          2019
         ],
         "xaxis": "x",
         "y": [
          0.089760743,
          0.559769954,
          2.286475201,
          5.227715697,
          10.22820347,
          16.4189566,
          21.39544538,
          25.39412393,
          27.85420546,
          28.45395003,
          30.17895673,
          32.15914381,
          33.60800177,
          35.45456823,
          36.27131583,
          37.44769864,
          38.42293963,
          39.02955486,
          39.5970259,
          39.66665893
         ],
         "yaxis": "y"
        },
        {
         "hovertemplate": "Entity=United States<br>Year=%{x}<br>Fixed broadband subscriptions=%{y}<extra></extra>",
         "legendgroup": "United States",
         "line": {
          "color": "#ab63fa",
          "dash": "solid"
         },
         "marker": {
          "symbol": "x"
         },
         "mode": "lines+markers",
         "name": "United States",
         "showlegend": true,
         "type": "scattergl",
         "x": [
          1998,
          1999,
          2000,
          2001,
          2002,
          2003,
          2004,
          2005,
          2006,
          2007,
          2008,
          2009,
          2010,
          2011,
          2012,
          2013,
          2014,
          2015,
          2016,
          2017,
          2018,
          2019
         ],
         "xaxis": "x",
         "y": [
          0.256527384,
          0.98880068,
          2.509620243,
          4.494888518,
          6.920633597,
          9.57310291,
          12.77644087,
          17.34151705,
          20.23035652,
          23.85295723,
          25.4146804,
          26.11492781,
          27.3523823,
          28.34451919,
          29.45894011,
          30.35140225,
          30.69286505,
          31.85382022,
          32.72717192,
          33.28362773,
          33.89369182,
          34.72232806
         ],
         "yaxis": "y"
        },
        {
         "hovertemplate": "Entity=United States Virgin Islands<br>Year=%{x}<br>Fixed broadband subscriptions=%{y}<extra></extra>",
         "legendgroup": "United States Virgin Islands",
         "line": {
          "color": "#FFA15A",
          "dash": "solid"
         },
         "marker": {
          "symbol": "cross"
         },
         "mode": "lines+markers",
         "name": "United States Virgin Islands",
         "showlegend": true,
         "type": "scattergl",
         "x": [
          2004,
          2005,
          2007,
          2008,
          2009,
          2010,
          2013,
          2014,
          2015
         ],
         "xaxis": "x",
         "y": [
          1.372904563,
          2.752472308,
          5.538906782,
          6.946682154,
          8.457692741,
          8.577865337,
          8.641729106,
          8.657267348,
          8.574858515
         ],
         "yaxis": "y"
        },
        {
         "hovertemplate": "Entity=Upper middle income<br>Year=%{x}<br>Fixed broadband subscriptions=%{y}<extra></extra>",
         "legendgroup": "Upper middle income",
         "line": {
          "color": "#19d3f3",
          "dash": "solid"
         },
         "marker": {
          "symbol": "circle"
         },
         "mode": "lines+markers",
         "name": "Upper middle income",
         "showlegend": true,
         "type": "scattergl",
         "x": [
          2000,
          2001,
          2002,
          2003,
          2004,
          2005,
          2006,
          2007,
          2008,
          2009,
          2010,
          2011,
          2012,
          2013,
          2014,
          2015,
          2016,
          2017,
          2018,
          2019
         ],
         "xaxis": "x",
         "y": [
          0.0090191679957049,
          0.0460897823611928,
          0.222101247078655,
          0.645581494566357,
          1.46351351357144,
          2.19768970003012,
          3.12332052286577,
          4.30672244125969,
          5.61191929864819,
          6.98465661062183,
          8.38380783300007,
          10.2907673978117,
          11.4326341539305,
          12.3757611061965,
          13.0737681146748,
          16.4873939884164,
          18.5151689902107,
          21.6229924409052,
          22.6387132324086,
          24.6701199491054
         ],
         "yaxis": "y"
        },
        {
         "hovertemplate": "Entity=Uruguay<br>Year=%{x}<br>Fixed broadband subscriptions=%{y}<extra></extra>",
         "legendgroup": "Uruguay",
         "line": {
          "color": "#FF6692",
          "dash": "solid"
         },
         "marker": {
          "symbol": "diamond"
         },
         "mode": "lines+markers",
         "name": "Uruguay",
         "showlegend": true,
         "type": "scattergl",
         "x": [
          2004,
          2005,
          2006,
          2007,
          2008,
          2009,
          2010,
          2011,
          2012,
          2013,
          2014,
          2015,
          2016,
          2017,
          2018,
          2019
         ],
         "xaxis": "x",
         "y": [
          0.812891618,
          1.461224522,
          3.205087146,
          4.952894111,
          7.320803025,
          9.478051012,
          11.41761243,
          14.03636877,
          17.18476757,
          21.74628693,
          24.71039008,
          26.40476622,
          26.91712257,
          27.73874257,
          28.33601746,
          29.24574794
         ],
         "yaxis": "y"
        },
        {
         "hovertemplate": "Entity=Uzbekistan<br>Year=%{x}<br>Fixed broadband subscriptions=%{y}<extra></extra>",
         "legendgroup": "Uzbekistan",
         "line": {
          "color": "#B6E880",
          "dash": "solid"
         },
         "marker": {
          "symbol": "square"
         },
         "mode": "lines+markers",
         "name": "Uzbekistan",
         "showlegend": true,
         "type": "scattergl",
         "x": [
          2003,
          2004,
          2005,
          2006,
          2007,
          2008,
          2009,
          2010,
          2011,
          2012,
          2013,
          2014,
          2015,
          2016,
          2017,
          2018,
          2019
         ],
         "xaxis": "x",
         "y": [
          0.01070717,
          0.021144578,
          0.031296602,
          0.032230178,
          0.070502495,
          0.238752101,
          0.316171483,
          0.413804098,
          0.509921486,
          0.748996253,
          1.023297952,
          2.696508044,
          5.780186247,
          8.734755262,
          10.38871194,
          12.69699784,
          13.93882902
         ],
         "yaxis": "y"
        },
        {
         "hovertemplate": "Entity=Vanuatu<br>Year=%{x}<br>Fixed broadband subscriptions=%{y}<extra></extra>",
         "legendgroup": "Vanuatu",
         "line": {
          "color": "#FF97FF",
          "dash": "solid"
         },
         "marker": {
          "symbol": "x"
         },
         "mode": "lines+markers",
         "name": "Vanuatu",
         "showlegend": true,
         "type": "scattergl",
         "x": [
          2003,
          2004,
          2005,
          2006,
          2007,
          2008,
          2009,
          2010,
          2011,
          2012,
          2013,
          2014,
          2015,
          2016,
          2019
         ],
         "xaxis": "x",
         "y": [
          0.007539242,
          0.011267495,
          0.028191627,
          0.044315902,
          0.059233068,
          0.089005981,
          0.217158095,
          0.211675155,
          0.138881448,
          0.124248995,
          0.120794124,
          1.731416358,
          1.584848597,
          1.575827255,
          2.630367945
         ],
         "yaxis": "y"
        },
        {
         "hovertemplate": "Entity=Venezuela<br>Year=%{x}<br>Fixed broadband subscriptions=%{y}<extra></extra>",
         "legendgroup": "Venezuela",
         "line": {
          "color": "#FECB52",
          "dash": "solid"
         },
         "marker": {
          "symbol": "cross"
         },
         "mode": "lines+markers",
         "name": "Venezuela",
         "showlegend": true,
         "type": "scattergl",
         "x": [
          2000,
          2001,
          2002,
          2003,
          2004,
          2005,
          2006,
          2007,
          2008,
          2009,
          2010,
          2011,
          2012,
          2013,
          2014,
          2015,
          2016,
          2017,
          2018,
          2019
         ],
         "xaxis": "x",
         "y": [
          0.018489242,
          0.148646021,
          0.311353505,
          0.45788479,
          0.808602081,
          1.347578603,
          2.002324452,
          3.148210063,
          4.035054924,
          4.99999126,
          5.882839415,
          6.28512157,
          6.936821999,
          7.499506397,
          7.988834525,
          8.608894758,
          8.756720614,
          8.869417291,
          9.016399628,
          8.980955805
         ],
         "yaxis": "y"
        },
        {
         "hovertemplate": "Entity=Vietnam<br>Year=%{x}<br>Fixed broadband subscriptions=%{y}<extra></extra>",
         "legendgroup": "Vietnam",
         "line": {
          "color": "#636efa",
          "dash": "solid"
         },
         "marker": {
          "symbol": "circle"
         },
         "mode": "lines+markers",
         "name": "Vietnam",
         "showlegend": true,
         "type": "scattergl",
         "x": [
          2002,
          2003,
          2004,
          2005,
          2006,
          2007,
          2008,
          2009,
          2010,
          2011,
          2012,
          2013,
          2014,
          2015,
          2016,
          2017,
          2018,
          2019
         ],
         "xaxis": "x",
         "y": [
          0.001319688,
          0.011154089,
          0.06345679,
          0.250527655,
          0.610475086,
          1.515004913,
          2.375779122,
          3.690545285,
          4.171216303,
          4.318832452,
          5.317667686,
          5.677607533,
          6.542661911,
          8.26268947,
          9.716197135,
          11.91316998,
          13.6002095,
          15.34527973
         ],
         "yaxis": "y"
        },
        {
         "hovertemplate": "Entity=World<br>Year=%{x}<br>Fixed broadband subscriptions=%{y}<extra></extra>",
         "legendgroup": "World",
         "line": {
          "color": "#EF553B",
          "dash": "solid"
         },
         "marker": {
          "symbol": "diamond"
         },
         "mode": "lines+markers",
         "name": "World",
         "showlegend": true,
         "type": "scattergl",
         "x": [
          2001,
          2002,
          2003,
          2004,
          2005,
          2006,
          2007,
          2008,
          2009,
          2010,
          2011,
          2012,
          2013,
          2014,
          2015,
          2016,
          2017,
          2018,
          2019
         ],
         "xaxis": "x",
         "y": [
          0.837601435731048,
          1.34241760349228,
          1.97595480750849,
          2.94347557093946,
          3.65776881560231,
          4.65200380182219,
          5.36972516861369,
          6.25743293586112,
          7.09648342031657,
          7.84627893476467,
          8.98318037213322,
          9.35316997428851,
          9.77301132325808,
          10.2171151053657,
          11.5170137239022,
          12.4166218709726,
          13.7499382451523,
          14.5771728145532,
          15.6772518406817
         ],
         "yaxis": "y"
        },
        {
         "hovertemplate": "Entity=Yemen<br>Year=%{x}<br>Fixed broadband subscriptions=%{y}<extra></extra>",
         "legendgroup": "Yemen",
         "line": {
          "color": "#00cc96",
          "dash": "solid"
         },
         "marker": {
          "symbol": "square"
         },
         "mode": "lines+markers",
         "name": "Yemen",
         "showlegend": true,
         "type": "scattergl",
         "x": [
          2005,
          2006,
          2007,
          2008,
          2009,
          2010,
          2011,
          2012,
          2013,
          2014,
          2015,
          2016,
          2017,
          2018
         ],
         "xaxis": "x",
         "y": [
          0.00744999,
          0.013442805,
          0.051685621,
          0.118764054,
          0.239824555,
          0.362774891,
          0.457837224,
          0.683605537,
          1.021190945,
          1.316630966,
          1.490684786,
          1.016699372,
          1.325692112,
          1.355606503
         ],
         "yaxis": "y"
        },
        {
         "hovertemplate": "Entity=Zambia<br>Year=%{x}<br>Fixed broadband subscriptions=%{y}<extra></extra>",
         "legendgroup": "Zambia",
         "line": {
          "color": "#ab63fa",
          "dash": "solid"
         },
         "marker": {
          "symbol": "x"
         },
         "mode": "lines+markers",
         "name": "Zambia",
         "showlegend": true,
         "type": "scattergl",
         "x": [
          2000,
          2001,
          2002,
          2003,
          2004,
          2005,
          2006,
          2007,
          2008,
          2009,
          2010,
          2011,
          2012,
          2013,
          2014,
          2015,
          2016,
          2017,
          2018,
          2019
         ],
         "xaxis": "x",
         "y": [
          0.000201614,
          0.000289931,
          0.000437489,
          0.000808404,
          0.002164382,
          0.002108593,
          0.019213844,
          0.031992429,
          0.044386401,
          0.080982879,
          0.075459445,
          0.117,
          0.103690594,
          0.090087833,
          0.133255081,
          0.147298119,
          0.194237673,
          0.213082084,
          0.416258734,
          0.497681265
         ],
         "yaxis": "y"
        },
        {
         "hovertemplate": "Entity=Zimbabwe<br>Year=%{x}<br>Fixed broadband subscriptions=%{y}<extra></extra>",
         "legendgroup": "Zimbabwe",
         "line": {
          "color": "#FFA15A",
          "dash": "solid"
         },
         "marker": {
          "symbol": "cross"
         },
         "mode": "lines+markers",
         "name": "Zimbabwe",
         "showlegend": true,
         "type": "scattergl",
         "x": [
          2001,
          2002,
          2003,
          2004,
          2005,
          2006,
          2007,
          2008,
          2009,
          2010,
          2011,
          2012,
          2013,
          2014,
          2015,
          2016,
          2017,
          2018,
          2019
         ],
         "xaxis": "x",
         "y": [
          0.006465998,
          0.023815718,
          0.053295615,
          0.074601212,
          0.08433596,
          0.083912694,
          0.12410327,
          0.145401097,
          0.37622831,
          0.259889116,
          0.263681952,
          0.548259074,
          0.778375256,
          1.120462817,
          1.187053232,
          1.217633426,
          1.315693816,
          1.40632166,
          1.395817464
         ],
         "yaxis": "y"
        }
       ],
       "layout": {
        "legend": {
         "title": {
          "text": "Entity"
         },
         "tracegroupgap": 0
        },
        "template": {
         "data": {
          "bar": [
           {
            "error_x": {
             "color": "#2a3f5f"
            },
            "error_y": {
             "color": "#2a3f5f"
            },
            "marker": {
             "line": {
              "color": "#E5ECF6",
              "width": 0.5
             },
             "pattern": {
              "fillmode": "overlay",
              "size": 10,
              "solidity": 0.2
             }
            },
            "type": "bar"
           }
          ],
          "barpolar": [
           {
            "marker": {
             "line": {
              "color": "#E5ECF6",
              "width": 0.5
             },
             "pattern": {
              "fillmode": "overlay",
              "size": 10,
              "solidity": 0.2
             }
            },
            "type": "barpolar"
           }
          ],
          "carpet": [
           {
            "aaxis": {
             "endlinecolor": "#2a3f5f",
             "gridcolor": "white",
             "linecolor": "white",
             "minorgridcolor": "white",
             "startlinecolor": "#2a3f5f"
            },
            "baxis": {
             "endlinecolor": "#2a3f5f",
             "gridcolor": "white",
             "linecolor": "white",
             "minorgridcolor": "white",
             "startlinecolor": "#2a3f5f"
            },
            "type": "carpet"
           }
          ],
          "choropleth": [
           {
            "colorbar": {
             "outlinewidth": 0,
             "ticks": ""
            },
            "type": "choropleth"
           }
          ],
          "contour": [
           {
            "colorbar": {
             "outlinewidth": 0,
             "ticks": ""
            },
            "colorscale": [
             [
              0,
              "#0d0887"
             ],
             [
              0.1111111111111111,
              "#46039f"
             ],
             [
              0.2222222222222222,
              "#7201a8"
             ],
             [
              0.3333333333333333,
              "#9c179e"
             ],
             [
              0.4444444444444444,
              "#bd3786"
             ],
             [
              0.5555555555555556,
              "#d8576b"
             ],
             [
              0.6666666666666666,
              "#ed7953"
             ],
             [
              0.7777777777777778,
              "#fb9f3a"
             ],
             [
              0.8888888888888888,
              "#fdca26"
             ],
             [
              1,
              "#f0f921"
             ]
            ],
            "type": "contour"
           }
          ],
          "contourcarpet": [
           {
            "colorbar": {
             "outlinewidth": 0,
             "ticks": ""
            },
            "type": "contourcarpet"
           }
          ],
          "heatmap": [
           {
            "colorbar": {
             "outlinewidth": 0,
             "ticks": ""
            },
            "colorscale": [
             [
              0,
              "#0d0887"
             ],
             [
              0.1111111111111111,
              "#46039f"
             ],
             [
              0.2222222222222222,
              "#7201a8"
             ],
             [
              0.3333333333333333,
              "#9c179e"
             ],
             [
              0.4444444444444444,
              "#bd3786"
             ],
             [
              0.5555555555555556,
              "#d8576b"
             ],
             [
              0.6666666666666666,
              "#ed7953"
             ],
             [
              0.7777777777777778,
              "#fb9f3a"
             ],
             [
              0.8888888888888888,
              "#fdca26"
             ],
             [
              1,
              "#f0f921"
             ]
            ],
            "type": "heatmap"
           }
          ],
          "heatmapgl": [
           {
            "colorbar": {
             "outlinewidth": 0,
             "ticks": ""
            },
            "colorscale": [
             [
              0,
              "#0d0887"
             ],
             [
              0.1111111111111111,
              "#46039f"
             ],
             [
              0.2222222222222222,
              "#7201a8"
             ],
             [
              0.3333333333333333,
              "#9c179e"
             ],
             [
              0.4444444444444444,
              "#bd3786"
             ],
             [
              0.5555555555555556,
              "#d8576b"
             ],
             [
              0.6666666666666666,
              "#ed7953"
             ],
             [
              0.7777777777777778,
              "#fb9f3a"
             ],
             [
              0.8888888888888888,
              "#fdca26"
             ],
             [
              1,
              "#f0f921"
             ]
            ],
            "type": "heatmapgl"
           }
          ],
          "histogram": [
           {
            "marker": {
             "pattern": {
              "fillmode": "overlay",
              "size": 10,
              "solidity": 0.2
             }
            },
            "type": "histogram"
           }
          ],
          "histogram2d": [
           {
            "colorbar": {
             "outlinewidth": 0,
             "ticks": ""
            },
            "colorscale": [
             [
              0,
              "#0d0887"
             ],
             [
              0.1111111111111111,
              "#46039f"
             ],
             [
              0.2222222222222222,
              "#7201a8"
             ],
             [
              0.3333333333333333,
              "#9c179e"
             ],
             [
              0.4444444444444444,
              "#bd3786"
             ],
             [
              0.5555555555555556,
              "#d8576b"
             ],
             [
              0.6666666666666666,
              "#ed7953"
             ],
             [
              0.7777777777777778,
              "#fb9f3a"
             ],
             [
              0.8888888888888888,
              "#fdca26"
             ],
             [
              1,
              "#f0f921"
             ]
            ],
            "type": "histogram2d"
           }
          ],
          "histogram2dcontour": [
           {
            "colorbar": {
             "outlinewidth": 0,
             "ticks": ""
            },
            "colorscale": [
             [
              0,
              "#0d0887"
             ],
             [
              0.1111111111111111,
              "#46039f"
             ],
             [
              0.2222222222222222,
              "#7201a8"
             ],
             [
              0.3333333333333333,
              "#9c179e"
             ],
             [
              0.4444444444444444,
              "#bd3786"
             ],
             [
              0.5555555555555556,
              "#d8576b"
             ],
             [
              0.6666666666666666,
              "#ed7953"
             ],
             [
              0.7777777777777778,
              "#fb9f3a"
             ],
             [
              0.8888888888888888,
              "#fdca26"
             ],
             [
              1,
              "#f0f921"
             ]
            ],
            "type": "histogram2dcontour"
           }
          ],
          "mesh3d": [
           {
            "colorbar": {
             "outlinewidth": 0,
             "ticks": ""
            },
            "type": "mesh3d"
           }
          ],
          "parcoords": [
           {
            "line": {
             "colorbar": {
              "outlinewidth": 0,
              "ticks": ""
             }
            },
            "type": "parcoords"
           }
          ],
          "pie": [
           {
            "automargin": true,
            "type": "pie"
           }
          ],
          "scatter": [
           {
            "fillpattern": {
             "fillmode": "overlay",
             "size": 10,
             "solidity": 0.2
            },
            "type": "scatter"
           }
          ],
          "scatter3d": [
           {
            "line": {
             "colorbar": {
              "outlinewidth": 0,
              "ticks": ""
             }
            },
            "marker": {
             "colorbar": {
              "outlinewidth": 0,
              "ticks": ""
             }
            },
            "type": "scatter3d"
           }
          ],
          "scattercarpet": [
           {
            "marker": {
             "colorbar": {
              "outlinewidth": 0,
              "ticks": ""
             }
            },
            "type": "scattercarpet"
           }
          ],
          "scattergeo": [
           {
            "marker": {
             "colorbar": {
              "outlinewidth": 0,
              "ticks": ""
             }
            },
            "type": "scattergeo"
           }
          ],
          "scattergl": [
           {
            "marker": {
             "colorbar": {
              "outlinewidth": 0,
              "ticks": ""
             }
            },
            "type": "scattergl"
           }
          ],
          "scattermapbox": [
           {
            "marker": {
             "colorbar": {
              "outlinewidth": 0,
              "ticks": ""
             }
            },
            "type": "scattermapbox"
           }
          ],
          "scatterpolar": [
           {
            "marker": {
             "colorbar": {
              "outlinewidth": 0,
              "ticks": ""
             }
            },
            "type": "scatterpolar"
           }
          ],
          "scatterpolargl": [
           {
            "marker": {
             "colorbar": {
              "outlinewidth": 0,
              "ticks": ""
             }
            },
            "type": "scatterpolargl"
           }
          ],
          "scatterternary": [
           {
            "marker": {
             "colorbar": {
              "outlinewidth": 0,
              "ticks": ""
             }
            },
            "type": "scatterternary"
           }
          ],
          "surface": [
           {
            "colorbar": {
             "outlinewidth": 0,
             "ticks": ""
            },
            "colorscale": [
             [
              0,
              "#0d0887"
             ],
             [
              0.1111111111111111,
              "#46039f"
             ],
             [
              0.2222222222222222,
              "#7201a8"
             ],
             [
              0.3333333333333333,
              "#9c179e"
             ],
             [
              0.4444444444444444,
              "#bd3786"
             ],
             [
              0.5555555555555556,
              "#d8576b"
             ],
             [
              0.6666666666666666,
              "#ed7953"
             ],
             [
              0.7777777777777778,
              "#fb9f3a"
             ],
             [
              0.8888888888888888,
              "#fdca26"
             ],
             [
              1,
              "#f0f921"
             ]
            ],
            "type": "surface"
           }
          ],
          "table": [
           {
            "cells": {
             "fill": {
              "color": "#EBF0F8"
             },
             "line": {
              "color": "white"
             }
            },
            "header": {
             "fill": {
              "color": "#C8D4E3"
             },
             "line": {
              "color": "white"
             }
            },
            "type": "table"
           }
          ]
         },
         "layout": {
          "annotationdefaults": {
           "arrowcolor": "#2a3f5f",
           "arrowhead": 0,
           "arrowwidth": 1
          },
          "autotypenumbers": "strict",
          "coloraxis": {
           "colorbar": {
            "outlinewidth": 0,
            "ticks": ""
           }
          },
          "colorscale": {
           "diverging": [
            [
             0,
             "#8e0152"
            ],
            [
             0.1,
             "#c51b7d"
            ],
            [
             0.2,
             "#de77ae"
            ],
            [
             0.3,
             "#f1b6da"
            ],
            [
             0.4,
             "#fde0ef"
            ],
            [
             0.5,
             "#f7f7f7"
            ],
            [
             0.6,
             "#e6f5d0"
            ],
            [
             0.7,
             "#b8e186"
            ],
            [
             0.8,
             "#7fbc41"
            ],
            [
             0.9,
             "#4d9221"
            ],
            [
             1,
             "#276419"
            ]
           ],
           "sequential": [
            [
             0,
             "#0d0887"
            ],
            [
             0.1111111111111111,
             "#46039f"
            ],
            [
             0.2222222222222222,
             "#7201a8"
            ],
            [
             0.3333333333333333,
             "#9c179e"
            ],
            [
             0.4444444444444444,
             "#bd3786"
            ],
            [
             0.5555555555555556,
             "#d8576b"
            ],
            [
             0.6666666666666666,
             "#ed7953"
            ],
            [
             0.7777777777777778,
             "#fb9f3a"
            ],
            [
             0.8888888888888888,
             "#fdca26"
            ],
            [
             1,
             "#f0f921"
            ]
           ],
           "sequentialminus": [
            [
             0,
             "#0d0887"
            ],
            [
             0.1111111111111111,
             "#46039f"
            ],
            [
             0.2222222222222222,
             "#7201a8"
            ],
            [
             0.3333333333333333,
             "#9c179e"
            ],
            [
             0.4444444444444444,
             "#bd3786"
            ],
            [
             0.5555555555555556,
             "#d8576b"
            ],
            [
             0.6666666666666666,
             "#ed7953"
            ],
            [
             0.7777777777777778,
             "#fb9f3a"
            ],
            [
             0.8888888888888888,
             "#fdca26"
            ],
            [
             1,
             "#f0f921"
            ]
           ]
          },
          "colorway": [
           "#636efa",
           "#EF553B",
           "#00cc96",
           "#ab63fa",
           "#FFA15A",
           "#19d3f3",
           "#FF6692",
           "#B6E880",
           "#FF97FF",
           "#FECB52"
          ],
          "font": {
           "color": "#2a3f5f"
          },
          "geo": {
           "bgcolor": "white",
           "lakecolor": "white",
           "landcolor": "#E5ECF6",
           "showlakes": true,
           "showland": true,
           "subunitcolor": "white"
          },
          "hoverlabel": {
           "align": "left"
          },
          "hovermode": "closest",
          "mapbox": {
           "style": "light"
          },
          "paper_bgcolor": "white",
          "plot_bgcolor": "#E5ECF6",
          "polar": {
           "angularaxis": {
            "gridcolor": "white",
            "linecolor": "white",
            "ticks": ""
           },
           "bgcolor": "#E5ECF6",
           "radialaxis": {
            "gridcolor": "white",
            "linecolor": "white",
            "ticks": ""
           }
          },
          "scene": {
           "xaxis": {
            "backgroundcolor": "#E5ECF6",
            "gridcolor": "white",
            "gridwidth": 2,
            "linecolor": "white",
            "showbackground": true,
            "ticks": "",
            "zerolinecolor": "white"
           },
           "yaxis": {
            "backgroundcolor": "#E5ECF6",
            "gridcolor": "white",
            "gridwidth": 2,
            "linecolor": "white",
            "showbackground": true,
            "ticks": "",
            "zerolinecolor": "white"
           },
           "zaxis": {
            "backgroundcolor": "#E5ECF6",
            "gridcolor": "white",
            "gridwidth": 2,
            "linecolor": "white",
            "showbackground": true,
            "ticks": "",
            "zerolinecolor": "white"
           }
          },
          "shapedefaults": {
           "line": {
            "color": "#2a3f5f"
           }
          },
          "ternary": {
           "aaxis": {
            "gridcolor": "white",
            "linecolor": "white",
            "ticks": ""
           },
           "baxis": {
            "gridcolor": "white",
            "linecolor": "white",
            "ticks": ""
           },
           "bgcolor": "#E5ECF6",
           "caxis": {
            "gridcolor": "white",
            "linecolor": "white",
            "ticks": ""
           }
          },
          "title": {
           "x": 0.05
          },
          "xaxis": {
           "automargin": true,
           "gridcolor": "white",
           "linecolor": "white",
           "ticks": "",
           "title": {
            "standoff": 15
           },
           "zerolinecolor": "white",
           "zerolinewidth": 2
          },
          "yaxis": {
           "automargin": true,
           "gridcolor": "white",
           "linecolor": "white",
           "ticks": "",
           "title": {
            "standoff": 15
           },
           "zerolinecolor": "white",
           "zerolinewidth": 2
          }
         }
        },
        "title": {
         "text": "Fixed broadband subscriptions (per 100 people)"
        },
        "xaxis": {
         "anchor": "y",
         "domain": [
          0,
          1
         ],
         "title": {
          "text": "Year"
         }
        },
        "yaxis": {
         "anchor": "x",
         "domain": [
          0,
          1
         ],
         "title": {
          "text": "Fixed broadband subscriptions"
         }
        }
       }
      }
     },
     "metadata": {},
     "output_type": "display_data"
    }
   ],
   "source": [
    "fig = px.line(df, x='Year', y='Fixed broadband subscriptions', title='Fixed broadband subscriptions (per 100 people)', color='Entity', symbol='Entity')\n",
    "fig.show()"
   ]
  },
  {
   "cell_type": "code",
   "execution_count": null,
   "metadata": {},
   "outputs": [],
   "source": []
  }
 ],
 "metadata": {
  "kernelspec": {
   "display_name": "Python 3",
   "language": "python",
   "name": "python3"
  },
  "language_info": {
   "codemirror_mode": {
    "name": "ipython",
    "version": 3
   },
   "file_extension": ".py",
   "mimetype": "text/x-python",
   "name": "python",
   "nbconvert_exporter": "python",
   "pygments_lexer": "ipython3",
   "version": "3.12.3"
  }
 },
 "nbformat": 4,
 "nbformat_minor": 2
}
